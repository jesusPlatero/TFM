{
 "cells": [
  {
   "cell_type": "markdown",
   "id": "2d302d80",
   "metadata": {},
   "source": [
    "# TFM: Aplicación de Modelo de Splines a series temporales financieras"
   ]
  },
  {
   "cell_type": "markdown",
   "id": "99e5e0bd",
   "metadata": {},
   "source": [
    "### Idea general de nuestro analisis :"
   ]
  },
  {
   "cell_type": "markdown",
   "id": "7a5f65a5",
   "metadata": {},
   "source": [
    "Un analisis exploratorio que se centra en predecir con modelos SPLINES la acción financiera de la empresa escogida la cual es NIKE junto con los rendimientos del mercado donde cotiza, que es S&P 500"
   ]
  },
  {
   "cell_type": "markdown",
   "id": "d548a211",
   "metadata": {},
   "source": [
    "# INDICE:\n",
    "    1.EDA DE LOS DATOS DE NIKE Y DEL S&P 500\n",
    "    \n",
    "    2.REGRESIONES LOS RENDIMIENTOS DE NIKE CON LOS DEL S&P500\n",
    "    \n",
    "        2.1. DIARIAS\n",
    "            2.1.1. MODELOS\n",
    "                2.1.1.1. REGRESION SIMPLE\n",
    "                2.1.1.2. POLYNOMIAL REGRESSION\n",
    "                2.1.1.3. CUBIC REGRESSION\n",
    "                2.1.1.4. NATURAL CUBIC REGRESION\n",
    "            2.1.2. CONCLUSIONES\n",
    "            \n",
    "        2.2. SEMANALES\n",
    "            2.2.1. MODELOS\n",
    "                2.2.1.1. REGRESION SIMPLE\n",
    "                2.2.1.2. POLYNOMIAL REGRESSION\n",
    "                2.2.1.3. CUBIC REGRESSION\n",
    "                2.2.1.4. NATURAL CUBIC REGRESION\n",
    "            2.2.2. CONCLUSIONES\n",
    "            \n",
    "        2.3. MENSUALES\n",
    "            2.3.1. MODELOS\n",
    "                2.3.1.1. REGRESION SIMPLE\n",
    "                2.3.1.2. POLYNOMIAL REGRESSION\n",
    "                2.3.1.3. CUBIC REGRESSION\n",
    "                2.3.1.4. NATURAL CUBIC REGRESION\n",
    "            2.3.2. CONCLUSIONES\n",
    "            \n",
    "    3.REGRESIONES DE LOS RENDIMIENTOS DE NIKE JUNTO CON LOS DE SMB, HML Y S&P500\n",
    "    \n",
    "        3.1. DIARIAS\n",
    "            3.1.1. MODELOS\n",
    "                3.1.1.1. REGRESION SIMPLE\n",
    "                3.1.1.2. POLYNOMIAL REGRESSION\n",
    "                3.1.1.3. CUBIC REGRESSION\n",
    "                3.1.1.4. NATURAL CUBIC REGRESION\n",
    "            3.2.2 CONCLUSIONES.\n",
    "            \n",
    "        3.2. SEMANALES\n",
    "            3.2.1. NULOS\n",
    "            3.2.2. MODELOS\n",
    "                3.2.2.1. REGRESION SIMPLE\n",
    "                3.2.2.2. POLYNOMIAL REGRESSION\n",
    "                3.2.2.3. CUBIC REGRESSION\n",
    "                3.2.2.4. NATURAL CUBIC REGRESION\n",
    "            3.2.4. CONCLUSIONES.\n",
    "            \n",
    "        3.3. MENSUALES\n",
    "            3.3.1. MODELOS\n",
    "                3.3.1.1. REGRESION SIMPLE\n",
    "                3.3.1.2. POLYNOMIAL REGRESSION\n",
    "                3.3.1.3. CUBIC REGRESSION\n",
    "                3.3.1.4. NATURAL CUBIC REGRESION\n",
    "            3.3.2. CONCLUSIONES.\n",
    "            "
   ]
  },
  {
   "cell_type": "markdown",
   "id": "05c2eede",
   "metadata": {},
   "source": [
    "## 1.EDA DE LOS DATOS DE NIKE Y DEL S&P 500"
   ]
  },
  {
   "cell_type": "markdown",
   "id": "a861f6ee",
   "metadata": {},
   "source": [
    "### Librerias"
   ]
  },
  {
   "cell_type": "code",
   "execution_count": 1,
   "id": "97cbb00b",
   "metadata": {},
   "outputs": [],
   "source": [
    "#IMPORTAR LIBRERIA\n",
    "\n",
    "import pandas as pd\n",
    "import numpy as np\n",
    "import seaborn as sns\n",
    "from matplotlib import pyplot as plt\n",
    "import plotly.express as px\n",
    "from matplotlib.pyplot import *\n",
    "from sklearn.impute import KNNImputer\n",
    "import scipy.stats as ss\n",
    "import warnings\n"
   ]
  },
  {
   "cell_type": "markdown",
   "id": "a1edd4b9",
   "metadata": {},
   "source": [
    "### Creacion de dataframes y verificacion de los datos a analizar dentro de los dataframes"
   ]
  },
  {
   "cell_type": "markdown",
   "id": "2c45452a",
   "metadata": {},
   "source": [
    "Creamos un dataframe el cual tiene el conjunto de datos que se van a utilizar para training."
   ]
  },
  {
   "cell_type": "code",
   "execution_count": 2,
   "id": "c2f71fa5",
   "metadata": {},
   "outputs": [
    {
     "data": {
      "text/plain": [
       "(3276, 7)"
      ]
     },
     "execution_count": 2,
     "metadata": {},
     "output_type": "execute_result"
    }
   ],
   "source": [
    "#Importamos los datos al notebook y comprobamos la dimension de nuestros datos.\n",
    "pd_data = pd.read_csv(\"../TFMcodigo/data/raw/NKE.csv\",sep =',')\n",
    "pd_data.shape"
   ]
  },
  {
   "cell_type": "code",
   "execution_count": 3,
   "id": "ac92738f",
   "metadata": {},
   "outputs": [
    {
     "data": {
      "text/html": [
       "<div>\n",
       "<style scoped>\n",
       "    .dataframe tbody tr th:only-of-type {\n",
       "        vertical-align: middle;\n",
       "    }\n",
       "\n",
       "    .dataframe tbody tr th {\n",
       "        vertical-align: top;\n",
       "    }\n",
       "\n",
       "    .dataframe thead th {\n",
       "        text-align: right;\n",
       "    }\n",
       "</style>\n",
       "<table border=\"1\" class=\"dataframe\">\n",
       "  <thead>\n",
       "    <tr style=\"text-align: right;\">\n",
       "      <th></th>\n",
       "      <th>Date</th>\n",
       "      <th>Open</th>\n",
       "      <th>High</th>\n",
       "      <th>Low</th>\n",
       "      <th>Close</th>\n",
       "      <th>Adj Close</th>\n",
       "      <th>Volume</th>\n",
       "    </tr>\n",
       "  </thead>\n",
       "  <tbody>\n",
       "    <tr>\n",
       "      <th>0</th>\n",
       "      <td>2010-02-22</td>\n",
       "      <td>16.142500</td>\n",
       "      <td>16.192499</td>\n",
       "      <td>16.007500</td>\n",
       "      <td>16.077499</td>\n",
       "      <td>13.766811</td>\n",
       "      <td>6864800</td>\n",
       "    </tr>\n",
       "    <tr>\n",
       "      <th>1</th>\n",
       "      <td>2010-02-23</td>\n",
       "      <td>16.075001</td>\n",
       "      <td>16.137501</td>\n",
       "      <td>15.902500</td>\n",
       "      <td>16.032499</td>\n",
       "      <td>13.728276</td>\n",
       "      <td>7738800</td>\n",
       "    </tr>\n",
       "    <tr>\n",
       "      <th>2</th>\n",
       "      <td>2010-02-24</td>\n",
       "      <td>16.000000</td>\n",
       "      <td>16.254999</td>\n",
       "      <td>16.000000</td>\n",
       "      <td>16.232500</td>\n",
       "      <td>13.899527</td>\n",
       "      <td>11618000</td>\n",
       "    </tr>\n",
       "    <tr>\n",
       "      <th>3</th>\n",
       "      <td>2010-02-25</td>\n",
       "      <td>16.252501</td>\n",
       "      <td>16.570000</td>\n",
       "      <td>16.002501</td>\n",
       "      <td>16.540001</td>\n",
       "      <td>14.162837</td>\n",
       "      <td>15967600</td>\n",
       "    </tr>\n",
       "    <tr>\n",
       "      <th>4</th>\n",
       "      <td>2010-02-26</td>\n",
       "      <td>16.557501</td>\n",
       "      <td>16.962500</td>\n",
       "      <td>16.557501</td>\n",
       "      <td>16.900000</td>\n",
       "      <td>14.471098</td>\n",
       "      <td>19633200</td>\n",
       "    </tr>\n",
       "  </tbody>\n",
       "</table>\n",
       "</div>"
      ],
      "text/plain": [
       "         Date       Open       High        Low      Close  Adj Close    Volume\n",
       "0  2010-02-22  16.142500  16.192499  16.007500  16.077499  13.766811   6864800\n",
       "1  2010-02-23  16.075001  16.137501  15.902500  16.032499  13.728276   7738800\n",
       "2  2010-02-24  16.000000  16.254999  16.000000  16.232500  13.899527  11618000\n",
       "3  2010-02-25  16.252501  16.570000  16.002501  16.540001  14.162837  15967600\n",
       "4  2010-02-26  16.557501  16.962500  16.557501  16.900000  14.471098  19633200"
      ]
     },
     "execution_count": 3,
     "metadata": {},
     "output_type": "execute_result"
    }
   ],
   "source": [
    "pd_data.head()"
   ]
  },
  {
   "cell_type": "code",
   "execution_count": 4,
   "id": "664b12f0",
   "metadata": {},
   "outputs": [
    {
     "name": "stdout",
     "output_type": "stream",
     "text": [
      "<class 'pandas.core.frame.DataFrame'>\n",
      "RangeIndex: 3276 entries, 0 to 3275\n",
      "Data columns (total 7 columns):\n",
      " #   Column     Non-Null Count  Dtype  \n",
      "---  ------     --------------  -----  \n",
      " 0   Date       3276 non-null   object \n",
      " 1   Open       3276 non-null   float64\n",
      " 2   High       3276 non-null   float64\n",
      " 3   Low        3276 non-null   float64\n",
      " 4   Close      3276 non-null   float64\n",
      " 5   Adj Close  3276 non-null   float64\n",
      " 6   Volume     3276 non-null   int64  \n",
      "dtypes: float64(5), int64(1), object(1)\n",
      "memory usage: 179.3+ KB\n"
     ]
    }
   ],
   "source": [
    "# Verificamos el tipo de datos que se encuentra dentro de cada columna del dataframe, para verificar si categorias actuales\n",
    "# del dataset esten correctamente descritas para cada variable\n",
    "pd_data.info()"
   ]
  },
  {
   "cell_type": "markdown",
   "id": "d177abcf",
   "metadata": {},
   "source": [
    "Como vemos, los datos obtenidos al verificar las caracteristicas y los valores que se encuentran en el set de datos es que las variables estan clasificadas como float64, tambien tenemos la varaible date como objeto y la de volumen que es una variable entera o int64."
   ]
  },
  {
   "cell_type": "markdown",
   "id": "1a056148",
   "metadata": {},
   "source": [
    "### Verificación de datos duplicados y datos faltantes dentro del dataframe creado"
   ]
  },
  {
   "cell_type": "markdown",
   "id": "03479113",
   "metadata": {},
   "source": [
    "#### - Verificacion de filas duplicadas dentro del dataframe"
   ]
  },
  {
   "cell_type": "code",
   "execution_count": 5,
   "id": "ecd2bf95",
   "metadata": {},
   "outputs": [
    {
     "name": "stdout",
     "output_type": "stream",
     "text": [
      "(3276, 7) (3276, 7)\n"
     ]
    }
   ],
   "source": [
    "print(pd_data.shape, pd_data.drop_duplicates().shape)"
   ]
  },
  {
   "cell_type": "markdown",
   "id": "4bce7ccf",
   "metadata": {},
   "source": [
    "Podemos observar que no hay ninguna fila duplicada en nuestro dataFrame."
   ]
  },
  {
   "cell_type": "markdown",
   "id": "e95a8376",
   "metadata": {},
   "source": [
    "#### - Verificar de valores faltantes o nulos dentro del dataframe"
   ]
  },
  {
   "cell_type": "code",
   "execution_count": 6,
   "id": "754be9dc",
   "metadata": {},
   "outputs": [
    {
     "data": {
      "text/html": [
       "<div>\n",
       "<style scoped>\n",
       "    .dataframe tbody tr th:only-of-type {\n",
       "        vertical-align: middle;\n",
       "    }\n",
       "\n",
       "    .dataframe tbody tr th {\n",
       "        vertical-align: top;\n",
       "    }\n",
       "\n",
       "    .dataframe thead th {\n",
       "        text-align: right;\n",
       "    }\n",
       "</style>\n",
       "<table border=\"1\" class=\"dataframe\">\n",
       "  <thead>\n",
       "    <tr style=\"text-align: right;\">\n",
       "      <th></th>\n",
       "      <th>index</th>\n",
       "      <th>null_values</th>\n",
       "    </tr>\n",
       "  </thead>\n",
       "  <tbody>\n",
       "    <tr>\n",
       "      <th>0</th>\n",
       "      <td>Date</td>\n",
       "      <td>0</td>\n",
       "    </tr>\n",
       "    <tr>\n",
       "      <th>1</th>\n",
       "      <td>Open</td>\n",
       "      <td>0</td>\n",
       "    </tr>\n",
       "    <tr>\n",
       "      <th>2</th>\n",
       "      <td>High</td>\n",
       "      <td>0</td>\n",
       "    </tr>\n",
       "    <tr>\n",
       "      <th>3</th>\n",
       "      <td>Low</td>\n",
       "      <td>0</td>\n",
       "    </tr>\n",
       "    <tr>\n",
       "      <th>4</th>\n",
       "      <td>Close</td>\n",
       "      <td>0</td>\n",
       "    </tr>\n",
       "    <tr>\n",
       "      <th>5</th>\n",
       "      <td>Adj Close</td>\n",
       "      <td>0</td>\n",
       "    </tr>\n",
       "    <tr>\n",
       "      <th>6</th>\n",
       "      <td>Volume</td>\n",
       "      <td>0</td>\n",
       "    </tr>\n",
       "  </tbody>\n",
       "</table>\n",
       "</div>"
      ],
      "text/plain": [
       "       index  null_values\n",
       "0       Date            0\n",
       "1       Open            0\n",
       "2       High            0\n",
       "3        Low            0\n",
       "4      Close            0\n",
       "5  Adj Close            0\n",
       "6     Volume            0"
      ]
     },
     "execution_count": 6,
     "metadata": {},
     "output_type": "execute_result"
    }
   ],
   "source": [
    "#Verificacion de columnas con valores faltantes\n",
    "null_columns=pd_data.isnull().sum().sort_values(ascending=False).rename(\"null_values\").reset_index()\n",
    "null_columns"
   ]
  },
  {
   "cell_type": "markdown",
   "id": "bf89c229",
   "metadata": {},
   "source": [
    "Aseguramos que no hay ningún valor nulo o faltante."
   ]
  },
  {
   "cell_type": "code",
   "execution_count": 7,
   "id": "bd77661c",
   "metadata": {},
   "outputs": [
    {
     "data": {
      "text/plain": [
       "(3276,)"
      ]
     },
     "execution_count": 7,
     "metadata": {},
     "output_type": "execute_result"
    }
   ],
   "source": [
    "#Verificacion de filas con valores faltantes\n",
    "null_rows=pd_data.isnull().sum(axis = 1).sort_values(ascending=False)#.rename(\"null_values\").reset_index()\n",
    "null_rows.shape"
   ]
  },
  {
   "cell_type": "markdown",
   "id": "63435a22",
   "metadata": {},
   "source": [
    "Segun el analisis de nulos, se puede ver que en el dataset no existe ningun dato nulo ni en las filas ni en las columnas, que tenga que ser tratado en este analisis exploratorio de datos"
   ]
  },
  {
   "cell_type": "markdown",
   "id": "1a6b79b6",
   "metadata": {},
   "source": [
    "### EDA de los datos de S&P500"
   ]
  },
  {
   "cell_type": "code",
   "execution_count": 8,
   "id": "8ecb23f6",
   "metadata": {},
   "outputs": [
    {
     "data": {
      "text/html": [
       "<div>\n",
       "<style scoped>\n",
       "    .dataframe tbody tr th:only-of-type {\n",
       "        vertical-align: middle;\n",
       "    }\n",
       "\n",
       "    .dataframe tbody tr th {\n",
       "        vertical-align: top;\n",
       "    }\n",
       "\n",
       "    .dataframe thead th {\n",
       "        text-align: right;\n",
       "    }\n",
       "</style>\n",
       "<table border=\"1\" class=\"dataframe\">\n",
       "  <thead>\n",
       "    <tr style=\"text-align: right;\">\n",
       "      <th></th>\n",
       "      <th>Fecha</th>\n",
       "      <th>Abrir</th>\n",
       "      <th>Máx.</th>\n",
       "      <th>Mín.</th>\n",
       "      <th>Cierre</th>\n",
       "      <th>Cierre ajus.</th>\n",
       "      <th>Volumen</th>\n",
       "    </tr>\n",
       "  </thead>\n",
       "  <tbody>\n",
       "    <tr>\n",
       "      <th>0</th>\n",
       "      <td>2010-02-22</td>\n",
       "      <td>1110.00</td>\n",
       "      <td>1112.29</td>\n",
       "      <td>1105.38</td>\n",
       "      <td>1108.01</td>\n",
       "      <td>1108.01</td>\n",
       "      <td>3814440000</td>\n",
       "    </tr>\n",
       "    <tr>\n",
       "      <th>1</th>\n",
       "      <td>2010-02-23</td>\n",
       "      <td>1107.49</td>\n",
       "      <td>1108.58</td>\n",
       "      <td>1092.18</td>\n",
       "      <td>1094.60</td>\n",
       "      <td>1094.60</td>\n",
       "      <td>4521050000</td>\n",
       "    </tr>\n",
       "    <tr>\n",
       "      <th>2</th>\n",
       "      <td>2010-02-24</td>\n",
       "      <td>1095.89</td>\n",
       "      <td>1106.42</td>\n",
       "      <td>1095.50</td>\n",
       "      <td>1105.24</td>\n",
       "      <td>1105.24</td>\n",
       "      <td>4168360000</td>\n",
       "    </tr>\n",
       "    <tr>\n",
       "      <th>3</th>\n",
       "      <td>2010-02-25</td>\n",
       "      <td>1101.24</td>\n",
       "      <td>1103.50</td>\n",
       "      <td>1086.02</td>\n",
       "      <td>1102.94</td>\n",
       "      <td>1102.94</td>\n",
       "      <td>4521130000</td>\n",
       "    </tr>\n",
       "    <tr>\n",
       "      <th>4</th>\n",
       "      <td>2010-02-26</td>\n",
       "      <td>1103.10</td>\n",
       "      <td>1107.24</td>\n",
       "      <td>1097.56</td>\n",
       "      <td>1104.49</td>\n",
       "      <td>1104.49</td>\n",
       "      <td>3945190000</td>\n",
       "    </tr>\n",
       "  </tbody>\n",
       "</table>\n",
       "</div>"
      ],
      "text/plain": [
       "       Fecha    Abrir     Máx.     Mín.   Cierre  Cierre ajus.     Volumen\n",
       "0 2010-02-22  1110.00  1112.29  1105.38  1108.01       1108.01  3814440000\n",
       "1 2010-02-23  1107.49  1108.58  1092.18  1094.60       1094.60  4521050000\n",
       "2 2010-02-24  1095.89  1106.42  1095.50  1105.24       1105.24  4168360000\n",
       "3 2010-02-25  1101.24  1103.50  1086.02  1102.94       1102.94  4521130000\n",
       "4 2010-02-26  1103.10  1107.24  1097.56  1104.49       1104.49  3945190000"
      ]
     },
     "execution_count": 8,
     "metadata": {},
     "output_type": "execute_result"
    }
   ],
   "source": [
    "#Cargamos el csv donde se encuentran los datos del S&P500.\n",
    "syp_data = pd.read_excel(\"../TFMcodigo/data/raw/syp500.xlsx\")\n",
    "syp_data.head()"
   ]
  },
  {
   "cell_type": "markdown",
   "id": "c2c477a7",
   "metadata": {},
   "source": [
    "### Verificación de datos duplicados y datos faltantes dentro del dataframe creado"
   ]
  },
  {
   "cell_type": "markdown",
   "id": "d171ad22",
   "metadata": {},
   "source": [
    "#### - Verificacion de filas duplicadas dentro del dataframe"
   ]
  },
  {
   "cell_type": "code",
   "execution_count": 9,
   "id": "85fbdac7",
   "metadata": {},
   "outputs": [
    {
     "name": "stdout",
     "output_type": "stream",
     "text": [
      "(3276, 7) (3276, 7)\n"
     ]
    }
   ],
   "source": [
    "print(syp_data.shape, syp_data.drop_duplicates().shape)"
   ]
  },
  {
   "cell_type": "markdown",
   "id": "1439bb63",
   "metadata": {},
   "source": [
    "No hay duplicados"
   ]
  },
  {
   "cell_type": "markdown",
   "id": "b6072e88",
   "metadata": {},
   "source": [
    "#### - Verificar de valores faltantes o nulos dentro del dataframe"
   ]
  },
  {
   "cell_type": "code",
   "execution_count": 10,
   "id": "df9701bb",
   "metadata": {},
   "outputs": [
    {
     "data": {
      "text/html": [
       "<div>\n",
       "<style scoped>\n",
       "    .dataframe tbody tr th:only-of-type {\n",
       "        vertical-align: middle;\n",
       "    }\n",
       "\n",
       "    .dataframe tbody tr th {\n",
       "        vertical-align: top;\n",
       "    }\n",
       "\n",
       "    .dataframe thead th {\n",
       "        text-align: right;\n",
       "    }\n",
       "</style>\n",
       "<table border=\"1\" class=\"dataframe\">\n",
       "  <thead>\n",
       "    <tr style=\"text-align: right;\">\n",
       "      <th></th>\n",
       "      <th>index</th>\n",
       "      <th>null_values</th>\n",
       "    </tr>\n",
       "  </thead>\n",
       "  <tbody>\n",
       "    <tr>\n",
       "      <th>0</th>\n",
       "      <td>Fecha</td>\n",
       "      <td>0</td>\n",
       "    </tr>\n",
       "    <tr>\n",
       "      <th>1</th>\n",
       "      <td>Abrir</td>\n",
       "      <td>0</td>\n",
       "    </tr>\n",
       "    <tr>\n",
       "      <th>2</th>\n",
       "      <td>Máx.</td>\n",
       "      <td>0</td>\n",
       "    </tr>\n",
       "    <tr>\n",
       "      <th>3</th>\n",
       "      <td>Mín.</td>\n",
       "      <td>0</td>\n",
       "    </tr>\n",
       "    <tr>\n",
       "      <th>4</th>\n",
       "      <td>Cierre</td>\n",
       "      <td>0</td>\n",
       "    </tr>\n",
       "    <tr>\n",
       "      <th>5</th>\n",
       "      <td>Cierre ajus.</td>\n",
       "      <td>0</td>\n",
       "    </tr>\n",
       "    <tr>\n",
       "      <th>6</th>\n",
       "      <td>Volumen</td>\n",
       "      <td>0</td>\n",
       "    </tr>\n",
       "  </tbody>\n",
       "</table>\n",
       "</div>"
      ],
      "text/plain": [
       "          index  null_values\n",
       "0         Fecha            0\n",
       "1         Abrir            0\n",
       "2          Máx.            0\n",
       "3          Mín.            0\n",
       "4        Cierre            0\n",
       "5  Cierre ajus.            0\n",
       "6       Volumen            0"
      ]
     },
     "execution_count": 10,
     "metadata": {},
     "output_type": "execute_result"
    }
   ],
   "source": [
    "#Verificacion de columnas con valores faltantes\n",
    "null_columns=syp_data.isnull().sum().sort_values(ascending=False).rename(\"null_values\").reset_index()\n",
    "null_columns"
   ]
  },
  {
   "cell_type": "markdown",
   "id": "e9e307e5",
   "metadata": {},
   "source": [
    "no hay valores nulos o faltantes"
   ]
  },
  {
   "cell_type": "markdown",
   "id": "9ae1deb0",
   "metadata": {},
   "source": [
    "### MEDIMOS LOS RENDIMIENTOS DIARIOS DE S&P 500"
   ]
  },
  {
   "cell_type": "code",
   "execution_count": 11,
   "id": "f54fed07",
   "metadata": {},
   "outputs": [
    {
     "data": {
      "text/html": [
       "<div>\n",
       "<style scoped>\n",
       "    .dataframe tbody tr th:only-of-type {\n",
       "        vertical-align: middle;\n",
       "    }\n",
       "\n",
       "    .dataframe tbody tr th {\n",
       "        vertical-align: top;\n",
       "    }\n",
       "\n",
       "    .dataframe thead th {\n",
       "        text-align: right;\n",
       "    }\n",
       "</style>\n",
       "<table border=\"1\" class=\"dataframe\">\n",
       "  <thead>\n",
       "    <tr style=\"text-align: right;\">\n",
       "      <th></th>\n",
       "      <th>Fecha</th>\n",
       "      <th>Abrir</th>\n",
       "      <th>Máx.</th>\n",
       "      <th>Mín.</th>\n",
       "      <th>Cierre</th>\n",
       "      <th>Cierre ajus.</th>\n",
       "      <th>Volumen</th>\n",
       "      <th>rendimientos</th>\n",
       "    </tr>\n",
       "  </thead>\n",
       "  <tbody>\n",
       "    <tr>\n",
       "      <th>0</th>\n",
       "      <td>2010-02-22</td>\n",
       "      <td>1110.00</td>\n",
       "      <td>1112.29</td>\n",
       "      <td>1105.38</td>\n",
       "      <td>1108.01</td>\n",
       "      <td>1108.01</td>\n",
       "      <td>3814440000</td>\n",
       "      <td>NaN</td>\n",
       "    </tr>\n",
       "    <tr>\n",
       "      <th>1</th>\n",
       "      <td>2010-02-23</td>\n",
       "      <td>1107.49</td>\n",
       "      <td>1108.58</td>\n",
       "      <td>1092.18</td>\n",
       "      <td>1094.60</td>\n",
       "      <td>1094.60</td>\n",
       "      <td>4521050000</td>\n",
       "      <td>-0.012177</td>\n",
       "    </tr>\n",
       "    <tr>\n",
       "      <th>2</th>\n",
       "      <td>2010-02-24</td>\n",
       "      <td>1095.89</td>\n",
       "      <td>1106.42</td>\n",
       "      <td>1095.50</td>\n",
       "      <td>1105.24</td>\n",
       "      <td>1105.24</td>\n",
       "      <td>4168360000</td>\n",
       "      <td>0.009674</td>\n",
       "    </tr>\n",
       "    <tr>\n",
       "      <th>3</th>\n",
       "      <td>2010-02-25</td>\n",
       "      <td>1101.24</td>\n",
       "      <td>1103.50</td>\n",
       "      <td>1086.02</td>\n",
       "      <td>1102.94</td>\n",
       "      <td>1102.94</td>\n",
       "      <td>4521130000</td>\n",
       "      <td>-0.002083</td>\n",
       "    </tr>\n",
       "    <tr>\n",
       "      <th>4</th>\n",
       "      <td>2010-02-26</td>\n",
       "      <td>1103.10</td>\n",
       "      <td>1107.24</td>\n",
       "      <td>1097.56</td>\n",
       "      <td>1104.49</td>\n",
       "      <td>1104.49</td>\n",
       "      <td>3945190000</td>\n",
       "      <td>0.001404</td>\n",
       "    </tr>\n",
       "  </tbody>\n",
       "</table>\n",
       "</div>"
      ],
      "text/plain": [
       "       Fecha    Abrir     Máx.     Mín.   Cierre  Cierre ajus.     Volumen  \\\n",
       "0 2010-02-22  1110.00  1112.29  1105.38  1108.01       1108.01  3814440000   \n",
       "1 2010-02-23  1107.49  1108.58  1092.18  1094.60       1094.60  4521050000   \n",
       "2 2010-02-24  1095.89  1106.42  1095.50  1105.24       1105.24  4168360000   \n",
       "3 2010-02-25  1101.24  1103.50  1086.02  1102.94       1102.94  4521130000   \n",
       "4 2010-02-26  1103.10  1107.24  1097.56  1104.49       1104.49  3945190000   \n",
       "\n",
       "   rendimientos  \n",
       "0           NaN  \n",
       "1     -0.012177  \n",
       "2      0.009674  \n",
       "3     -0.002083  \n",
       "4      0.001404  "
      ]
     },
     "execution_count": 11,
     "metadata": {},
     "output_type": "execute_result"
    }
   ],
   "source": [
    "syp_data['rendimientos'] = np.log(syp_data['Cierre'] / syp_data['Cierre'].shift(1))\n",
    "syp_data.head()"
   ]
  },
  {
   "cell_type": "code",
   "execution_count": 12,
   "id": "8c7ea4d6",
   "metadata": {},
   "outputs": [
    {
     "data": {
      "text/html": [
       "<div>\n",
       "<style scoped>\n",
       "    .dataframe tbody tr th:only-of-type {\n",
       "        vertical-align: middle;\n",
       "    }\n",
       "\n",
       "    .dataframe tbody tr th {\n",
       "        vertical-align: top;\n",
       "    }\n",
       "\n",
       "    .dataframe thead th {\n",
       "        text-align: right;\n",
       "    }\n",
       "</style>\n",
       "<table border=\"1\" class=\"dataframe\">\n",
       "  <thead>\n",
       "    <tr style=\"text-align: right;\">\n",
       "      <th></th>\n",
       "      <th>Fecha</th>\n",
       "      <th>Abrir</th>\n",
       "      <th>Máx.</th>\n",
       "      <th>Mín.</th>\n",
       "      <th>Cierre</th>\n",
       "      <th>Cierre ajus.</th>\n",
       "      <th>Volumen</th>\n",
       "      <th>rendimientos</th>\n",
       "    </tr>\n",
       "  </thead>\n",
       "  <tbody>\n",
       "    <tr>\n",
       "      <th>0</th>\n",
       "      <td>2010-02-22</td>\n",
       "      <td>1110.00</td>\n",
       "      <td>1112.29</td>\n",
       "      <td>1105.38</td>\n",
       "      <td>1108.01</td>\n",
       "      <td>1108.01</td>\n",
       "      <td>3814440000</td>\n",
       "      <td>0.000394</td>\n",
       "    </tr>\n",
       "    <tr>\n",
       "      <th>1</th>\n",
       "      <td>2010-02-23</td>\n",
       "      <td>1107.49</td>\n",
       "      <td>1108.58</td>\n",
       "      <td>1092.18</td>\n",
       "      <td>1094.60</td>\n",
       "      <td>1094.60</td>\n",
       "      <td>4521050000</td>\n",
       "      <td>-0.012177</td>\n",
       "    </tr>\n",
       "    <tr>\n",
       "      <th>2</th>\n",
       "      <td>2010-02-24</td>\n",
       "      <td>1095.89</td>\n",
       "      <td>1106.42</td>\n",
       "      <td>1095.50</td>\n",
       "      <td>1105.24</td>\n",
       "      <td>1105.24</td>\n",
       "      <td>4168360000</td>\n",
       "      <td>0.009674</td>\n",
       "    </tr>\n",
       "    <tr>\n",
       "      <th>3</th>\n",
       "      <td>2010-02-25</td>\n",
       "      <td>1101.24</td>\n",
       "      <td>1103.50</td>\n",
       "      <td>1086.02</td>\n",
       "      <td>1102.94</td>\n",
       "      <td>1102.94</td>\n",
       "      <td>4521130000</td>\n",
       "      <td>-0.002083</td>\n",
       "    </tr>\n",
       "    <tr>\n",
       "      <th>4</th>\n",
       "      <td>2010-02-26</td>\n",
       "      <td>1103.10</td>\n",
       "      <td>1107.24</td>\n",
       "      <td>1097.56</td>\n",
       "      <td>1104.49</td>\n",
       "      <td>1104.49</td>\n",
       "      <td>3945190000</td>\n",
       "      <td>0.001404</td>\n",
       "    </tr>\n",
       "  </tbody>\n",
       "</table>\n",
       "</div>"
      ],
      "text/plain": [
       "       Fecha    Abrir     Máx.     Mín.   Cierre  Cierre ajus.     Volumen  \\\n",
       "0 2010-02-22  1110.00  1112.29  1105.38  1108.01       1108.01  3814440000   \n",
       "1 2010-02-23  1107.49  1108.58  1092.18  1094.60       1094.60  4521050000   \n",
       "2 2010-02-24  1095.89  1106.42  1095.50  1105.24       1105.24  4168360000   \n",
       "3 2010-02-25  1101.24  1103.50  1086.02  1102.94       1102.94  4521130000   \n",
       "4 2010-02-26  1103.10  1107.24  1097.56  1104.49       1104.49  3945190000   \n",
       "\n",
       "   rendimientos  \n",
       "0      0.000394  \n",
       "1     -0.012177  \n",
       "2      0.009674  \n",
       "3     -0.002083  \n",
       "4      0.001404  "
      ]
     },
     "execution_count": 12,
     "metadata": {},
     "output_type": "execute_result"
    }
   ],
   "source": [
    "# Calcular la media de los rendimientos\n",
    "media_rendimientos = syp_data['rendimientos'].mean()\n",
    "\n",
    "# Rellenar el valor NaN con la media de los rendimientos\n",
    "syp_data['rendimientos'] = syp_data['rendimientos'].fillna(media_rendimientos)\n",
    "syp_data.head()"
   ]
  },
  {
   "cell_type": "code",
   "execution_count": 13,
   "id": "b4cccb85",
   "metadata": {},
   "outputs": [],
   "source": [
    "#syp_data.to_csv('syp_data.csv')"
   ]
  },
  {
   "cell_type": "markdown",
   "id": "a9b5257c",
   "metadata": {},
   "source": [
    "### SACAMOS LOS RENDIMIENTOS DIARIOS DEL PRECIO DE CIERRE DE LAS ACCIONES DE NIKE"
   ]
  },
  {
   "cell_type": "code",
   "execution_count": 14,
   "id": "9448a33f",
   "metadata": {},
   "outputs": [
    {
     "data": {
      "text/html": [
       "<div>\n",
       "<style scoped>\n",
       "    .dataframe tbody tr th:only-of-type {\n",
       "        vertical-align: middle;\n",
       "    }\n",
       "\n",
       "    .dataframe tbody tr th {\n",
       "        vertical-align: top;\n",
       "    }\n",
       "\n",
       "    .dataframe thead th {\n",
       "        text-align: right;\n",
       "    }\n",
       "</style>\n",
       "<table border=\"1\" class=\"dataframe\">\n",
       "  <thead>\n",
       "    <tr style=\"text-align: right;\">\n",
       "      <th></th>\n",
       "      <th>Date</th>\n",
       "      <th>Open</th>\n",
       "      <th>High</th>\n",
       "      <th>Low</th>\n",
       "      <th>Close</th>\n",
       "      <th>Adj Close</th>\n",
       "      <th>Volume</th>\n",
       "      <th>rendimientosNIKE</th>\n",
       "    </tr>\n",
       "  </thead>\n",
       "  <tbody>\n",
       "    <tr>\n",
       "      <th>0</th>\n",
       "      <td>2010-02-22</td>\n",
       "      <td>16.142500</td>\n",
       "      <td>16.192499</td>\n",
       "      <td>16.007500</td>\n",
       "      <td>16.077499</td>\n",
       "      <td>13.766811</td>\n",
       "      <td>6864800</td>\n",
       "      <td>NaN</td>\n",
       "    </tr>\n",
       "    <tr>\n",
       "      <th>1</th>\n",
       "      <td>2010-02-23</td>\n",
       "      <td>16.075001</td>\n",
       "      <td>16.137501</td>\n",
       "      <td>15.902500</td>\n",
       "      <td>16.032499</td>\n",
       "      <td>13.728276</td>\n",
       "      <td>7738800</td>\n",
       "      <td>-0.002803</td>\n",
       "    </tr>\n",
       "    <tr>\n",
       "      <th>2</th>\n",
       "      <td>2010-02-24</td>\n",
       "      <td>16.000000</td>\n",
       "      <td>16.254999</td>\n",
       "      <td>16.000000</td>\n",
       "      <td>16.232500</td>\n",
       "      <td>13.899527</td>\n",
       "      <td>11618000</td>\n",
       "      <td>0.012398</td>\n",
       "    </tr>\n",
       "    <tr>\n",
       "      <th>3</th>\n",
       "      <td>2010-02-25</td>\n",
       "      <td>16.252501</td>\n",
       "      <td>16.570000</td>\n",
       "      <td>16.002501</td>\n",
       "      <td>16.540001</td>\n",
       "      <td>14.162837</td>\n",
       "      <td>15967600</td>\n",
       "      <td>0.018766</td>\n",
       "    </tr>\n",
       "    <tr>\n",
       "      <th>4</th>\n",
       "      <td>2010-02-26</td>\n",
       "      <td>16.557501</td>\n",
       "      <td>16.962500</td>\n",
       "      <td>16.557501</td>\n",
       "      <td>16.900000</td>\n",
       "      <td>14.471098</td>\n",
       "      <td>19633200</td>\n",
       "      <td>0.021532</td>\n",
       "    </tr>\n",
       "  </tbody>\n",
       "</table>\n",
       "</div>"
      ],
      "text/plain": [
       "         Date       Open       High        Low      Close  Adj Close  \\\n",
       "0  2010-02-22  16.142500  16.192499  16.007500  16.077499  13.766811   \n",
       "1  2010-02-23  16.075001  16.137501  15.902500  16.032499  13.728276   \n",
       "2  2010-02-24  16.000000  16.254999  16.000000  16.232500  13.899527   \n",
       "3  2010-02-25  16.252501  16.570000  16.002501  16.540001  14.162837   \n",
       "4  2010-02-26  16.557501  16.962500  16.557501  16.900000  14.471098   \n",
       "\n",
       "     Volume  rendimientosNIKE  \n",
       "0   6864800               NaN  \n",
       "1   7738800         -0.002803  \n",
       "2  11618000          0.012398  \n",
       "3  15967600          0.018766  \n",
       "4  19633200          0.021532  "
      ]
     },
     "execution_count": 14,
     "metadata": {},
     "output_type": "execute_result"
    }
   ],
   "source": [
    "pd_data['rendimientosNIKE'] = np.log(pd_data['Close'] / pd_data['Close'].shift(1))\n",
    "pd_data.head()"
   ]
  },
  {
   "cell_type": "code",
   "execution_count": 15,
   "id": "22cb324c",
   "metadata": {},
   "outputs": [
    {
     "data": {
      "text/html": [
       "<div>\n",
       "<style scoped>\n",
       "    .dataframe tbody tr th:only-of-type {\n",
       "        vertical-align: middle;\n",
       "    }\n",
       "\n",
       "    .dataframe tbody tr th {\n",
       "        vertical-align: top;\n",
       "    }\n",
       "\n",
       "    .dataframe thead th {\n",
       "        text-align: right;\n",
       "    }\n",
       "</style>\n",
       "<table border=\"1\" class=\"dataframe\">\n",
       "  <thead>\n",
       "    <tr style=\"text-align: right;\">\n",
       "      <th></th>\n",
       "      <th>Date</th>\n",
       "      <th>Open</th>\n",
       "      <th>High</th>\n",
       "      <th>Low</th>\n",
       "      <th>Close</th>\n",
       "      <th>Adj Close</th>\n",
       "      <th>Volume</th>\n",
       "      <th>rendimientosNIKE</th>\n",
       "    </tr>\n",
       "  </thead>\n",
       "  <tbody>\n",
       "    <tr>\n",
       "      <th>0</th>\n",
       "      <td>2010-02-22</td>\n",
       "      <td>16.142500</td>\n",
       "      <td>16.192499</td>\n",
       "      <td>16.007500</td>\n",
       "      <td>16.077499</td>\n",
       "      <td>13.766811</td>\n",
       "      <td>6864800</td>\n",
       "      <td>0.000609</td>\n",
       "    </tr>\n",
       "    <tr>\n",
       "      <th>1</th>\n",
       "      <td>2010-02-23</td>\n",
       "      <td>16.075001</td>\n",
       "      <td>16.137501</td>\n",
       "      <td>15.902500</td>\n",
       "      <td>16.032499</td>\n",
       "      <td>13.728276</td>\n",
       "      <td>7738800</td>\n",
       "      <td>-0.002803</td>\n",
       "    </tr>\n",
       "    <tr>\n",
       "      <th>2</th>\n",
       "      <td>2010-02-24</td>\n",
       "      <td>16.000000</td>\n",
       "      <td>16.254999</td>\n",
       "      <td>16.000000</td>\n",
       "      <td>16.232500</td>\n",
       "      <td>13.899527</td>\n",
       "      <td>11618000</td>\n",
       "      <td>0.012398</td>\n",
       "    </tr>\n",
       "    <tr>\n",
       "      <th>3</th>\n",
       "      <td>2010-02-25</td>\n",
       "      <td>16.252501</td>\n",
       "      <td>16.570000</td>\n",
       "      <td>16.002501</td>\n",
       "      <td>16.540001</td>\n",
       "      <td>14.162837</td>\n",
       "      <td>15967600</td>\n",
       "      <td>0.018766</td>\n",
       "    </tr>\n",
       "    <tr>\n",
       "      <th>4</th>\n",
       "      <td>2010-02-26</td>\n",
       "      <td>16.557501</td>\n",
       "      <td>16.962500</td>\n",
       "      <td>16.557501</td>\n",
       "      <td>16.900000</td>\n",
       "      <td>14.471098</td>\n",
       "      <td>19633200</td>\n",
       "      <td>0.021532</td>\n",
       "    </tr>\n",
       "  </tbody>\n",
       "</table>\n",
       "</div>"
      ],
      "text/plain": [
       "         Date       Open       High        Low      Close  Adj Close  \\\n",
       "0  2010-02-22  16.142500  16.192499  16.007500  16.077499  13.766811   \n",
       "1  2010-02-23  16.075001  16.137501  15.902500  16.032499  13.728276   \n",
       "2  2010-02-24  16.000000  16.254999  16.000000  16.232500  13.899527   \n",
       "3  2010-02-25  16.252501  16.570000  16.002501  16.540001  14.162837   \n",
       "4  2010-02-26  16.557501  16.962500  16.557501  16.900000  14.471098   \n",
       "\n",
       "     Volume  rendimientosNIKE  \n",
       "0   6864800          0.000609  \n",
       "1   7738800         -0.002803  \n",
       "2  11618000          0.012398  \n",
       "3  15967600          0.018766  \n",
       "4  19633200          0.021532  "
      ]
     },
     "execution_count": 15,
     "metadata": {},
     "output_type": "execute_result"
    }
   ],
   "source": [
    "# Calcular la media de los rendimientos\n",
    "media_rendimientos_pd = pd_data['rendimientosNIKE'].mean()\n",
    "\n",
    "# Rellenar el valor NaN con la media de los rendimientos\n",
    "pd_data['rendimientosNIKE'] = pd_data['rendimientosNIKE'].fillna(media_rendimientos_pd)\n",
    "pd_data.head()"
   ]
  },
  {
   "cell_type": "code",
   "execution_count": 16,
   "id": "341b87a9",
   "metadata": {},
   "outputs": [],
   "source": [
    "#pd_data.to_csv('pd_data.csv')"
   ]
  },
  {
   "cell_type": "markdown",
   "id": "a0fa237f",
   "metadata": {},
   "source": [
    "# 2.REGRESIONES LOS RENDIMIENTOS DE NIKE CON LOS DEL S&P500"
   ]
  },
  {
   "cell_type": "markdown",
   "id": "dd00e5e8",
   "metadata": {},
   "source": [
    "## 2.1. REGRESIONES DIARIA con s&p 500"
   ]
  },
  {
   "cell_type": "code",
   "execution_count": 17,
   "id": "4daf9564",
   "metadata": {},
   "outputs": [],
   "source": [
    "X = syp_data[['rendimientos']]#x = sp500, SMB, HML estas somn los splines \n",
    "y = pd_data[['rendimientosNIKE']] #NIKE es la y"
   ]
  },
  {
   "cell_type": "code",
   "execution_count": 18,
   "id": "82355e77",
   "metadata": {},
   "outputs": [],
   "source": [
    "#Dividimos el data frame en train y test, donde el train es un 70% de los datos totales\n",
    "from sklearn.model_selection import train_test_split\n",
    "\n",
    "X_train, X_test, y_train, y_test = train_test_split(X, y, test_size=0.3, random_state = 1)"
   ]
  },
  {
   "cell_type": "markdown",
   "id": "20c24958",
   "metadata": {},
   "source": [
    "## 2.1.1. MODELOS"
   ]
  },
  {
   "cell_type": "markdown",
   "id": "c4049d5c",
   "metadata": {},
   "source": [
    "### 2.1.1.1. REGRESION SIMPLE"
   ]
  },
  {
   "cell_type": "code",
   "execution_count": 19,
   "id": "5c5e3475",
   "metadata": {},
   "outputs": [
    {
     "data": {
      "text/html": [
       "<style>#sk-container-id-1 {color: black;background-color: white;}#sk-container-id-1 pre{padding: 0;}#sk-container-id-1 div.sk-toggleable {background-color: white;}#sk-container-id-1 label.sk-toggleable__label {cursor: pointer;display: block;width: 100%;margin-bottom: 0;padding: 0.3em;box-sizing: border-box;text-align: center;}#sk-container-id-1 label.sk-toggleable__label-arrow:before {content: \"▸\";float: left;margin-right: 0.25em;color: #696969;}#sk-container-id-1 label.sk-toggleable__label-arrow:hover:before {color: black;}#sk-container-id-1 div.sk-estimator:hover label.sk-toggleable__label-arrow:before {color: black;}#sk-container-id-1 div.sk-toggleable__content {max-height: 0;max-width: 0;overflow: hidden;text-align: left;background-color: #f0f8ff;}#sk-container-id-1 div.sk-toggleable__content pre {margin: 0.2em;color: black;border-radius: 0.25em;background-color: #f0f8ff;}#sk-container-id-1 input.sk-toggleable__control:checked~div.sk-toggleable__content {max-height: 200px;max-width: 100%;overflow: auto;}#sk-container-id-1 input.sk-toggleable__control:checked~label.sk-toggleable__label-arrow:before {content: \"▾\";}#sk-container-id-1 div.sk-estimator input.sk-toggleable__control:checked~label.sk-toggleable__label {background-color: #d4ebff;}#sk-container-id-1 div.sk-label input.sk-toggleable__control:checked~label.sk-toggleable__label {background-color: #d4ebff;}#sk-container-id-1 input.sk-hidden--visually {border: 0;clip: rect(1px 1px 1px 1px);clip: rect(1px, 1px, 1px, 1px);height: 1px;margin: -1px;overflow: hidden;padding: 0;position: absolute;width: 1px;}#sk-container-id-1 div.sk-estimator {font-family: monospace;background-color: #f0f8ff;border: 1px dotted black;border-radius: 0.25em;box-sizing: border-box;margin-bottom: 0.5em;}#sk-container-id-1 div.sk-estimator:hover {background-color: #d4ebff;}#sk-container-id-1 div.sk-parallel-item::after {content: \"\";width: 100%;border-bottom: 1px solid gray;flex-grow: 1;}#sk-container-id-1 div.sk-label:hover label.sk-toggleable__label {background-color: #d4ebff;}#sk-container-id-1 div.sk-serial::before {content: \"\";position: absolute;border-left: 1px solid gray;box-sizing: border-box;top: 0;bottom: 0;left: 50%;z-index: 0;}#sk-container-id-1 div.sk-serial {display: flex;flex-direction: column;align-items: center;background-color: white;padding-right: 0.2em;padding-left: 0.2em;position: relative;}#sk-container-id-1 div.sk-item {position: relative;z-index: 1;}#sk-container-id-1 div.sk-parallel {display: flex;align-items: stretch;justify-content: center;background-color: white;position: relative;}#sk-container-id-1 div.sk-item::before, #sk-container-id-1 div.sk-parallel-item::before {content: \"\";position: absolute;border-left: 1px solid gray;box-sizing: border-box;top: 0;bottom: 0;left: 50%;z-index: -1;}#sk-container-id-1 div.sk-parallel-item {display: flex;flex-direction: column;z-index: 1;position: relative;background-color: white;}#sk-container-id-1 div.sk-parallel-item:first-child::after {align-self: flex-end;width: 50%;}#sk-container-id-1 div.sk-parallel-item:last-child::after {align-self: flex-start;width: 50%;}#sk-container-id-1 div.sk-parallel-item:only-child::after {width: 0;}#sk-container-id-1 div.sk-dashed-wrapped {border: 1px dashed gray;margin: 0 0.4em 0.5em 0.4em;box-sizing: border-box;padding-bottom: 0.4em;background-color: white;}#sk-container-id-1 div.sk-label label {font-family: monospace;font-weight: bold;display: inline-block;line-height: 1.2em;}#sk-container-id-1 div.sk-label-container {text-align: center;}#sk-container-id-1 div.sk-container {/* jupyter's `normalize.less` sets `[hidden] { display: none; }` but bootstrap.min.css set `[hidden] { display: none !important; }` so we also need the `!important` here to be able to override the default hidden behavior on the sphinx rendered scikit-learn.org. See: https://github.com/scikit-learn/scikit-learn/issues/21755 */display: inline-block !important;position: relative;}#sk-container-id-1 div.sk-text-repr-fallback {display: none;}</style><div id=\"sk-container-id-1\" class=\"sk-top-container\"><div class=\"sk-text-repr-fallback\"><pre>LinearRegression()</pre><b>In a Jupyter environment, please rerun this cell to show the HTML representation or trust the notebook. <br />On GitHub, the HTML representation is unable to render, please try loading this page with nbviewer.org.</b></div><div class=\"sk-container\" hidden><div class=\"sk-item\"><div class=\"sk-estimator sk-toggleable\"><input class=\"sk-toggleable__control sk-hidden--visually\" id=\"sk-estimator-id-1\" type=\"checkbox\" checked><label for=\"sk-estimator-id-1\" class=\"sk-toggleable__label sk-toggleable__label-arrow\">LinearRegression</label><div class=\"sk-toggleable__content\"><pre>LinearRegression()</pre></div></div></div></div></div>"
      ],
      "text/plain": [
       "LinearRegression()"
      ]
     },
     "execution_count": 19,
     "metadata": {},
     "output_type": "execute_result"
    }
   ],
   "source": [
    "from sklearn.linear_model import LinearRegression\n",
    "\n",
    "lm = LinearRegression()\n",
    "lm.fit(X_train,y_train)"
   ]
  },
  {
   "cell_type": "code",
   "execution_count": 20,
   "id": "fbc60c8a",
   "metadata": {},
   "outputs": [
    {
     "name": "stdout",
     "output_type": "stream",
     "text": [
      "[[0.97676669]]\n",
      "[0.00022224]\n"
     ]
    }
   ],
   "source": [
    "#lm.coef_ y lm.intercept_ definen la ecuación de la recta de regresión lineal, \n",
    "#la cual se utiliza para predecir los valores de la variable dependiente \n",
    "#en función de los valores de las variables predictoras.\n",
    "#La beta de esta regresión simple es de 0.97. esto quiere decir que cuando el mercado sube 1 las acciones de Nike\n",
    "#suben 0.97.\n",
    "print(lm.coef_)\n",
    "print(lm.intercept_)"
   ]
  },
  {
   "cell_type": "code",
   "execution_count": 21,
   "id": "67424b65",
   "metadata": {},
   "outputs": [
    {
     "data": {
      "image/png": "[encoded data removed]",
      "text/plain": [
       "<Figure size 864x432 with 1 Axes>"
      ]
     },
     "metadata": {
      "needs_background": "light"
     },
     "output_type": "display_data"
    }
   ],
   "source": [
    "sns.set_style('darkgrid') # Establece el estilo de trazado como 'darkgrid'\n",
    "plt.figure(figsize=(12,6)) # Establece el tamaño de la figura\n",
    "\n",
    "sns.regplot(y=y_train['rendimientosNIKE'], \n",
    "            x=X_train['rendimientos'], \n",
    "            ci=None, \n",
    "            line_kws={\"color\": \"red\"})\n",
    "\n",
    "plt.title('Rendimiento del Precio de cierre en función del rendimiento del mercado S&P500') # Establece el título del gráfico\n",
    "plt.xlabel('Rendimiento del mercado ') # Establece la etiqueta del eje x\n",
    "plt.ylabel('Rendimiento del Precio de cierre de las acciones de NIKE') # Establece la etiqueta del eje y\n",
    "\n",
    "plt.show() # Muestra el gráfico"
   ]
  },
  {
   "cell_type": "code",
   "execution_count": 22,
   "id": "bcda0caa",
   "metadata": {},
   "outputs": [
    {
     "data": {
      "text/html": [
       "<div>\n",
       "<style scoped>\n",
       "    .dataframe tbody tr th:only-of-type {\n",
       "        vertical-align: middle;\n",
       "    }\n",
       "\n",
       "    .dataframe tbody tr th {\n",
       "        vertical-align: top;\n",
       "    }\n",
       "\n",
       "    .dataframe thead th {\n",
       "        text-align: right;\n",
       "    }\n",
       "</style>\n",
       "<table border=\"1\" class=\"dataframe\">\n",
       "  <thead>\n",
       "    <tr style=\"text-align: right;\">\n",
       "      <th></th>\n",
       "      <th>model</th>\n",
       "      <th>rmse_train</th>\n",
       "      <th>rmse_test</th>\n",
       "    </tr>\n",
       "  </thead>\n",
       "  <tbody>\n",
       "    <tr>\n",
       "      <th>0</th>\n",
       "      <td>Linear Model (lm)</td>\n",
       "      <td>0.013514</td>\n",
       "      <td>0.012415</td>\n",
       "    </tr>\n",
       "  </tbody>\n",
       "</table>\n",
       "</div>"
      ],
      "text/plain": [
       "               model  rmse_train  rmse_test\n",
       "0  Linear Model (lm)    0.013514   0.012415"
      ]
     },
     "execution_count": 22,
     "metadata": {},
     "output_type": "execute_result"
    }
   ],
   "source": [
    "from sklearn.metrics import mean_squared_error\n",
    "# Training data\n",
    "pred_train = lm.predict(X_train)\n",
    "rmse_train = mean_squared_error(y_train, pred_train, squared=False)\n",
    "\n",
    "# Test data\n",
    "pred_test = lm.predict(X_test)\n",
    "rmse_test =mean_squared_error(y_test, pred_test, squared=False)\n",
    "\n",
    "# Save model results\n",
    "model_results_lm = pd.DataFrame(\n",
    "    {\n",
    "    \"model\": \"Linear Model (lm)\",  \n",
    "    \"rmse_train\": [rmse_train], \n",
    "    \"rmse_test\": [rmse_test],\n",
    "    })\n",
    "model_results_lm"
   ]
  },
  {
   "cell_type": "markdown",
   "id": "17e99e66",
   "metadata": {},
   "source": [
    "### 2.1.1.2. Polinomial Regresssion"
   ]
  },
  {
   "cell_type": "code",
   "execution_count": 23,
   "id": "c1c943bf",
   "metadata": {},
   "outputs": [],
   "source": [
    "from sklearn.preprocessing import PolynomialFeatures\n",
    "\n",
    "poly = PolynomialFeatures(2)\n",
    "X_train_poly = poly.fit_transform(X_train)\n",
    "X_test_poly = poly.fit_transform(X_test)"
   ]
  },
  {
   "cell_type": "code",
   "execution_count": 24,
   "id": "31c7aa9b",
   "metadata": {},
   "outputs": [
    {
     "data": {
      "text/html": [
       "<style>#sk-container-id-2 {color: black;background-color: white;}#sk-container-id-2 pre{padding: 0;}#sk-container-id-2 div.sk-toggleable {background-color: white;}#sk-container-id-2 label.sk-toggleable__label {cursor: pointer;display: block;width: 100%;margin-bottom: 0;padding: 0.3em;box-sizing: border-box;text-align: center;}#sk-container-id-2 label.sk-toggleable__label-arrow:before {content: \"▸\";float: left;margin-right: 0.25em;color: #696969;}#sk-container-id-2 label.sk-toggleable__label-arrow:hover:before {color: black;}#sk-container-id-2 div.sk-estimator:hover label.sk-toggleable__label-arrow:before {color: black;}#sk-container-id-2 div.sk-toggleable__content {max-height: 0;max-width: 0;overflow: hidden;text-align: left;background-color: #f0f8ff;}#sk-container-id-2 div.sk-toggleable__content pre {margin: 0.2em;color: black;border-radius: 0.25em;background-color: #f0f8ff;}#sk-container-id-2 input.sk-toggleable__control:checked~div.sk-toggleable__content {max-height: 200px;max-width: 100%;overflow: auto;}#sk-container-id-2 input.sk-toggleable__control:checked~label.sk-toggleable__label-arrow:before {content: \"▾\";}#sk-container-id-2 div.sk-estimator input.sk-toggleable__control:checked~label.sk-toggleable__label {background-color: #d4ebff;}#sk-container-id-2 div.sk-label input.sk-toggleable__control:checked~label.sk-toggleable__label {background-color: #d4ebff;}#sk-container-id-2 input.sk-hidden--visually {border: 0;clip: rect(1px 1px 1px 1px);clip: rect(1px, 1px, 1px, 1px);height: 1px;margin: -1px;overflow: hidden;padding: 0;position: absolute;width: 1px;}#sk-container-id-2 div.sk-estimator {font-family: monospace;background-color: #f0f8ff;border: 1px dotted black;border-radius: 0.25em;box-sizing: border-box;margin-bottom: 0.5em;}#sk-container-id-2 div.sk-estimator:hover {background-color: #d4ebff;}#sk-container-id-2 div.sk-parallel-item::after {content: \"\";width: 100%;border-bottom: 1px solid gray;flex-grow: 1;}#sk-container-id-2 div.sk-label:hover label.sk-toggleable__label {background-color: #d4ebff;}#sk-container-id-2 div.sk-serial::before {content: \"\";position: absolute;border-left: 1px solid gray;box-sizing: border-box;top: 0;bottom: 0;left: 50%;z-index: 0;}#sk-container-id-2 div.sk-serial {display: flex;flex-direction: column;align-items: center;background-color: white;padding-right: 0.2em;padding-left: 0.2em;position: relative;}#sk-container-id-2 div.sk-item {position: relative;z-index: 1;}#sk-container-id-2 div.sk-parallel {display: flex;align-items: stretch;justify-content: center;background-color: white;position: relative;}#sk-container-id-2 div.sk-item::before, #sk-container-id-2 div.sk-parallel-item::before {content: \"\";position: absolute;border-left: 1px solid gray;box-sizing: border-box;top: 0;bottom: 0;left: 50%;z-index: -1;}#sk-container-id-2 div.sk-parallel-item {display: flex;flex-direction: column;z-index: 1;position: relative;background-color: white;}#sk-container-id-2 div.sk-parallel-item:first-child::after {align-self: flex-end;width: 50%;}#sk-container-id-2 div.sk-parallel-item:last-child::after {align-self: flex-start;width: 50%;}#sk-container-id-2 div.sk-parallel-item:only-child::after {width: 0;}#sk-container-id-2 div.sk-dashed-wrapped {border: 1px dashed gray;margin: 0 0.4em 0.5em 0.4em;box-sizing: border-box;padding-bottom: 0.4em;background-color: white;}#sk-container-id-2 div.sk-label label {font-family: monospace;font-weight: bold;display: inline-block;line-height: 1.2em;}#sk-container-id-2 div.sk-label-container {text-align: center;}#sk-container-id-2 div.sk-container {/* jupyter's `normalize.less` sets `[hidden] { display: none; }` but bootstrap.min.css set `[hidden] { display: none !important; }` so we also need the `!important` here to be able to override the default hidden behavior on the sphinx rendered scikit-learn.org. See: https://github.com/scikit-learn/scikit-learn/issues/21755 */display: inline-block !important;position: relative;}#sk-container-id-2 div.sk-text-repr-fallback {display: none;}</style><div id=\"sk-container-id-2\" class=\"sk-top-container\"><div class=\"sk-text-repr-fallback\"><pre>LinearRegression()</pre><b>In a Jupyter environment, please rerun this cell to show the HTML representation or trust the notebook. <br />On GitHub, the HTML representation is unable to render, please try loading this page with nbviewer.org.</b></div><div class=\"sk-container\" hidden><div class=\"sk-item\"><div class=\"sk-estimator sk-toggleable\"><input class=\"sk-toggleable__control sk-hidden--visually\" id=\"sk-estimator-id-2\" type=\"checkbox\" checked><label for=\"sk-estimator-id-2\" class=\"sk-toggleable__label sk-toggleable__label-arrow\">LinearRegression</label><div class=\"sk-toggleable__content\"><pre>LinearRegression()</pre></div></div></div></div></div>"
      ],
      "text/plain": [
       "LinearRegression()"
      ]
     },
     "execution_count": 24,
     "metadata": {},
     "output_type": "execute_result"
    }
   ],
   "source": [
    "pm = LinearRegression()\n",
    "pm.fit(X_train_poly,y_train)"
   ]
  },
  {
   "cell_type": "code",
   "execution_count": 25,
   "id": "ba09e28d",
   "metadata": {},
   "outputs": [
    {
     "name": "stdout",
     "output_type": "stream",
     "text": [
      "[[ 0.          0.96650273 -0.87630216]]\n"
     ]
    }
   ],
   "source": [
    "# Obtener los coeficientes del modelo\n",
    "coeficientes_polynomial = pm.coef_\n",
    "\n",
    "print(coeficientes_polynomial)"
   ]
  },
  {
   "cell_type": "code",
   "execution_count": 26,
   "id": "6b19917b",
   "metadata": {},
   "outputs": [
    {
     "data": {
      "image/png": "[encoded data removed]",
      "text/plain": [
       "<Figure size 864x432 with 1 Axes>"
      ]
     },
     "metadata": {},
     "output_type": "display_data"
    }
   ],
   "source": [
    "#Gráfico\n",
    "sns.set_style('darkgrid') # Establece el estilo de trazado como 'darkgrid'\n",
    "plt.figure(figsize=(12,6)) # Establece el tamaño de la figura\n",
    "# plot\n",
    "sns.regplot(y=y_train['rendimientosNIKE'], \n",
    "            x=X_train['rendimientos'], \n",
    "            ci=None, \n",
    "            order=2, \n",
    "            line_kws={\"color\": \"red\"});\n",
    "plt.title('Rendimiento del Precio de cierre en función del rendimiento del mercado S&P500') # Establece el título del gráfico\n",
    "plt.xlabel('Rendimiento del mercado') # Establece la etiqueta del eje x\n",
    "plt.ylabel('Rendimiento del Precio de apertura de las acciones de NIKE') # Establece la etiqueta del eje y\n",
    "\n",
    "plt.show() # Muestra el gráfico"
   ]
  },
  {
   "cell_type": "code",
   "execution_count": 27,
   "id": "46324bf5",
   "metadata": {},
   "outputs": [
    {
     "data": {
      "text/html": [
       "<div>\n",
       "<style scoped>\n",
       "    .dataframe tbody tr th:only-of-type {\n",
       "        vertical-align: middle;\n",
       "    }\n",
       "\n",
       "    .dataframe tbody tr th {\n",
       "        vertical-align: top;\n",
       "    }\n",
       "\n",
       "    .dataframe thead th {\n",
       "        text-align: right;\n",
       "    }\n",
       "</style>\n",
       "<table border=\"1\" class=\"dataframe\">\n",
       "  <thead>\n",
       "    <tr style=\"text-align: right;\">\n",
       "      <th></th>\n",
       "      <th>model</th>\n",
       "      <th>rmse_train</th>\n",
       "      <th>rmse_test</th>\n",
       "    </tr>\n",
       "  </thead>\n",
       "  <tbody>\n",
       "    <tr>\n",
       "      <th>0</th>\n",
       "      <td>Linear Model (lm)</td>\n",
       "      <td>0.013514</td>\n",
       "      <td>0.012415</td>\n",
       "    </tr>\n",
       "    <tr>\n",
       "      <th>0</th>\n",
       "      <td>Polynomial Model (pm)</td>\n",
       "      <td>0.013506</td>\n",
       "      <td>0.012451</td>\n",
       "    </tr>\n",
       "  </tbody>\n",
       "</table>\n",
       "</div>"
      ],
      "text/plain": [
       "                   model  rmse_train  rmse_test\n",
       "0      Linear Model (lm)    0.013514   0.012415\n",
       "0  Polynomial Model (pm)    0.013506   0.012451"
      ]
     },
     "execution_count": 27,
     "metadata": {},
     "output_type": "execute_result"
    }
   ],
   "source": [
    "# Training data\n",
    "\n",
    "pred_train = pm.predict(X_train_poly) \n",
    "rmse_train = mean_squared_error(y_train, \n",
    "                                pred_train, \n",
    "                                squared=False)\n",
    "\n",
    "# Test data\n",
    "pred_test = pm.predict(X_test_poly)\n",
    "rmse_test =mean_squared_error(y_test, \n",
    "                              pred_test, \n",
    "                              squared=False)\n",
    "\n",
    "# Save model results\n",
    "model_results_pm = pd.DataFrame(\n",
    "    {\n",
    "    \"model\": \"Polynomial Model (pm)\",  \n",
    "    \"rmse_train\": [rmse_train], \n",
    "    \"rmse_test\": [rmse_test],\n",
    "    })\n",
    "\n",
    "results = pd.concat([model_results_lm, model_results_pm], axis=0)\n",
    "results"
   ]
  },
  {
   "cell_type": "markdown",
   "id": "170057be",
   "metadata": {},
   "source": [
    "### 2.1.1.3. CUBIC SPLINES"
   ]
  },
  {
   "cell_type": "code",
   "execution_count": 28,
   "id": "e23389a9",
   "metadata": {},
   "outputs": [],
   "source": [
    "from patsy import dmatrix\n",
    "# Generación de spline cúbico con 3 nudos a 25, 50 y 75\n",
    "knots = np.percentile(X_train, [25, 50, 75]) \n",
    "transformed_x = dmatrix(\n",
    "            \"bs(train, knots=knots, degree=3, include_intercept=False)\", \n",
    "                {\"train\": X_train},return_type='dataframe') "
   ]
  },
  {
   "cell_type": "code",
   "execution_count": 29,
   "id": "fbb66c9b",
   "metadata": {},
   "outputs": [
    {
     "data": {
      "text/html": [
       "<div>\n",
       "<style scoped>\n",
       "    .dataframe tbody tr th:only-of-type {\n",
       "        vertical-align: middle;\n",
       "    }\n",
       "\n",
       "    .dataframe tbody tr th {\n",
       "        vertical-align: top;\n",
       "    }\n",
       "\n",
       "    .dataframe thead th {\n",
       "        text-align: right;\n",
       "    }\n",
       "</style>\n",
       "<table border=\"1\" class=\"dataframe\">\n",
       "  <thead>\n",
       "    <tr style=\"text-align: right;\">\n",
       "      <th></th>\n",
       "      <th>Intercept</th>\n",
       "      <th>bs(train, knots=knots, degree=3, include_intercept=False)[0]</th>\n",
       "      <th>bs(train, knots=knots, degree=3, include_intercept=False)[1]</th>\n",
       "      <th>bs(train, knots=knots, degree=3, include_intercept=False)[2]</th>\n",
       "      <th>bs(train, knots=knots, degree=3, include_intercept=False)[3]</th>\n",
       "      <th>bs(train, knots=knots, degree=3, include_intercept=False)[4]</th>\n",
       "      <th>bs(train, knots=knots, degree=3, include_intercept=False)[5]</th>\n",
       "    </tr>\n",
       "  </thead>\n",
       "  <tbody>\n",
       "    <tr>\n",
       "      <th>1236</th>\n",
       "      <td>1.0</td>\n",
       "      <td>0.000000</td>\n",
       "      <td>0.011092</td>\n",
       "      <td>0.950080</td>\n",
       "      <td>0.038811</td>\n",
       "      <td>0.000017</td>\n",
       "      <td>0.000000e+00</td>\n",
       "    </tr>\n",
       "    <tr>\n",
       "      <th>1026</th>\n",
       "      <td>1.0</td>\n",
       "      <td>0.000000</td>\n",
       "      <td>0.000000</td>\n",
       "      <td>0.835981</td>\n",
       "      <td>0.160084</td>\n",
       "      <td>0.003935</td>\n",
       "      <td>7.376677e-08</td>\n",
       "    </tr>\n",
       "    <tr>\n",
       "      <th>250</th>\n",
       "      <td>1.0</td>\n",
       "      <td>0.000000</td>\n",
       "      <td>0.000000</td>\n",
       "      <td>0.829465</td>\n",
       "      <td>0.166108</td>\n",
       "      <td>0.004427</td>\n",
       "      <td>3.127520e-07</td>\n",
       "    </tr>\n",
       "    <tr>\n",
       "      <th>2066</th>\n",
       "      <td>1.0</td>\n",
       "      <td>0.000000</td>\n",
       "      <td>0.001733</td>\n",
       "      <td>0.911778</td>\n",
       "      <td>0.085938</td>\n",
       "      <td>0.000551</td>\n",
       "      <td>0.000000e+00</td>\n",
       "    </tr>\n",
       "    <tr>\n",
       "      <th>1488</th>\n",
       "      <td>1.0</td>\n",
       "      <td>0.018457</td>\n",
       "      <td>0.246645</td>\n",
       "      <td>0.734634</td>\n",
       "      <td>0.000000</td>\n",
       "      <td>0.000000</td>\n",
       "      <td>0.000000e+00</td>\n",
       "    </tr>\n",
       "  </tbody>\n",
       "</table>\n",
       "</div>"
      ],
      "text/plain": [
       "      Intercept  bs(train, knots=knots, degree=3, include_intercept=False)[0]  \\\n",
       "1236        1.0                                           0.000000              \n",
       "1026        1.0                                           0.000000              \n",
       "250         1.0                                           0.000000              \n",
       "2066        1.0                                           0.000000              \n",
       "1488        1.0                                           0.018457              \n",
       "\n",
       "      bs(train, knots=knots, degree=3, include_intercept=False)[1]  \\\n",
       "1236                                           0.011092              \n",
       "1026                                           0.000000              \n",
       "250                                            0.000000              \n",
       "2066                                           0.001733              \n",
       "1488                                           0.246645              \n",
       "\n",
       "      bs(train, knots=knots, degree=3, include_intercept=False)[2]  \\\n",
       "1236                                           0.950080              \n",
       "1026                                           0.835981              \n",
       "250                                            0.829465              \n",
       "2066                                           0.911778              \n",
       "1488                                           0.734634              \n",
       "\n",
       "      bs(train, knots=knots, degree=3, include_intercept=False)[3]  \\\n",
       "1236                                           0.038811              \n",
       "1026                                           0.160084              \n",
       "250                                            0.166108              \n",
       "2066                                           0.085938              \n",
       "1488                                           0.000000              \n",
       "\n",
       "      bs(train, knots=knots, degree=3, include_intercept=False)[4]  \\\n",
       "1236                                           0.000017              \n",
       "1026                                           0.003935              \n",
       "250                                            0.004427              \n",
       "2066                                           0.000551              \n",
       "1488                                           0.000000              \n",
       "\n",
       "      bs(train, knots=knots, degree=3, include_intercept=False)[5]  \n",
       "1236                                       0.000000e+00             \n",
       "1026                                       7.376677e-08             \n",
       "250                                        3.127520e-07             \n",
       "2066                                       0.000000e+00             \n",
       "1488                                       0.000000e+00             "
      ]
     },
     "execution_count": 29,
     "metadata": {},
     "output_type": "execute_result"
    }
   ],
   "source": [
    "transformed_x.head()"
   ]
  },
  {
   "cell_type": "markdown",
   "id": "09f4c789",
   "metadata": {},
   "source": [
    "La tabla muestra los valores de intercepto y coeficientes de cinco modelos de regresión. Cada modelo utiliza una función de base cúbica para ajustar una relación no lineal entre una variable de entrada y una variable de salida.\n",
    "\n",
    "En general, se puede observar que el valor del intercepto es 1.0 en todos los modelos, lo que indica que el valor de la variable de salida es igual al valor del intercepto cuando la variable de entrada es igual a cero. Los valores de los coeficientes varían de un modelo a otro y representan la contribución de cada función de base a la predicción de la variable de salida.\n",
    "\n",
    "En el primer modelo, la función de base con el mayor coeficiente es la tercera función, lo que sugiere que esta función tiene la mayor influencia en la predicción de la variable de salida.\n",
    "\n",
    "En el segundo y tercer modelo, la función de base con el mayor coeficiente es la cuarta función, lo que sugiere que esta función es la más importante en la predicción de la variable de salida.\n",
    "\n",
    "En el cuarto y quinto modelo, las funciones de base con los coeficientes más altos son la tercera y la cuarta, lo que indica que estas funciones tienen una mayor influencia en la predicción de la variable de salida.\n",
    "\n",
    "En resumen, la elección de las funciones de base y sus coeficientes depende del modelo específico y de la relación no lineal entre la variable de entrada y la variable de salida. Estos modelos pueden ser útiles para predecir valores nuevos y pueden ser mejorados mediante la selección de diferentes funciones de base o mediante la incorporación de otras variables de entrada."
   ]
  },
  {
   "cell_type": "code",
   "execution_count": 30,
   "id": "62223735",
   "metadata": {},
   "outputs": [],
   "source": [
    "import statsmodels.api as sm\n",
    "# Ajuste del modelo lineal generalizado en el conjunto de datos transformado\n",
    "cs = sm.GLM(y_train, transformed_x).fit() "
   ]
  },
  {
   "cell_type": "code",
   "execution_count": 31,
   "id": "8e018cdb",
   "metadata": {},
   "outputs": [
    {
     "data": {
      "image/png": "[encoded data removed]",
      "text/plain": [
       "<Figure size 864x432 with 1 Axes>"
      ]
     },
     "metadata": {},
     "output_type": "display_data"
    }
   ],
   "source": [
    "sns.set_style('darkgrid') # Establece el estilo de trazado como 'darkgrid'\n",
    "plt.figure(figsize=(12,6)) # Establece el tamaño de la figura\n",
    "\n",
    "# Create observations\n",
    "xp = np.linspace(X_test.min(),X_test.max(), 100) \n",
    "# Make some predictions\n",
    "pred = cs.predict(dmatrix(\"bs(xp, knots=knots, include_intercept=False)\", {\"xp\": xp}, return_type='dataframe'))\n",
    "\n",
    "# plot\n",
    "sns.scatterplot(y=y_train['rendimientosNIKE'], x=X_train['rendimientos'])\n",
    "\n",
    "plt.plot(xp, pred, label='Cubic spline with degree=3 (3 knots)', color='red')\n",
    "plt.legend();\n",
    "\n",
    "plt.title('Rendimiento del Precio de cierre en función del rendimiento del mercado S&P500') # Establece el título del gráfico\n",
    "plt.xlabel('Rendimientos del mercado') # Establece la etiqueta del eje x\n",
    "plt.ylabel('Rendimiento del Precio de cierre de las acciones de NIKE') # Establece la etiqueta del eje y\n",
    "\n",
    "plt.show() # Muestra el gráfico"
   ]
  },
  {
   "cell_type": "code",
   "execution_count": 32,
   "id": "1729d9dc",
   "metadata": {},
   "outputs": [
    {
     "name": "stdout",
     "output_type": "stream",
     "text": [
      "Beta para rendimientos: Intercept                                                      -0.129421\n",
      "bs(train, knots=knots, degree=3, include_intercept=False)[0]    0.051376\n",
      "bs(train, knots=knots, degree=3, include_intercept=False)[1]    0.084563\n",
      "bs(train, knots=knots, degree=3, include_intercept=False)[2]    0.130674\n",
      "bs(train, knots=knots, degree=3, include_intercept=False)[3]    0.158496\n",
      "bs(train, knots=knots, degree=3, include_intercept=False)[4]    0.212098\n",
      "bs(train, knots=knots, degree=3, include_intercept=False)[5]    0.157214\n",
      "dtype: float64\n"
     ]
    }
   ],
   "source": [
    "coeficientes_cubic_spline = cs.params\n",
    "\n",
    "beta_rendimientos = coeficientes_cubic_spline\n",
    "print(\"Beta para rendimientos:\", beta_rendimientos)"
   ]
  },
  {
   "cell_type": "code",
   "execution_count": 33,
   "id": "dc6607a6",
   "metadata": {},
   "outputs": [
    {
     "data": {
      "text/html": [
       "<div>\n",
       "<style scoped>\n",
       "    .dataframe tbody tr th:only-of-type {\n",
       "        vertical-align: middle;\n",
       "    }\n",
       "\n",
       "    .dataframe tbody tr th {\n",
       "        vertical-align: top;\n",
       "    }\n",
       "\n",
       "    .dataframe thead th {\n",
       "        text-align: right;\n",
       "    }\n",
       "</style>\n",
       "<table border=\"1\" class=\"dataframe\">\n",
       "  <thead>\n",
       "    <tr style=\"text-align: right;\">\n",
       "      <th></th>\n",
       "      <th>model</th>\n",
       "      <th>rmse_train</th>\n",
       "      <th>rmse_test</th>\n",
       "    </tr>\n",
       "  </thead>\n",
       "  <tbody>\n",
       "    <tr>\n",
       "      <th>0</th>\n",
       "      <td>Linear Model (lm)</td>\n",
       "      <td>0.013514</td>\n",
       "      <td>0.012415</td>\n",
       "    </tr>\n",
       "    <tr>\n",
       "      <th>0</th>\n",
       "      <td>Polynomial Model (pm)</td>\n",
       "      <td>0.013506</td>\n",
       "      <td>0.012451</td>\n",
       "    </tr>\n",
       "    <tr>\n",
       "      <th>0</th>\n",
       "      <td>Cubic spline (cs)</td>\n",
       "      <td>0.013447</td>\n",
       "      <td>0.016945</td>\n",
       "    </tr>\n",
       "  </tbody>\n",
       "</table>\n",
       "</div>"
      ],
      "text/plain": [
       "                   model  rmse_train  rmse_test\n",
       "0      Linear Model (lm)    0.013514   0.012415\n",
       "0  Polynomial Model (pm)    0.013506   0.012451\n",
       "0      Cubic spline (cs)    0.013447   0.016945"
      ]
     },
     "execution_count": 33,
     "metadata": {},
     "output_type": "execute_result"
    }
   ],
   "source": [
    "# Training data\n",
    "pred_train = cs.predict(dmatrix(\"bs(train, knots=knots, include_intercept=False)\", {\"train\": X_train}, return_type='dataframe'))#### CAMBIO ####\n",
    "rmse_train = mean_squared_error(y_train, pred_train, squared=False) \n",
    "\n",
    "# Test data\n",
    "pred_test = cs.predict(dmatrix(\"bs(test, knots=knots, include_intercept=False)\", {\"test\": X_test}, return_type='dataframe'))\n",
    "rmse_test =mean_squared_error(y_test, pred_test, squared=False)\n",
    "\n",
    "# Save model results\n",
    "model_results_cs = pd.DataFrame(\n",
    "    {\n",
    "    \"model\": \"Cubic spline (cs)\",  \n",
    "    \"rmse_train\": [rmse_train], \n",
    "    \"rmse_test\": [rmse_test]\n",
    "    })\n",
    "results = pd.concat([results, model_results_cs], axis=0)\n",
    "results"
   ]
  },
  {
   "cell_type": "markdown",
   "id": "b0a7cd3b",
   "metadata": {},
   "source": [
    "### 2.1.1.4. NATURAL CUBIC SPLINE"
   ]
  },
  {
   "cell_type": "code",
   "execution_count": 34,
   "id": "8940b921",
   "metadata": {},
   "outputs": [],
   "source": [
    "transformed_x3 = dmatrix(\"cr(train,df = 3)\", {\"train\": X_train}, return_type='dataframe')\n",
    "\n",
    "ncs = sm.GLM(y_train, transformed_x3).fit() "
   ]
  },
  {
   "cell_type": "code",
   "execution_count": 35,
   "id": "25003ad9",
   "metadata": {},
   "outputs": [
    {
     "data": {
      "image/png": "[encoded data removed]",
      "text/plain": [
       "<Figure size 864x432 with 1 Axes>"
      ]
     },
     "metadata": {},
     "output_type": "display_data"
    }
   ],
   "source": [
    "sns.set_style('darkgrid') # Establece el estilo de trazado como 'darkgrid'\n",
    "plt.figure(figsize=(12,6)) # Establece el tamaño de la figura\n",
    "\n",
    "# Make predictions\n",
    "pred = ncs.predict(dmatrix(\"cr(xp, df=3)\", {\"xp\": xp}, return_type='dataframe'))\n",
    "\n",
    "# plot\n",
    "sns.scatterplot(y=y_train['rendimientosNIKE'], x=X_train['rendimientos'])\n",
    "plt.plot(xp, pred, color='red', label='Natural spline with df=3')\n",
    "plt.legend();\n",
    "\n",
    "plt.title('Rendimiento del Precio de cierre en función del rendimiento del mercado S&P500') # Establece el título del gráfico\n",
    "plt.xlabel('Rendimientos del mercado') # Establece la etiqueta del eje x\n",
    "plt.ylabel('Rendimiento del Precio de cierre de las acciones de NIKE') # Establece la etiqueta del eje y\n",
    "\n",
    "plt.show() # Muestra el gráfico"
   ]
  },
  {
   "cell_type": "code",
   "execution_count": 36,
   "id": "e60cc141",
   "metadata": {},
   "outputs": [
    {
     "name": "stdout",
     "output_type": "stream",
     "text": [
      "Intercept            -0.013106\n",
      "cr(train, df=3)[0]   -0.121161\n",
      "cr(train, df=3)[1]    0.014107\n",
      "cr(train, df=3)[2]    0.093948\n",
      "dtype: float64\n"
     ]
    }
   ],
   "source": [
    "# Obtener los coeficientes estimados (betas)\n",
    "coeficientes_beta = ncs.params\n",
    "\n",
    "print(coeficientes_beta)"
   ]
  },
  {
   "cell_type": "code",
   "execution_count": 37,
   "id": "5068c5f6",
   "metadata": {},
   "outputs": [
    {
     "data": {
      "text/html": [
       "<div>\n",
       "<style scoped>\n",
       "    .dataframe tbody tr th:only-of-type {\n",
       "        vertical-align: middle;\n",
       "    }\n",
       "\n",
       "    .dataframe tbody tr th {\n",
       "        vertical-align: top;\n",
       "    }\n",
       "\n",
       "    .dataframe thead th {\n",
       "        text-align: right;\n",
       "    }\n",
       "</style>\n",
       "<table border=\"1\" class=\"dataframe\">\n",
       "  <thead>\n",
       "    <tr style=\"text-align: right;\">\n",
       "      <th></th>\n",
       "      <th>model</th>\n",
       "      <th>rmse_train</th>\n",
       "      <th>rmse_test</th>\n",
       "    </tr>\n",
       "  </thead>\n",
       "  <tbody>\n",
       "    <tr>\n",
       "      <th>0</th>\n",
       "      <td>Linear Model (lm)</td>\n",
       "      <td>0.013514</td>\n",
       "      <td>0.012415</td>\n",
       "    </tr>\n",
       "    <tr>\n",
       "      <th>0</th>\n",
       "      <td>Polynomial Model (pm)</td>\n",
       "      <td>0.013506</td>\n",
       "      <td>0.012451</td>\n",
       "    </tr>\n",
       "    <tr>\n",
       "      <th>0</th>\n",
       "      <td>Cubic spline (cs)</td>\n",
       "      <td>0.013447</td>\n",
       "      <td>0.016945</td>\n",
       "    </tr>\n",
       "    <tr>\n",
       "      <th>0</th>\n",
       "      <td>Natural cubic spline (ncs)</td>\n",
       "      <td>0.013508</td>\n",
       "      <td>0.017246</td>\n",
       "    </tr>\n",
       "  </tbody>\n",
       "</table>\n",
       "</div>"
      ],
      "text/plain": [
       "                        model  rmse_train  rmse_test\n",
       "0           Linear Model (lm)    0.013514   0.012415\n",
       "0       Polynomial Model (pm)    0.013506   0.012451\n",
       "0           Cubic spline (cs)    0.013447   0.016945\n",
       "0  Natural cubic spline (ncs)    0.013508   0.017246"
      ]
     },
     "execution_count": 37,
     "metadata": {},
     "output_type": "execute_result"
    }
   ],
   "source": [
    "# Training data\n",
    "\n",
    "pred_train = ncs.predict(dmatrix(\"cr(train, df=3)\", {\"train\": X_train}, return_type='dataframe'))\n",
    "rmse_train = mean_squared_error(y_train, pred_train, squared=False) \n",
    "\n",
    "# Test data\n",
    "pred_test = ncs.predict(dmatrix(\"cr(test, df=3)\", {\"test\": X_test}, return_type='dataframe'))\n",
    "rmse_test =mean_squared_error(y_test, pred_test, squared=False)\n",
    "\n",
    "# Save model results\n",
    "model_results_ncs = pd.DataFrame(\n",
    "    {\n",
    "    \"model\": \"Natural cubic spline (ncs)\",  \n",
    "    \"rmse_train\": [rmse_train], \n",
    "    \"rmse_test\": [rmse_test]\n",
    "    })\n",
    "\n",
    "results = pd.concat([results, model_results_ncs], axis=0)\n",
    "results"
   ]
  },
  {
   "cell_type": "markdown",
   "id": "1683101b",
   "metadata": {},
   "source": [
    "## 2.1.2 Conclusión"
   ]
  },
  {
   "cell_type": "markdown",
   "id": "d9af629e",
   "metadata": {},
   "source": [
    "La tabla muestra los resultados de diferentes modelos de regresión ajustados a los datos con respecto a su rendimiento en el conjunto de entrenamiento (rmse_train) y en el conjunto de prueba (rmse_test). Aquí hay una interpretación de los resultados:\n",
    "\n",
    "-Linear Model (lm): Este es un modelo de regresión lineal. Tiene un RMSE (Root Mean Square Error) de aproximadamente 0.0135 en el conjunto de entrenamiento y 0.0124 en el conjunto de prueba.\n",
    "\n",
    "-Polynomial Model (pm): Este es un modelo de regresión polinómica. Tiene resultados similares al modelo lineal, con un RMSE de aproximadamente 0.0135 en el conjunto de entrenamiento y 0.0125 en el conjunto de prueba.\n",
    "\n",
    "-Cubic spline (cs): Este es un modelo de spline cúbico. Muestra un RMSE de aproximadamente 0.0134 en el conjunto de entrenamiento y 0.0169 en el conjunto de prueba. Parece que este modelo se ajusta un poco mejor en el conjunto de prueba en comparación con los modelos anteriores.\n",
    "\n",
    "-Natural cubic spline (ncs): Este es un modelo de spline cúbico natural. Tiene un RMSE de aproximadamente 0.0135 en el conjunto de entrenamiento y 0.0172 en el conjunto de prueba. Los resultados son similares a los del modelo polinómico y lineal.\n",
    "\n",
    "En general, parece que tanto el modelo lineal como el modelo polinómico tienen un rendimiento similar, y los modelos de spline cúbico (tanto el cúbico regular como el natural) tienen resultados ligeramente mejores en el conjunto de prueba. Sin embargo, las diferencias en los RMSE no son significativas entre estos modelos. Es importante tener en cuenta que la elección del modelo depende de otros factores además del RMSE, como la interpretación del modelo y la complejidad."
   ]
  },
  {
   "cell_type": "markdown",
   "id": "16798469",
   "metadata": {},
   "source": [
    "## 2.2. DATOS SEMANALES"
   ]
  },
  {
   "cell_type": "code",
   "execution_count": 38,
   "id": "49030f48",
   "metadata": {},
   "outputs": [
    {
     "name": "stdout",
     "output_type": "stream",
     "text": [
      "         Fecha     Abrir      Máx.       Mín.     Cierre  Cierre ajus.  \\\n",
      "0   2010-02-28  1103.544  1107.606  1095.3280  1103.0560     1103.0560   \n",
      "1   2010-03-07  1117.194  1125.664  1116.0460  1122.8960     1122.8960   \n",
      "2   2010-03-14  1142.370  1147.666  1139.5440  1144.9580     1144.9580   \n",
      "3   2010-03-21  1158.422  1163.614  1153.6460  1160.3820     1160.3820   \n",
      "4   2010-03-28  1166.806  1174.040  1161.8580  1168.0040     1168.0040   \n",
      "..         ...       ...       ...        ...        ...           ...   \n",
      "674 2023-01-29  4010.478  4047.712  3994.4960  4036.7940     4036.7940   \n",
      "675 2023-02-05  4087.112  4133.552  4067.6860  4105.9640     4105.9640   \n",
      "676 2023-02-12  4118.312  4141.722  4084.7800  4112.9800     4112.9800   \n",
      "677 2023-02-19  4106.992  4132.966  4085.8200  4118.1040     4118.1040   \n",
      "678 2023-02-26  4025.820  4034.555  3980.5925  4006.2325     4006.2325   \n",
      "\n",
      "          Volumen  rendimientos  \n",
      "0    4.194034e+09     -0.000558  \n",
      "1    4.002330e+09      0.006101  \n",
      "2    4.805318e+09      0.001973  \n",
      "3    4.588800e+09      0.001716  \n",
      "4    4.751278e+09      0.001150  \n",
      "..            ...           ...  \n",
      "674  3.741402e+09      0.004871  \n",
      "675  4.731424e+09      0.003213  \n",
      "676  4.132328e+09     -0.002238  \n",
      "677  3.928588e+09     -0.000557  \n",
      "678  4.063392e+09     -0.003386  \n",
      "\n",
      "[679 rows x 8 columns]\n"
     ]
    }
   ],
   "source": [
    "import pandas as pd\n",
    "\n",
    "# Establecer \"Fecha\" como índice\n",
    "syp_data = syp_data.set_index('Fecha')\n",
    "\n",
    "# Agrupar por semana y aplicar la media para cada columna\n",
    "syp_data_weekly = syp_data.resample('W').mean()\n",
    "\n",
    "# Reiniciar el índice y mostrar el DataFrame resultante\n",
    "syp_data_weekly = syp_data_weekly.reset_index()\n",
    "print(syp_data_weekly)"
   ]
  },
  {
   "cell_type": "code",
   "execution_count": 39,
   "id": "d0ea4e42",
   "metadata": {},
   "outputs": [],
   "source": [
    "#syp_data_weekly.to_csv('syp_data_weekly.csv')"
   ]
  },
  {
   "cell_type": "markdown",
   "id": "af7b3c6e",
   "metadata": {},
   "source": [
    "Cargamos los datos semanales del data frame de s&p 500"
   ]
  },
  {
   "cell_type": "code",
   "execution_count": 40,
   "id": "1e16f40b",
   "metadata": {},
   "outputs": [
    {
     "data": {
      "text/html": [
       "<div>\n",
       "<style scoped>\n",
       "    .dataframe tbody tr th:only-of-type {\n",
       "        vertical-align: middle;\n",
       "    }\n",
       "\n",
       "    .dataframe tbody tr th {\n",
       "        vertical-align: top;\n",
       "    }\n",
       "\n",
       "    .dataframe thead th {\n",
       "        text-align: right;\n",
       "    }\n",
       "</style>\n",
       "<table border=\"1\" class=\"dataframe\">\n",
       "  <thead>\n",
       "    <tr style=\"text-align: right;\">\n",
       "      <th></th>\n",
       "      <th>Unnamed: 0</th>\n",
       "      <th>Fecha</th>\n",
       "      <th>Abrir</th>\n",
       "      <th>Máx.</th>\n",
       "      <th>Mín.</th>\n",
       "      <th>Cierre</th>\n",
       "      <th>Cierre ajus.</th>\n",
       "      <th>Volumen</th>\n",
       "      <th>rendimientos</th>\n",
       "    </tr>\n",
       "  </thead>\n",
       "  <tbody>\n",
       "    <tr>\n",
       "      <th>0</th>\n",
       "      <td>0</td>\n",
       "      <td>2010-02-28</td>\n",
       "      <td>1103.544</td>\n",
       "      <td>1107.606</td>\n",
       "      <td>1095.328</td>\n",
       "      <td>1103.056</td>\n",
       "      <td>1103.056</td>\n",
       "      <td>4.194034e+09</td>\n",
       "      <td>-0.000558</td>\n",
       "    </tr>\n",
       "    <tr>\n",
       "      <th>1</th>\n",
       "      <td>1</td>\n",
       "      <td>2010-03-07</td>\n",
       "      <td>1117.194</td>\n",
       "      <td>1125.664</td>\n",
       "      <td>1116.046</td>\n",
       "      <td>1122.896</td>\n",
       "      <td>1122.896</td>\n",
       "      <td>4.002330e+09</td>\n",
       "      <td>0.006101</td>\n",
       "    </tr>\n",
       "    <tr>\n",
       "      <th>2</th>\n",
       "      <td>2</td>\n",
       "      <td>2010-03-14</td>\n",
       "      <td>1142.370</td>\n",
       "      <td>1147.666</td>\n",
       "      <td>1139.544</td>\n",
       "      <td>1144.958</td>\n",
       "      <td>1144.958</td>\n",
       "      <td>4.805318e+09</td>\n",
       "      <td>0.001973</td>\n",
       "    </tr>\n",
       "    <tr>\n",
       "      <th>3</th>\n",
       "      <td>3</td>\n",
       "      <td>2010-03-21</td>\n",
       "      <td>1158.422</td>\n",
       "      <td>1163.614</td>\n",
       "      <td>1153.646</td>\n",
       "      <td>1160.382</td>\n",
       "      <td>1160.382</td>\n",
       "      <td>4.588800e+09</td>\n",
       "      <td>0.001716</td>\n",
       "    </tr>\n",
       "    <tr>\n",
       "      <th>4</th>\n",
       "      <td>4</td>\n",
       "      <td>2010-03-28</td>\n",
       "      <td>1166.806</td>\n",
       "      <td>1174.040</td>\n",
       "      <td>1161.858</td>\n",
       "      <td>1168.004</td>\n",
       "      <td>1168.004</td>\n",
       "      <td>4.751278e+09</td>\n",
       "      <td>0.001150</td>\n",
       "    </tr>\n",
       "  </tbody>\n",
       "</table>\n",
       "</div>"
      ],
      "text/plain": [
       "   Unnamed: 0       Fecha     Abrir      Máx.      Mín.    Cierre  \\\n",
       "0           0  2010-02-28  1103.544  1107.606  1095.328  1103.056   \n",
       "1           1  2010-03-07  1117.194  1125.664  1116.046  1122.896   \n",
       "2           2  2010-03-14  1142.370  1147.666  1139.544  1144.958   \n",
       "3           3  2010-03-21  1158.422  1163.614  1153.646  1160.382   \n",
       "4           4  2010-03-28  1166.806  1174.040  1161.858  1168.004   \n",
       "\n",
       "   Cierre ajus.       Volumen  rendimientos  \n",
       "0      1103.056  4.194034e+09     -0.000558  \n",
       "1      1122.896  4.002330e+09      0.006101  \n",
       "2      1144.958  4.805318e+09      0.001973  \n",
       "3      1160.382  4.588800e+09      0.001716  \n",
       "4      1168.004  4.751278e+09      0.001150  "
      ]
     },
     "execution_count": 40,
     "metadata": {},
     "output_type": "execute_result"
    }
   ],
   "source": [
    "syp_data_Week = pd.read_csv(\"../TFMcodigo/data/raw/syp_data_weekly.csv\")\n",
    "syp_data_Week.head()"
   ]
  },
  {
   "cell_type": "code",
   "execution_count": 41,
   "id": "2532f546",
   "metadata": {},
   "outputs": [],
   "source": [
    "syp_data_Week = syp_data_Week.drop('Unnamed: 0', axis=1)\n"
   ]
  },
  {
   "cell_type": "code",
   "execution_count": 42,
   "id": "7b49a056",
   "metadata": {},
   "outputs": [
    {
     "data": {
      "text/html": [
       "<div>\n",
       "<style scoped>\n",
       "    .dataframe tbody tr th:only-of-type {\n",
       "        vertical-align: middle;\n",
       "    }\n",
       "\n",
       "    .dataframe tbody tr th {\n",
       "        vertical-align: top;\n",
       "    }\n",
       "\n",
       "    .dataframe thead th {\n",
       "        text-align: right;\n",
       "    }\n",
       "</style>\n",
       "<table border=\"1\" class=\"dataframe\">\n",
       "  <thead>\n",
       "    <tr style=\"text-align: right;\">\n",
       "      <th></th>\n",
       "      <th>Fecha</th>\n",
       "      <th>Abrir</th>\n",
       "      <th>Máx.</th>\n",
       "      <th>Mín.</th>\n",
       "      <th>Cierre</th>\n",
       "      <th>Cierre ajus.</th>\n",
       "      <th>Volumen</th>\n",
       "      <th>rendimientos</th>\n",
       "    </tr>\n",
       "  </thead>\n",
       "  <tbody>\n",
       "    <tr>\n",
       "      <th>0</th>\n",
       "      <td>2010-02-28</td>\n",
       "      <td>1103.544</td>\n",
       "      <td>1107.606</td>\n",
       "      <td>1095.328</td>\n",
       "      <td>1103.056</td>\n",
       "      <td>1103.056</td>\n",
       "      <td>4.194034e+09</td>\n",
       "      <td>-0.000558</td>\n",
       "    </tr>\n",
       "    <tr>\n",
       "      <th>1</th>\n",
       "      <td>2010-03-07</td>\n",
       "      <td>1117.194</td>\n",
       "      <td>1125.664</td>\n",
       "      <td>1116.046</td>\n",
       "      <td>1122.896</td>\n",
       "      <td>1122.896</td>\n",
       "      <td>4.002330e+09</td>\n",
       "      <td>0.006101</td>\n",
       "    </tr>\n",
       "    <tr>\n",
       "      <th>2</th>\n",
       "      <td>2010-03-14</td>\n",
       "      <td>1142.370</td>\n",
       "      <td>1147.666</td>\n",
       "      <td>1139.544</td>\n",
       "      <td>1144.958</td>\n",
       "      <td>1144.958</td>\n",
       "      <td>4.805318e+09</td>\n",
       "      <td>0.001973</td>\n",
       "    </tr>\n",
       "    <tr>\n",
       "      <th>3</th>\n",
       "      <td>2010-03-21</td>\n",
       "      <td>1158.422</td>\n",
       "      <td>1163.614</td>\n",
       "      <td>1153.646</td>\n",
       "      <td>1160.382</td>\n",
       "      <td>1160.382</td>\n",
       "      <td>4.588800e+09</td>\n",
       "      <td>0.001716</td>\n",
       "    </tr>\n",
       "    <tr>\n",
       "      <th>4</th>\n",
       "      <td>2010-03-28</td>\n",
       "      <td>1166.806</td>\n",
       "      <td>1174.040</td>\n",
       "      <td>1161.858</td>\n",
       "      <td>1168.004</td>\n",
       "      <td>1168.004</td>\n",
       "      <td>4.751278e+09</td>\n",
       "      <td>0.001150</td>\n",
       "    </tr>\n",
       "  </tbody>\n",
       "</table>\n",
       "</div>"
      ],
      "text/plain": [
       "        Fecha     Abrir      Máx.      Mín.    Cierre  Cierre ajus.  \\\n",
       "0  2010-02-28  1103.544  1107.606  1095.328  1103.056      1103.056   \n",
       "1  2010-03-07  1117.194  1125.664  1116.046  1122.896      1122.896   \n",
       "2  2010-03-14  1142.370  1147.666  1139.544  1144.958      1144.958   \n",
       "3  2010-03-21  1158.422  1163.614  1153.646  1160.382      1160.382   \n",
       "4  2010-03-28  1166.806  1174.040  1161.858  1168.004      1168.004   \n",
       "\n",
       "        Volumen  rendimientos  \n",
       "0  4.194034e+09     -0.000558  \n",
       "1  4.002330e+09      0.006101  \n",
       "2  4.805318e+09      0.001973  \n",
       "3  4.588800e+09      0.001716  \n",
       "4  4.751278e+09      0.001150  "
      ]
     },
     "execution_count": 42,
     "metadata": {},
     "output_type": "execute_result"
    }
   ],
   "source": [
    "syp_data_Week.head()"
   ]
  },
  {
   "cell_type": "markdown",
   "id": "b6fdd001",
   "metadata": {},
   "source": [
    "A continuación cambiamos los datos diarios del data frame de NIKE"
   ]
  },
  {
   "cell_type": "code",
   "execution_count": 43,
   "id": "7a33111c",
   "metadata": {},
   "outputs": [
    {
     "name": "stdout",
     "output_type": "stream",
     "text": [
      "Index(['Date', 'Open', 'High', 'Low', 'Close', 'Adj Close', 'Volume',\n",
      "       'rendimientosNIKE'],\n",
      "      dtype='object')\n"
     ]
    }
   ],
   "source": [
    "print(pd_data.columns)"
   ]
  },
  {
   "cell_type": "code",
   "execution_count": 44,
   "id": "e74fae88",
   "metadata": {},
   "outputs": [
    {
     "data": {
      "text/html": [
       "<div>\n",
       "<style scoped>\n",
       "    .dataframe tbody tr th:only-of-type {\n",
       "        vertical-align: middle;\n",
       "    }\n",
       "\n",
       "    .dataframe tbody tr th {\n",
       "        vertical-align: top;\n",
       "    }\n",
       "\n",
       "    .dataframe thead th {\n",
       "        text-align: right;\n",
       "    }\n",
       "</style>\n",
       "<table border=\"1\" class=\"dataframe\">\n",
       "  <thead>\n",
       "    <tr style=\"text-align: right;\">\n",
       "      <th></th>\n",
       "      <th>Date</th>\n",
       "      <th>Open</th>\n",
       "      <th>High</th>\n",
       "      <th>Low</th>\n",
       "      <th>Close</th>\n",
       "      <th>Adj Close</th>\n",
       "      <th>Volume</th>\n",
       "      <th>rendimientosNIKE</th>\n",
       "    </tr>\n",
       "  </thead>\n",
       "  <tbody>\n",
       "    <tr>\n",
       "      <th>0</th>\n",
       "      <td>2010-02-22</td>\n",
       "      <td>16.142500</td>\n",
       "      <td>16.192499</td>\n",
       "      <td>16.007500</td>\n",
       "      <td>16.077499</td>\n",
       "      <td>13.766811</td>\n",
       "      <td>6864800</td>\n",
       "      <td>0.000609</td>\n",
       "    </tr>\n",
       "    <tr>\n",
       "      <th>1</th>\n",
       "      <td>2010-02-23</td>\n",
       "      <td>16.075001</td>\n",
       "      <td>16.137501</td>\n",
       "      <td>15.902500</td>\n",
       "      <td>16.032499</td>\n",
       "      <td>13.728276</td>\n",
       "      <td>7738800</td>\n",
       "      <td>-0.002803</td>\n",
       "    </tr>\n",
       "    <tr>\n",
       "      <th>2</th>\n",
       "      <td>2010-02-24</td>\n",
       "      <td>16.000000</td>\n",
       "      <td>16.254999</td>\n",
       "      <td>16.000000</td>\n",
       "      <td>16.232500</td>\n",
       "      <td>13.899527</td>\n",
       "      <td>11618000</td>\n",
       "      <td>0.012398</td>\n",
       "    </tr>\n",
       "    <tr>\n",
       "      <th>3</th>\n",
       "      <td>2010-02-25</td>\n",
       "      <td>16.252501</td>\n",
       "      <td>16.570000</td>\n",
       "      <td>16.002501</td>\n",
       "      <td>16.540001</td>\n",
       "      <td>14.162837</td>\n",
       "      <td>15967600</td>\n",
       "      <td>0.018766</td>\n",
       "    </tr>\n",
       "    <tr>\n",
       "      <th>4</th>\n",
       "      <td>2010-02-26</td>\n",
       "      <td>16.557501</td>\n",
       "      <td>16.962500</td>\n",
       "      <td>16.557501</td>\n",
       "      <td>16.900000</td>\n",
       "      <td>14.471098</td>\n",
       "      <td>19633200</td>\n",
       "      <td>0.021532</td>\n",
       "    </tr>\n",
       "  </tbody>\n",
       "</table>\n",
       "</div>"
      ],
      "text/plain": [
       "         Date       Open       High        Low      Close  Adj Close  \\\n",
       "0  2010-02-22  16.142500  16.192499  16.007500  16.077499  13.766811   \n",
       "1  2010-02-23  16.075001  16.137501  15.902500  16.032499  13.728276   \n",
       "2  2010-02-24  16.000000  16.254999  16.000000  16.232500  13.899527   \n",
       "3  2010-02-25  16.252501  16.570000  16.002501  16.540001  14.162837   \n",
       "4  2010-02-26  16.557501  16.962500  16.557501  16.900000  14.471098   \n",
       "\n",
       "     Volume  rendimientosNIKE  \n",
       "0   6864800          0.000609  \n",
       "1   7738800         -0.002803  \n",
       "2  11618000          0.012398  \n",
       "3  15967600          0.018766  \n",
       "4  19633200          0.021532  "
      ]
     },
     "execution_count": 44,
     "metadata": {},
     "output_type": "execute_result"
    }
   ],
   "source": [
    "pd_data.head()"
   ]
  },
  {
   "cell_type": "code",
   "execution_count": 45,
   "id": "9840788b",
   "metadata": {},
   "outputs": [],
   "source": [
    "pd_data = pd_data.reset_index()"
   ]
  },
  {
   "cell_type": "code",
   "execution_count": 46,
   "id": "04553c36",
   "metadata": {},
   "outputs": [
    {
     "data": {
      "text/html": [
       "<div>\n",
       "<style scoped>\n",
       "    .dataframe tbody tr th:only-of-type {\n",
       "        vertical-align: middle;\n",
       "    }\n",
       "\n",
       "    .dataframe tbody tr th {\n",
       "        vertical-align: top;\n",
       "    }\n",
       "\n",
       "    .dataframe thead th {\n",
       "        text-align: right;\n",
       "    }\n",
       "</style>\n",
       "<table border=\"1\" class=\"dataframe\">\n",
       "  <thead>\n",
       "    <tr style=\"text-align: right;\">\n",
       "      <th></th>\n",
       "      <th>index</th>\n",
       "      <th>Date</th>\n",
       "      <th>Open</th>\n",
       "      <th>High</th>\n",
       "      <th>Low</th>\n",
       "      <th>Close</th>\n",
       "      <th>Adj Close</th>\n",
       "      <th>Volume</th>\n",
       "      <th>rendimientosNIKE</th>\n",
       "    </tr>\n",
       "  </thead>\n",
       "  <tbody>\n",
       "    <tr>\n",
       "      <th>0</th>\n",
       "      <td>0</td>\n",
       "      <td>2010-02-22</td>\n",
       "      <td>16.142500</td>\n",
       "      <td>16.192499</td>\n",
       "      <td>16.007500</td>\n",
       "      <td>16.077499</td>\n",
       "      <td>13.766811</td>\n",
       "      <td>6864800</td>\n",
       "      <td>0.000609</td>\n",
       "    </tr>\n",
       "    <tr>\n",
       "      <th>1</th>\n",
       "      <td>1</td>\n",
       "      <td>2010-02-23</td>\n",
       "      <td>16.075001</td>\n",
       "      <td>16.137501</td>\n",
       "      <td>15.902500</td>\n",
       "      <td>16.032499</td>\n",
       "      <td>13.728276</td>\n",
       "      <td>7738800</td>\n",
       "      <td>-0.002803</td>\n",
       "    </tr>\n",
       "    <tr>\n",
       "      <th>2</th>\n",
       "      <td>2</td>\n",
       "      <td>2010-02-24</td>\n",
       "      <td>16.000000</td>\n",
       "      <td>16.254999</td>\n",
       "      <td>16.000000</td>\n",
       "      <td>16.232500</td>\n",
       "      <td>13.899527</td>\n",
       "      <td>11618000</td>\n",
       "      <td>0.012398</td>\n",
       "    </tr>\n",
       "    <tr>\n",
       "      <th>3</th>\n",
       "      <td>3</td>\n",
       "      <td>2010-02-25</td>\n",
       "      <td>16.252501</td>\n",
       "      <td>16.570000</td>\n",
       "      <td>16.002501</td>\n",
       "      <td>16.540001</td>\n",
       "      <td>14.162837</td>\n",
       "      <td>15967600</td>\n",
       "      <td>0.018766</td>\n",
       "    </tr>\n",
       "    <tr>\n",
       "      <th>4</th>\n",
       "      <td>4</td>\n",
       "      <td>2010-02-26</td>\n",
       "      <td>16.557501</td>\n",
       "      <td>16.962500</td>\n",
       "      <td>16.557501</td>\n",
       "      <td>16.900000</td>\n",
       "      <td>14.471098</td>\n",
       "      <td>19633200</td>\n",
       "      <td>0.021532</td>\n",
       "    </tr>\n",
       "  </tbody>\n",
       "</table>\n",
       "</div>"
      ],
      "text/plain": [
       "   index        Date       Open       High        Low      Close  Adj Close  \\\n",
       "0      0  2010-02-22  16.142500  16.192499  16.007500  16.077499  13.766811   \n",
       "1      1  2010-02-23  16.075001  16.137501  15.902500  16.032499  13.728276   \n",
       "2      2  2010-02-24  16.000000  16.254999  16.000000  16.232500  13.899527   \n",
       "3      3  2010-02-25  16.252501  16.570000  16.002501  16.540001  14.162837   \n",
       "4      4  2010-02-26  16.557501  16.962500  16.557501  16.900000  14.471098   \n",
       "\n",
       "     Volume  rendimientosNIKE  \n",
       "0   6864800          0.000609  \n",
       "1   7738800         -0.002803  \n",
       "2  11618000          0.012398  \n",
       "3  15967600          0.018766  \n",
       "4  19633200          0.021532  "
      ]
     },
     "execution_count": 46,
     "metadata": {},
     "output_type": "execute_result"
    }
   ],
   "source": [
    "pd_data.head()"
   ]
  },
  {
   "cell_type": "code",
   "execution_count": 47,
   "id": "9de4698a",
   "metadata": {},
   "outputs": [],
   "source": [
    "pd_data = pd_data.drop('index', axis=1)\n"
   ]
  },
  {
   "cell_type": "code",
   "execution_count": 48,
   "id": "f85db10f",
   "metadata": {},
   "outputs": [],
   "source": [
    "# Convertir la columna \"Date\" en formato de fecha\n",
    "pd_data['Date'] = pd.to_datetime(pd_data['Date'])\n",
    "\n",
    "# Establecer la columna \"Date\" como índice\n",
    "pd_data = pd_data.set_index('Date')\n",
    "\n",
    "# Agrupar los datos por semana y obtener la media semanal\n",
    "pd_data_weekly = pd_data.resample('W').mean()\n",
    "\n",
    "# Reiniciar el índice del nuevo dataframe\n",
    "pd_data_weekly = pd_data_weekly.reset_index()"
   ]
  },
  {
   "cell_type": "code",
   "execution_count": 49,
   "id": "306efa15",
   "metadata": {},
   "outputs": [
    {
     "data": {
      "text/html": [
       "<div>\n",
       "<style scoped>\n",
       "    .dataframe tbody tr th:only-of-type {\n",
       "        vertical-align: middle;\n",
       "    }\n",
       "\n",
       "    .dataframe tbody tr th {\n",
       "        vertical-align: top;\n",
       "    }\n",
       "\n",
       "    .dataframe thead th {\n",
       "        text-align: right;\n",
       "    }\n",
       "</style>\n",
       "<table border=\"1\" class=\"dataframe\">\n",
       "  <thead>\n",
       "    <tr style=\"text-align: right;\">\n",
       "      <th></th>\n",
       "      <th>Date</th>\n",
       "      <th>Open</th>\n",
       "      <th>High</th>\n",
       "      <th>Low</th>\n",
       "      <th>Close</th>\n",
       "      <th>Adj Close</th>\n",
       "      <th>Volume</th>\n",
       "      <th>rendimientosNIKE</th>\n",
       "    </tr>\n",
       "  </thead>\n",
       "  <tbody>\n",
       "    <tr>\n",
       "      <th>0</th>\n",
       "      <td>2010-02-28</td>\n",
       "      <td>16.205501</td>\n",
       "      <td>16.4235</td>\n",
       "      <td>16.0940</td>\n",
       "      <td>16.356500</td>\n",
       "      <td>14.005710</td>\n",
       "      <td>12364480.0</td>\n",
       "      <td>0.010100</td>\n",
       "    </tr>\n",
       "    <tr>\n",
       "      <th>1</th>\n",
       "      <td>2010-03-07</td>\n",
       "      <td>16.976000</td>\n",
       "      <td>17.0790</td>\n",
       "      <td>16.8910</td>\n",
       "      <td>16.993000</td>\n",
       "      <td>14.574060</td>\n",
       "      <td>8591120.0</td>\n",
       "      <td>0.002119</td>\n",
       "    </tr>\n",
       "    <tr>\n",
       "      <th>2</th>\n",
       "      <td>2010-03-14</td>\n",
       "      <td>17.208000</td>\n",
       "      <td>17.3615</td>\n",
       "      <td>17.1515</td>\n",
       "      <td>17.326000</td>\n",
       "      <td>14.895330</td>\n",
       "      <td>6577520.0</td>\n",
       "      <td>0.004573</td>\n",
       "    </tr>\n",
       "    <tr>\n",
       "      <th>3</th>\n",
       "      <td>2010-03-21</td>\n",
       "      <td>17.904000</td>\n",
       "      <td>18.1390</td>\n",
       "      <td>17.8260</td>\n",
       "      <td>17.991500</td>\n",
       "      <td>15.467465</td>\n",
       "      <td>19371680.0</td>\n",
       "      <td>0.010098</td>\n",
       "    </tr>\n",
       "    <tr>\n",
       "      <th>4</th>\n",
       "      <td>2010-03-28</td>\n",
       "      <td>18.480500</td>\n",
       "      <td>18.6335</td>\n",
       "      <td>18.3350</td>\n",
       "      <td>18.460499</td>\n",
       "      <td>15.870668</td>\n",
       "      <td>10346880.0</td>\n",
       "      <td>0.001004</td>\n",
       "    </tr>\n",
       "  </tbody>\n",
       "</table>\n",
       "</div>"
      ],
      "text/plain": [
       "        Date       Open     High      Low      Close  Adj Close      Volume  \\\n",
       "0 2010-02-28  16.205501  16.4235  16.0940  16.356500  14.005710  12364480.0   \n",
       "1 2010-03-07  16.976000  17.0790  16.8910  16.993000  14.574060   8591120.0   \n",
       "2 2010-03-14  17.208000  17.3615  17.1515  17.326000  14.895330   6577520.0   \n",
       "3 2010-03-21  17.904000  18.1390  17.8260  17.991500  15.467465  19371680.0   \n",
       "4 2010-03-28  18.480500  18.6335  18.3350  18.460499  15.870668  10346880.0   \n",
       "\n",
       "   rendimientosNIKE  \n",
       "0          0.010100  \n",
       "1          0.002119  \n",
       "2          0.004573  \n",
       "3          0.010098  \n",
       "4          0.001004  "
      ]
     },
     "execution_count": 49,
     "metadata": {},
     "output_type": "execute_result"
    }
   ],
   "source": [
    "pd_data_weekly.head()"
   ]
  },
  {
   "cell_type": "code",
   "execution_count": 50,
   "id": "fc3941ff",
   "metadata": {},
   "outputs": [],
   "source": [
    "#pd_data_weekly.to_csv('pd_data_weekly.csv')"
   ]
  },
  {
   "cell_type": "markdown",
   "id": "804cce8a",
   "metadata": {},
   "source": [
    "# REGRESIONES SEMANALES con s&p 500"
   ]
  },
  {
   "cell_type": "code",
   "execution_count": 51,
   "id": "06b7c271",
   "metadata": {},
   "outputs": [],
   "source": [
    "y = pd_data_weekly[['rendimientosNIKE']]\n",
    "X = syp_data_Week[['rendimientos']]"
   ]
  },
  {
   "cell_type": "code",
   "execution_count": 52,
   "id": "22f1789f",
   "metadata": {},
   "outputs": [],
   "source": [
    "#Dividimos el data frame en train y test, donde el train es un 70% de los datos totales\n",
    "from sklearn.model_selection import train_test_split\n",
    "\n",
    "X_train, X_test, y_train, y_test = train_test_split(X, y, test_size=0.3, random_state = 1)"
   ]
  },
  {
   "cell_type": "markdown",
   "id": "663bd873",
   "metadata": {},
   "source": [
    "## 2.2.1. MODELOS"
   ]
  },
  {
   "cell_type": "markdown",
   "id": "bd20b298",
   "metadata": {},
   "source": [
    "### 2.2.1.1REGRESION SIMPLES"
   ]
  },
  {
   "cell_type": "code",
   "execution_count": 53,
   "id": "88a1364a",
   "metadata": {},
   "outputs": [
    {
     "data": {
      "text/html": [
       "<style>#sk-container-id-3 {color: black;background-color: white;}#sk-container-id-3 pre{padding: 0;}#sk-container-id-3 div.sk-toggleable {background-color: white;}#sk-container-id-3 label.sk-toggleable__label {cursor: pointer;display: block;width: 100%;margin-bottom: 0;padding: 0.3em;box-sizing: border-box;text-align: center;}#sk-container-id-3 label.sk-toggleable__label-arrow:before {content: \"▸\";float: left;margin-right: 0.25em;color: #696969;}#sk-container-id-3 label.sk-toggleable__label-arrow:hover:before {color: black;}#sk-container-id-3 div.sk-estimator:hover label.sk-toggleable__label-arrow:before {color: black;}#sk-container-id-3 div.sk-toggleable__content {max-height: 0;max-width: 0;overflow: hidden;text-align: left;background-color: #f0f8ff;}#sk-container-id-3 div.sk-toggleable__content pre {margin: 0.2em;color: black;border-radius: 0.25em;background-color: #f0f8ff;}#sk-container-id-3 input.sk-toggleable__control:checked~div.sk-toggleable__content {max-height: 200px;max-width: 100%;overflow: auto;}#sk-container-id-3 input.sk-toggleable__control:checked~label.sk-toggleable__label-arrow:before {content: \"▾\";}#sk-container-id-3 div.sk-estimator input.sk-toggleable__control:checked~label.sk-toggleable__label {background-color: #d4ebff;}#sk-container-id-3 div.sk-label input.sk-toggleable__control:checked~label.sk-toggleable__label {background-color: #d4ebff;}#sk-container-id-3 input.sk-hidden--visually {border: 0;clip: rect(1px 1px 1px 1px);clip: rect(1px, 1px, 1px, 1px);height: 1px;margin: -1px;overflow: hidden;padding: 0;position: absolute;width: 1px;}#sk-container-id-3 div.sk-estimator {font-family: monospace;background-color: #f0f8ff;border: 1px dotted black;border-radius: 0.25em;box-sizing: border-box;margin-bottom: 0.5em;}#sk-container-id-3 div.sk-estimator:hover {background-color: #d4ebff;}#sk-container-id-3 div.sk-parallel-item::after {content: \"\";width: 100%;border-bottom: 1px solid gray;flex-grow: 1;}#sk-container-id-3 div.sk-label:hover label.sk-toggleable__label {background-color: #d4ebff;}#sk-container-id-3 div.sk-serial::before {content: \"\";position: absolute;border-left: 1px solid gray;box-sizing: border-box;top: 0;bottom: 0;left: 50%;z-index: 0;}#sk-container-id-3 div.sk-serial {display: flex;flex-direction: column;align-items: center;background-color: white;padding-right: 0.2em;padding-left: 0.2em;position: relative;}#sk-container-id-3 div.sk-item {position: relative;z-index: 1;}#sk-container-id-3 div.sk-parallel {display: flex;align-items: stretch;justify-content: center;background-color: white;position: relative;}#sk-container-id-3 div.sk-item::before, #sk-container-id-3 div.sk-parallel-item::before {content: \"\";position: absolute;border-left: 1px solid gray;box-sizing: border-box;top: 0;bottom: 0;left: 50%;z-index: -1;}#sk-container-id-3 div.sk-parallel-item {display: flex;flex-direction: column;z-index: 1;position: relative;background-color: white;}#sk-container-id-3 div.sk-parallel-item:first-child::after {align-self: flex-end;width: 50%;}#sk-container-id-3 div.sk-parallel-item:last-child::after {align-self: flex-start;width: 50%;}#sk-container-id-3 div.sk-parallel-item:only-child::after {width: 0;}#sk-container-id-3 div.sk-dashed-wrapped {border: 1px dashed gray;margin: 0 0.4em 0.5em 0.4em;box-sizing: border-box;padding-bottom: 0.4em;background-color: white;}#sk-container-id-3 div.sk-label label {font-family: monospace;font-weight: bold;display: inline-block;line-height: 1.2em;}#sk-container-id-3 div.sk-label-container {text-align: center;}#sk-container-id-3 div.sk-container {/* jupyter's `normalize.less` sets `[hidden] { display: none; }` but bootstrap.min.css set `[hidden] { display: none !important; }` so we also need the `!important` here to be able to override the default hidden behavior on the sphinx rendered scikit-learn.org. See: https://github.com/scikit-learn/scikit-learn/issues/21755 */display: inline-block !important;position: relative;}#sk-container-id-3 div.sk-text-repr-fallback {display: none;}</style><div id=\"sk-container-id-3\" class=\"sk-top-container\"><div class=\"sk-text-repr-fallback\"><pre>LinearRegression()</pre><b>In a Jupyter environment, please rerun this cell to show the HTML representation or trust the notebook. <br />On GitHub, the HTML representation is unable to render, please try loading this page with nbviewer.org.</b></div><div class=\"sk-container\" hidden><div class=\"sk-item\"><div class=\"sk-estimator sk-toggleable\"><input class=\"sk-toggleable__control sk-hidden--visually\" id=\"sk-estimator-id-3\" type=\"checkbox\" checked><label for=\"sk-estimator-id-3\" class=\"sk-toggleable__label sk-toggleable__label-arrow\">LinearRegression</label><div class=\"sk-toggleable__content\"><pre>LinearRegression()</pre></div></div></div></div></div>"
      ],
      "text/plain": [
       "LinearRegression()"
      ]
     },
     "execution_count": 53,
     "metadata": {},
     "output_type": "execute_result"
    }
   ],
   "source": [
    "from sklearn.linear_model import LinearRegression\n",
    "\n",
    "lm = LinearRegression()\n",
    "lm.fit(X_train,y_train)"
   ]
  },
  {
   "cell_type": "code",
   "execution_count": 54,
   "id": "85a2c856",
   "metadata": {},
   "outputs": [
    {
     "name": "stdout",
     "output_type": "stream",
     "text": [
      "[[1.03487586]]\n",
      "[0.00010796]\n"
     ]
    }
   ],
   "source": [
    "#lm.coef_ y lm.intercept_ definen la ecuación de la recta de regresión lineal, \n",
    "#la cual se utiliza para predecir los valores de la variable dependiente \n",
    "#en función de los valores de las variables predictoras.\n",
    "print(lm.coef_) #Beta de la regresión lineal semanal.\n",
    "print(lm.intercept_)"
   ]
  },
  {
   "cell_type": "code",
   "execution_count": 55,
   "id": "38ae22db",
   "metadata": {},
   "outputs": [
    {
     "data": {
      "image/png": "[encoded data removed]",
      "text/plain": [
       "<Figure size 864x432 with 1 Axes>"
      ]
     },
     "metadata": {},
     "output_type": "display_data"
    }
   ],
   "source": [
    "sns.set_style('darkgrid') # Establece el estilo de trazado como 'darkgrid'\n",
    "plt.figure(figsize=(12,6)) # Establece el tamaño de la figura\n",
    "\n",
    "sns.regplot(y=y_train['rendimientosNIKE'], \n",
    "            x=X_train['rendimientos'], \n",
    "            ci=None, \n",
    "            line_kws={\"color\": \"red\"})\n",
    "\n",
    "plt.title('Rendimiento del Precio de cierre en función del rendimiento del mercado S&P500') # Establece el título del gráfico\n",
    "plt.xlabel('Rendimiento del mercado ') # Establece la etiqueta del eje x\n",
    "plt.ylabel('Rendimiento del Precio de cierre de las acciones de NIKE') # Establece la etiqueta del eje y\n",
    "\n",
    "plt.show() # Muestra el gráfico"
   ]
  },
  {
   "cell_type": "code",
   "execution_count": 56,
   "id": "8c44c722",
   "metadata": {},
   "outputs": [
    {
     "name": "stderr",
     "output_type": "stream",
     "text": [
      "/Users/administrador/opt/anaconda3/envs/MachineDiego/lib/python3.9/site-packages/sklearn/base.py:493: FutureWarning: The feature names should match those that were passed during fit. Starting version 1.2, an error will be raised.\n",
      "Feature names unseen at fit time:\n",
      "- rendimientosNIKE\n",
      "Feature names seen at fit time, yet now missing:\n",
      "- rendimientos\n",
      "\n",
      "  warnings.warn(message, FutureWarning)\n",
      "/Users/administrador/opt/anaconda3/envs/MachineDiego/lib/python3.9/site-packages/sklearn/base.py:493: FutureWarning: The feature names should match those that were passed during fit. Starting version 1.2, an error will be raised.\n",
      "Feature names unseen at fit time:\n",
      "- rendimientosNIKE\n",
      "Feature names seen at fit time, yet now missing:\n",
      "- rendimientos\n",
      "\n",
      "  warnings.warn(message, FutureWarning)\n"
     ]
    },
    {
     "data": {
      "text/html": [
       "<div>\n",
       "<style scoped>\n",
       "    .dataframe tbody tr th:only-of-type {\n",
       "        vertical-align: middle;\n",
       "    }\n",
       "\n",
       "    .dataframe tbody tr th {\n",
       "        vertical-align: top;\n",
       "    }\n",
       "\n",
       "    .dataframe thead th {\n",
       "        text-align: right;\n",
       "    }\n",
       "</style>\n",
       "<table border=\"1\" class=\"dataframe\">\n",
       "  <thead>\n",
       "    <tr style=\"text-align: right;\">\n",
       "      <th></th>\n",
       "      <th>model</th>\n",
       "      <th>rmse_train</th>\n",
       "      <th>rmse_test</th>\n",
       "    </tr>\n",
       "  </thead>\n",
       "  <tbody>\n",
       "    <tr>\n",
       "      <th>0</th>\n",
       "      <td>Linear Model (lm)</td>\n",
       "      <td>0.006056</td>\n",
       "      <td>0.005689</td>\n",
       "    </tr>\n",
       "  </tbody>\n",
       "</table>\n",
       "</div>"
      ],
      "text/plain": [
       "               model  rmse_train  rmse_test\n",
       "0  Linear Model (lm)    0.006056   0.005689"
      ]
     },
     "execution_count": 56,
     "metadata": {},
     "output_type": "execute_result"
    }
   ],
   "source": [
    "# Training data\n",
    "pred_train = lm.predict(y_train)\n",
    "rmse_train = mean_squared_error(X_train, pred_train, squared=False)\n",
    "\n",
    "# Test data\n",
    "pred_test = lm.predict(y_test)\n",
    "rmse_test =mean_squared_error(X_test, pred_test, squared=False)\n",
    "\n",
    "# Save model results\n",
    "model_results_lm = pd.DataFrame(\n",
    "    {\n",
    "    \"model\": \"Linear Model (lm)\",  \n",
    "    \"rmse_train\": [rmse_train], \n",
    "    \"rmse_test\": [rmse_test],\n",
    "    })\n",
    "model_results_lm"
   ]
  },
  {
   "cell_type": "markdown",
   "id": "c9193ce1",
   "metadata": {},
   "source": [
    "### 2.2.1.2. POLYNOMIAL REGRESSION"
   ]
  },
  {
   "cell_type": "code",
   "execution_count": 57,
   "id": "ba9ae4a6",
   "metadata": {},
   "outputs": [],
   "source": [
    "from sklearn.preprocessing import PolynomialFeatures\n",
    "\n",
    "poly = PolynomialFeatures(2)\n",
    "X_train_poly = poly.fit_transform(X_train)\n",
    "X_test_poly = poly.fit_transform(X_test)"
   ]
  },
  {
   "cell_type": "code",
   "execution_count": 58,
   "id": "7ecf24fa",
   "metadata": {},
   "outputs": [
    {
     "data": {
      "text/html": [
       "<style>#sk-container-id-4 {color: black;background-color: white;}#sk-container-id-4 pre{padding: 0;}#sk-container-id-4 div.sk-toggleable {background-color: white;}#sk-container-id-4 label.sk-toggleable__label {cursor: pointer;display: block;width: 100%;margin-bottom: 0;padding: 0.3em;box-sizing: border-box;text-align: center;}#sk-container-id-4 label.sk-toggleable__label-arrow:before {content: \"▸\";float: left;margin-right: 0.25em;color: #696969;}#sk-container-id-4 label.sk-toggleable__label-arrow:hover:before {color: black;}#sk-container-id-4 div.sk-estimator:hover label.sk-toggleable__label-arrow:before {color: black;}#sk-container-id-4 div.sk-toggleable__content {max-height: 0;max-width: 0;overflow: hidden;text-align: left;background-color: #f0f8ff;}#sk-container-id-4 div.sk-toggleable__content pre {margin: 0.2em;color: black;border-radius: 0.25em;background-color: #f0f8ff;}#sk-container-id-4 input.sk-toggleable__control:checked~div.sk-toggleable__content {max-height: 200px;max-width: 100%;overflow: auto;}#sk-container-id-4 input.sk-toggleable__control:checked~label.sk-toggleable__label-arrow:before {content: \"▾\";}#sk-container-id-4 div.sk-estimator input.sk-toggleable__control:checked~label.sk-toggleable__label {background-color: #d4ebff;}#sk-container-id-4 div.sk-label input.sk-toggleable__control:checked~label.sk-toggleable__label {background-color: #d4ebff;}#sk-container-id-4 input.sk-hidden--visually {border: 0;clip: rect(1px 1px 1px 1px);clip: rect(1px, 1px, 1px, 1px);height: 1px;margin: -1px;overflow: hidden;padding: 0;position: absolute;width: 1px;}#sk-container-id-4 div.sk-estimator {font-family: monospace;background-color: #f0f8ff;border: 1px dotted black;border-radius: 0.25em;box-sizing: border-box;margin-bottom: 0.5em;}#sk-container-id-4 div.sk-estimator:hover {background-color: #d4ebff;}#sk-container-id-4 div.sk-parallel-item::after {content: \"\";width: 100%;border-bottom: 1px solid gray;flex-grow: 1;}#sk-container-id-4 div.sk-label:hover label.sk-toggleable__label {background-color: #d4ebff;}#sk-container-id-4 div.sk-serial::before {content: \"\";position: absolute;border-left: 1px solid gray;box-sizing: border-box;top: 0;bottom: 0;left: 50%;z-index: 0;}#sk-container-id-4 div.sk-serial {display: flex;flex-direction: column;align-items: center;background-color: white;padding-right: 0.2em;padding-left: 0.2em;position: relative;}#sk-container-id-4 div.sk-item {position: relative;z-index: 1;}#sk-container-id-4 div.sk-parallel {display: flex;align-items: stretch;justify-content: center;background-color: white;position: relative;}#sk-container-id-4 div.sk-item::before, #sk-container-id-4 div.sk-parallel-item::before {content: \"\";position: absolute;border-left: 1px solid gray;box-sizing: border-box;top: 0;bottom: 0;left: 50%;z-index: -1;}#sk-container-id-4 div.sk-parallel-item {display: flex;flex-direction: column;z-index: 1;position: relative;background-color: white;}#sk-container-id-4 div.sk-parallel-item:first-child::after {align-self: flex-end;width: 50%;}#sk-container-id-4 div.sk-parallel-item:last-child::after {align-self: flex-start;width: 50%;}#sk-container-id-4 div.sk-parallel-item:only-child::after {width: 0;}#sk-container-id-4 div.sk-dashed-wrapped {border: 1px dashed gray;margin: 0 0.4em 0.5em 0.4em;box-sizing: border-box;padding-bottom: 0.4em;background-color: white;}#sk-container-id-4 div.sk-label label {font-family: monospace;font-weight: bold;display: inline-block;line-height: 1.2em;}#sk-container-id-4 div.sk-label-container {text-align: center;}#sk-container-id-4 div.sk-container {/* jupyter's `normalize.less` sets `[hidden] { display: none; }` but bootstrap.min.css set `[hidden] { display: none !important; }` so we also need the `!important` here to be able to override the default hidden behavior on the sphinx rendered scikit-learn.org. See: https://github.com/scikit-learn/scikit-learn/issues/21755 */display: inline-block !important;position: relative;}#sk-container-id-4 div.sk-text-repr-fallback {display: none;}</style><div id=\"sk-container-id-4\" class=\"sk-top-container\"><div class=\"sk-text-repr-fallback\"><pre>LinearRegression()</pre><b>In a Jupyter environment, please rerun this cell to show the HTML representation or trust the notebook. <br />On GitHub, the HTML representation is unable to render, please try loading this page with nbviewer.org.</b></div><div class=\"sk-container\" hidden><div class=\"sk-item\"><div class=\"sk-estimator sk-toggleable\"><input class=\"sk-toggleable__control sk-hidden--visually\" id=\"sk-estimator-id-4\" type=\"checkbox\" checked><label for=\"sk-estimator-id-4\" class=\"sk-toggleable__label sk-toggleable__label-arrow\">LinearRegression</label><div class=\"sk-toggleable__content\"><pre>LinearRegression()</pre></div></div></div></div></div>"
      ],
      "text/plain": [
       "LinearRegression()"
      ]
     },
     "execution_count": 58,
     "metadata": {},
     "output_type": "execute_result"
    }
   ],
   "source": [
    "pm = LinearRegression()\n",
    "pm.fit(X_train_poly,y_train)"
   ]
  },
  {
   "cell_type": "code",
   "execution_count": 59,
   "id": "5fa931c1",
   "metadata": {},
   "outputs": [
    {
     "name": "stdout",
     "output_type": "stream",
     "text": [
      "[[0.         1.04355283 3.51666375]]\n"
     ]
    }
   ],
   "source": [
    "# Obtener los coeficientes del modelo\n",
    "coeficientes_polynomial = pm.coef_\n",
    "\n",
    "print(coeficientes_polynomial)"
   ]
  },
  {
   "cell_type": "code",
   "execution_count": 60,
   "id": "ce701e2c",
   "metadata": {},
   "outputs": [
    {
     "data": {
      "image/png": "[encoded data removed]",
      "text/plain": [
       "<Figure size 864x432 with 1 Axes>"
      ]
     },
     "metadata": {},
     "output_type": "display_data"
    }
   ],
   "source": [
    "#Gráfico\n",
    "sns.set_style('darkgrid') # Establece el estilo de trazado como 'darkgrid'\n",
    "plt.figure(figsize=(12,6)) # Establece el tamaño de la figura\n",
    "# plot\n",
    "sns.regplot(y=y_train['rendimientosNIKE'], \n",
    "            x=X_train['rendimientos'], \n",
    "            ci=None, \n",
    "            order=2, \n",
    "            line_kws={\"color\": \"red\"});\n",
    "plt.title('Rendimiento del Precio de cierre en función del rendimiento del mercado S&P500') # Establece el título del gráfico\n",
    "plt.xlabel('Rendimiento del mercado') # Establece la etiqueta del eje x\n",
    "plt.ylabel('Rendimiento del Precio de apertura de las acciones de NIKE') # Establece la etiqueta del eje y\n",
    "\n",
    "plt.show() # Muestra el gráfico"
   ]
  },
  {
   "cell_type": "code",
   "execution_count": 61,
   "id": "1df4a630",
   "metadata": {},
   "outputs": [
    {
     "data": {
      "text/html": [
       "<div>\n",
       "<style scoped>\n",
       "    .dataframe tbody tr th:only-of-type {\n",
       "        vertical-align: middle;\n",
       "    }\n",
       "\n",
       "    .dataframe tbody tr th {\n",
       "        vertical-align: top;\n",
       "    }\n",
       "\n",
       "    .dataframe thead th {\n",
       "        text-align: right;\n",
       "    }\n",
       "</style>\n",
       "<table border=\"1\" class=\"dataframe\">\n",
       "  <thead>\n",
       "    <tr style=\"text-align: right;\">\n",
       "      <th></th>\n",
       "      <th>model</th>\n",
       "      <th>rmse_train</th>\n",
       "      <th>rmse_test</th>\n",
       "    </tr>\n",
       "  </thead>\n",
       "  <tbody>\n",
       "    <tr>\n",
       "      <th>0</th>\n",
       "      <td>Linear Model (lm)</td>\n",
       "      <td>0.006056</td>\n",
       "      <td>0.005689</td>\n",
       "    </tr>\n",
       "    <tr>\n",
       "      <th>0</th>\n",
       "      <td>Polynomial Model (pm)</td>\n",
       "      <td>0.005837</td>\n",
       "      <td>0.005447</td>\n",
       "    </tr>\n",
       "  </tbody>\n",
       "</table>\n",
       "</div>"
      ],
      "text/plain": [
       "                   model  rmse_train  rmse_test\n",
       "0      Linear Model (lm)    0.006056   0.005689\n",
       "0  Polynomial Model (pm)    0.005837   0.005447"
      ]
     },
     "execution_count": 61,
     "metadata": {},
     "output_type": "execute_result"
    }
   ],
   "source": [
    "# Training data\n",
    "\n",
    "pred_train = pm.predict(X_train_poly) \n",
    "rmse_train = mean_squared_error(y_train, \n",
    "                                pred_train, \n",
    "                                squared=False)\n",
    "\n",
    "# Test data\n",
    "pred_test = pm.predict(X_test_poly)\n",
    "rmse_test =mean_squared_error(y_test, \n",
    "                              pred_test, \n",
    "                              squared=False)\n",
    "\n",
    "# Save model results\n",
    "model_results_pm = pd.DataFrame(\n",
    "    {\n",
    "    \"model\": \"Polynomial Model (pm)\",  \n",
    "    \"rmse_train\": [rmse_train], \n",
    "    \"rmse_test\": [rmse_test],\n",
    "    })\n",
    "\n",
    "results = pd.concat([model_results_lm, model_results_pm], axis=0)\n",
    "results"
   ]
  },
  {
   "cell_type": "markdown",
   "id": "bf097bbf",
   "metadata": {},
   "source": [
    "### 2.2.1.3. CUBIC SPLINES"
   ]
  },
  {
   "cell_type": "code",
   "execution_count": 62,
   "id": "506e7fc7",
   "metadata": {},
   "outputs": [],
   "source": [
    "from patsy import dmatrix\n",
    "# Generación de spline cúbico con 3 nudos a 25, 50 y 75\n",
    "knots = np.percentile(X_train, [25, 50, 75]) \n",
    "transformed_x = dmatrix(\n",
    "            \"bs(train, knots=knots, degree=3, include_intercept=False)\", \n",
    "                {\"train\": X_train},return_type='dataframe') "
   ]
  },
  {
   "cell_type": "code",
   "execution_count": 63,
   "id": "b761b539",
   "metadata": {},
   "outputs": [
    {
     "data": {
      "text/html": [
       "<div>\n",
       "<style scoped>\n",
       "    .dataframe tbody tr th:only-of-type {\n",
       "        vertical-align: middle;\n",
       "    }\n",
       "\n",
       "    .dataframe tbody tr th {\n",
       "        vertical-align: top;\n",
       "    }\n",
       "\n",
       "    .dataframe thead th {\n",
       "        text-align: right;\n",
       "    }\n",
       "</style>\n",
       "<table border=\"1\" class=\"dataframe\">\n",
       "  <thead>\n",
       "    <tr style=\"text-align: right;\">\n",
       "      <th></th>\n",
       "      <th>Intercept</th>\n",
       "      <th>bs(train, knots=knots, degree=3, include_intercept=False)[0]</th>\n",
       "      <th>bs(train, knots=knots, degree=3, include_intercept=False)[1]</th>\n",
       "      <th>bs(train, knots=knots, degree=3, include_intercept=False)[2]</th>\n",
       "      <th>bs(train, knots=knots, degree=3, include_intercept=False)[3]</th>\n",
       "      <th>bs(train, knots=knots, degree=3, include_intercept=False)[4]</th>\n",
       "      <th>bs(train, knots=knots, degree=3, include_intercept=False)[5]</th>\n",
       "    </tr>\n",
       "  </thead>\n",
       "  <tbody>\n",
       "    <tr>\n",
       "      <th>547</th>\n",
       "      <td>1.0</td>\n",
       "      <td>0.000000</td>\n",
       "      <td>0.012983</td>\n",
       "      <td>0.837891</td>\n",
       "      <td>0.148345</td>\n",
       "      <td>0.000781</td>\n",
       "      <td>0.000000</td>\n",
       "    </tr>\n",
       "    <tr>\n",
       "      <th>197</th>\n",
       "      <td>1.0</td>\n",
       "      <td>0.000328</td>\n",
       "      <td>0.096407</td>\n",
       "      <td>0.883829</td>\n",
       "      <td>0.019436</td>\n",
       "      <td>0.000000</td>\n",
       "      <td>0.000000</td>\n",
       "    </tr>\n",
       "    <tr>\n",
       "      <th>40</th>\n",
       "      <td>1.0</td>\n",
       "      <td>0.000000</td>\n",
       "      <td>0.000000</td>\n",
       "      <td>0.287155</td>\n",
       "      <td>0.508777</td>\n",
       "      <td>0.192421</td>\n",
       "      <td>0.011647</td>\n",
       "    </tr>\n",
       "    <tr>\n",
       "      <th>274</th>\n",
       "      <td>1.0</td>\n",
       "      <td>0.016682</td>\n",
       "      <td>0.285491</td>\n",
       "      <td>0.697809</td>\n",
       "      <td>0.000000</td>\n",
       "      <td>0.000000</td>\n",
       "      <td>0.000000</td>\n",
       "    </tr>\n",
       "    <tr>\n",
       "      <th>5</th>\n",
       "      <td>1.0</td>\n",
       "      <td>0.000000</td>\n",
       "      <td>0.000528</td>\n",
       "      <td>0.701308</td>\n",
       "      <td>0.287573</td>\n",
       "      <td>0.010592</td>\n",
       "      <td>0.000000</td>\n",
       "    </tr>\n",
       "  </tbody>\n",
       "</table>\n",
       "</div>"
      ],
      "text/plain": [
       "     Intercept  bs(train, knots=knots, degree=3, include_intercept=False)[0]  \\\n",
       "547        1.0                                           0.000000              \n",
       "197        1.0                                           0.000328              \n",
       "40         1.0                                           0.000000              \n",
       "274        1.0                                           0.016682              \n",
       "5          1.0                                           0.000000              \n",
       "\n",
       "     bs(train, knots=knots, degree=3, include_intercept=False)[1]  \\\n",
       "547                                           0.012983              \n",
       "197                                           0.096407              \n",
       "40                                            0.000000              \n",
       "274                                           0.285491              \n",
       "5                                             0.000528              \n",
       "\n",
       "     bs(train, knots=knots, degree=3, include_intercept=False)[2]  \\\n",
       "547                                           0.837891              \n",
       "197                                           0.883829              \n",
       "40                                            0.287155              \n",
       "274                                           0.697809              \n",
       "5                                             0.701308              \n",
       "\n",
       "     bs(train, knots=knots, degree=3, include_intercept=False)[3]  \\\n",
       "547                                           0.148345              \n",
       "197                                           0.019436              \n",
       "40                                            0.508777              \n",
       "274                                           0.000000              \n",
       "5                                             0.287573              \n",
       "\n",
       "     bs(train, knots=knots, degree=3, include_intercept=False)[4]  \\\n",
       "547                                           0.000781              \n",
       "197                                           0.000000              \n",
       "40                                            0.192421              \n",
       "274                                           0.000000              \n",
       "5                                             0.010592              \n",
       "\n",
       "     bs(train, knots=knots, degree=3, include_intercept=False)[5]  \n",
       "547                                           0.000000             \n",
       "197                                           0.000000             \n",
       "40                                            0.011647             \n",
       "274                                           0.000000             \n",
       "5                                             0.000000             "
      ]
     },
     "execution_count": 63,
     "metadata": {},
     "output_type": "execute_result"
    }
   ],
   "source": [
    "transformed_x.head()"
   ]
  },
  {
   "cell_type": "markdown",
   "id": "88ab1376",
   "metadata": {},
   "source": [
    "En esta tabla se presentan los valores del intercepto y de los coeficientes correspondientes a cada una de las funciones base utilizadas en un modelo de regresión lineal con knots en diferentes puntos. Los valores indican la contribución de cada función base a la predicción de la variable respuesta.\n",
    "\n",
    "En este caso, parece que las funciones base se han definido utilizando una combinación de knots y grado 3. En general, se observa que la mayoría de los coeficientes son muy pequeños en comparación con el intercepto, lo que indica que la contribución de cada función base a la predicción es bastante limitada. Sin embargo, algunos coeficientes son más grandes que otros, lo que sugiere que ciertas funciones base son más importantes para la predicción que otras.\n",
    "\n",
    "En resumen, esta tabla proporciona información sobre la importancia relativa de cada función base en un modelo de regresión lineal con knots en diferentes puntos."
   ]
  },
  {
   "cell_type": "code",
   "execution_count": 64,
   "id": "c0403dd3",
   "metadata": {},
   "outputs": [],
   "source": [
    "import statsmodels.api as sm\n",
    "# Ajuste del modelo lineal generalizado en el conjunto de datos transformado\n",
    "\n",
    "cs = sm.GLM(y_train, transformed_x).fit()"
   ]
  },
  {
   "cell_type": "code",
   "execution_count": 65,
   "id": "cc8c5a8a",
   "metadata": {},
   "outputs": [
    {
     "data": {
      "image/png": "[encoded data removed]",
      "text/plain": [
       "<Figure size 864x432 with 1 Axes>"
      ]
     },
     "metadata": {},
     "output_type": "display_data"
    }
   ],
   "source": [
    "sns.set_style('darkgrid') # Establece el estilo de trazado como 'darkgrid'\n",
    "plt.figure(figsize=(12,6)) # Establece el tamaño de la figura\n",
    "\n",
    "# Create observations\n",
    "xp = np.linspace(X_test.min(),X_test.max(), 100) \n",
    "# Make some predictions\n",
    "pred = cs.predict(dmatrix(\"bs(xp, knots=knots, include_intercept=False)\", {\"xp\": xp}, return_type='dataframe'))\n",
    "\n",
    "# plot\n",
    "sns.scatterplot(y=y_train['rendimientosNIKE'], x=X_train['rendimientos'])\n",
    "\n",
    "plt.plot(xp, pred, label='Cubic spline with degree=3 (3 knots)', color='red')\n",
    "plt.legend();\n",
    "\n",
    "plt.title('Rendimiento del Precio de cierre en función del rendimiento del mercado S&P500') # Establece el título del gráfico\n",
    "plt.xlabel('Rendimientos del mercado') # Establece la etiqueta del eje x\n",
    "plt.ylabel('Rendimiento del Precio de cierre de las acciones de NIKE') # Establece la etiqueta del eje y\n",
    "\n",
    "plt.show() # Muestra el gráfico"
   ]
  },
  {
   "cell_type": "code",
   "execution_count": 66,
   "id": "f2e2d13c",
   "metadata": {},
   "outputs": [
    {
     "name": "stdout",
     "output_type": "stream",
     "text": [
      "Beta para rendimientos: Intercept                                                      -0.025581\n",
      "bs(train, knots=knots, degree=3, include_intercept=False)[0]    0.013911\n",
      "bs(train, knots=knots, degree=3, include_intercept=False)[1]    0.014242\n",
      "bs(train, knots=knots, degree=3, include_intercept=False)[2]    0.027075\n",
      "bs(train, knots=knots, degree=3, include_intercept=False)[3]    0.029533\n",
      "bs(train, knots=knots, degree=3, include_intercept=False)[4]    0.043980\n",
      "bs(train, knots=knots, degree=3, include_intercept=False)[5]    0.039007\n",
      "dtype: float64\n"
     ]
    }
   ],
   "source": [
    "coeficientes_cubic_spline = cs.params\n",
    "\n",
    "beta_rendimientos = coeficientes_cubic_spline\n",
    "print(\"Beta para rendimientos:\", beta_rendimientos)"
   ]
  },
  {
   "cell_type": "code",
   "execution_count": 67,
   "id": "9aa4be6d",
   "metadata": {},
   "outputs": [
    {
     "data": {
      "text/html": [
       "<div>\n",
       "<style scoped>\n",
       "    .dataframe tbody tr th:only-of-type {\n",
       "        vertical-align: middle;\n",
       "    }\n",
       "\n",
       "    .dataframe tbody tr th {\n",
       "        vertical-align: top;\n",
       "    }\n",
       "\n",
       "    .dataframe thead th {\n",
       "        text-align: right;\n",
       "    }\n",
       "</style>\n",
       "<table border=\"1\" class=\"dataframe\">\n",
       "  <thead>\n",
       "    <tr style=\"text-align: right;\">\n",
       "      <th></th>\n",
       "      <th>model</th>\n",
       "      <th>rmse_train</th>\n",
       "      <th>rmse_test</th>\n",
       "    </tr>\n",
       "  </thead>\n",
       "  <tbody>\n",
       "    <tr>\n",
       "      <th>0</th>\n",
       "      <td>Linear Model (lm)</td>\n",
       "      <td>0.006056</td>\n",
       "      <td>0.005689</td>\n",
       "    </tr>\n",
       "    <tr>\n",
       "      <th>0</th>\n",
       "      <td>Polynomial Model (pm)</td>\n",
       "      <td>0.005837</td>\n",
       "      <td>0.005447</td>\n",
       "    </tr>\n",
       "    <tr>\n",
       "      <th>0</th>\n",
       "      <td>Cubic spline (cs)</td>\n",
       "      <td>0.005821</td>\n",
       "      <td>0.005752</td>\n",
       "    </tr>\n",
       "  </tbody>\n",
       "</table>\n",
       "</div>"
      ],
      "text/plain": [
       "                   model  rmse_train  rmse_test\n",
       "0      Linear Model (lm)    0.006056   0.005689\n",
       "0  Polynomial Model (pm)    0.005837   0.005447\n",
       "0      Cubic spline (cs)    0.005821   0.005752"
      ]
     },
     "execution_count": 67,
     "metadata": {},
     "output_type": "execute_result"
    }
   ],
   "source": [
    "# Training data\n",
    "\n",
    "pred_train = cs.predict(dmatrix(\"bs(train, knots=knots, include_intercept=False)\", {\"train\": X_train}, return_type='dataframe'))#### CAMBIO ####\n",
    "rmse_train = mean_squared_error(y_train, pred_train, squared=False) \n",
    "\n",
    "# Test data\n",
    "pred_test = cs.predict(dmatrix(\"bs(test, knots=knots, include_intercept=False)\", {\"test\": X_test}, return_type='dataframe'))\n",
    "rmse_test =mean_squared_error(y_test, pred_test, squared=False) \n",
    "\n",
    "# Save model results\n",
    "model_results_cs = pd.DataFrame(\n",
    "    {\n",
    "    \"model\": \"Cubic spline (cs)\",  \n",
    "    \"rmse_train\": [rmse_train], \n",
    "    \"rmse_test\": [rmse_test]\n",
    "    })\n",
    "results = pd.concat([results, model_results_cs], axis=0)\n",
    "results"
   ]
  },
  {
   "cell_type": "markdown",
   "id": "de2e9d7f",
   "metadata": {},
   "source": [
    "### 2.2.1.4. NATURAL CUBIC SPLINE"
   ]
  },
  {
   "cell_type": "code",
   "execution_count": 68,
   "id": "9aec5157",
   "metadata": {},
   "outputs": [],
   "source": [
    "transformed_x3 = dmatrix(\"cr(train,df = 3)\", {\"train\": X_train}, return_type='dataframe')#### CAMBIO ####\n",
    "\n",
    "ncs = sm.GLM(y_train, transformed_x3).fit() "
   ]
  },
  {
   "cell_type": "code",
   "execution_count": 69,
   "id": "03065cc9",
   "metadata": {},
   "outputs": [
    {
     "data": {
      "image/png": "[encoded data removed]",
      "text/plain": [
       "<Figure size 864x432 with 1 Axes>"
      ]
     },
     "metadata": {},
     "output_type": "display_data"
    }
   ],
   "source": [
    "sns.set_style('darkgrid') # Establece el estilo de trazado como 'darkgrid'\n",
    "plt.figure(figsize=(12,6)) # Establece el tamaño de la figura\n",
    "\n",
    "# Make predictions\n",
    "pred = ncs.predict(dmatrix(\"cr(xp, df=3)\", {\"xp\": xp}, return_type='dataframe'))\n",
    "\n",
    "# plot\n",
    "sns.scatterplot(y=y_train['rendimientosNIKE'], x=X_train['rendimientos'])\n",
    "plt.plot(xp, pred, color='red', label='Natural spline with df=3')\n",
    "plt.legend();\n",
    "\n",
    "plt.title('Rendimiento del Precio de cierre en función del rendimiento del mercado S&P500') # Establece el título del gráfico\n",
    "plt.xlabel('Rendimientos del mercado') # Establece la etiqueta del eje x\n",
    "plt.ylabel('Rendimiento del Precio de cierre de las acciones de NIKE') # Establece la etiqueta del eje y\n",
    "\n",
    "plt.show() # Muestra el gráfico"
   ]
  },
  {
   "cell_type": "code",
   "execution_count": 70,
   "id": "f5139e45",
   "metadata": {},
   "outputs": [
    {
     "name": "stdout",
     "output_type": "stream",
     "text": [
      "Intercept            -0.001384\n",
      "cr(train, df=3)[0]   -0.022092\n",
      "cr(train, df=3)[1]    0.002136\n",
      "cr(train, df=3)[2]    0.018572\n",
      "dtype: float64\n"
     ]
    }
   ],
   "source": [
    "# Obtener los coeficientes estimados (betas)\n",
    "coeficientes_beta = ncs.params\n",
    "\n",
    "print(coeficientes_beta)"
   ]
  },
  {
   "cell_type": "code",
   "execution_count": 71,
   "id": "2ecff99f",
   "metadata": {},
   "outputs": [
    {
     "data": {
      "text/html": [
       "<div>\n",
       "<style scoped>\n",
       "    .dataframe tbody tr th:only-of-type {\n",
       "        vertical-align: middle;\n",
       "    }\n",
       "\n",
       "    .dataframe tbody tr th {\n",
       "        vertical-align: top;\n",
       "    }\n",
       "\n",
       "    .dataframe thead th {\n",
       "        text-align: right;\n",
       "    }\n",
       "</style>\n",
       "<table border=\"1\" class=\"dataframe\">\n",
       "  <thead>\n",
       "    <tr style=\"text-align: right;\">\n",
       "      <th></th>\n",
       "      <th>model</th>\n",
       "      <th>rmse_train</th>\n",
       "      <th>rmse_test</th>\n",
       "    </tr>\n",
       "  </thead>\n",
       "  <tbody>\n",
       "    <tr>\n",
       "      <th>0</th>\n",
       "      <td>Linear Model (lm)</td>\n",
       "      <td>0.006056</td>\n",
       "      <td>0.005689</td>\n",
       "    </tr>\n",
       "    <tr>\n",
       "      <th>0</th>\n",
       "      <td>Polynomial Model (pm)</td>\n",
       "      <td>0.005837</td>\n",
       "      <td>0.005447</td>\n",
       "    </tr>\n",
       "    <tr>\n",
       "      <th>0</th>\n",
       "      <td>Cubic spline (cs)</td>\n",
       "      <td>0.005821</td>\n",
       "      <td>0.005752</td>\n",
       "    </tr>\n",
       "    <tr>\n",
       "      <th>0</th>\n",
       "      <td>Natural cubic spline (ncs)</td>\n",
       "      <td>0.005837</td>\n",
       "      <td>0.005814</td>\n",
       "    </tr>\n",
       "  </tbody>\n",
       "</table>\n",
       "</div>"
      ],
      "text/plain": [
       "                        model  rmse_train  rmse_test\n",
       "0           Linear Model (lm)    0.006056   0.005689\n",
       "0       Polynomial Model (pm)    0.005837   0.005447\n",
       "0           Cubic spline (cs)    0.005821   0.005752\n",
       "0  Natural cubic spline (ncs)    0.005837   0.005814"
      ]
     },
     "execution_count": 71,
     "metadata": {},
     "output_type": "execute_result"
    }
   ],
   "source": [
    "# Training data\n",
    "\n",
    "pred_train = ncs.predict(dmatrix(\"cr(train, df=3)\", {\"train\": X_train}, return_type='dataframe'))\n",
    "rmse_train = mean_squared_error(y_train, pred_train, squared=False) \n",
    "\n",
    "# Test data\n",
    "pred_test = ncs.predict(dmatrix(\"cr(test, df=3)\", {\"test\": X_test}, return_type='dataframe'))\n",
    "rmse_test =mean_squared_error(y_test, pred_test, squared=False)\n",
    "\n",
    "# Save model results\n",
    "model_results_ncs = pd.DataFrame(\n",
    "    {\n",
    "    \"model\": \"Natural cubic spline (ncs)\",  \n",
    "    \"rmse_train\": [rmse_train], \n",
    "    \"rmse_test\": [rmse_test]\n",
    "    })\n",
    "\n",
    "results = pd.concat([results, model_results_ncs], axis=0)\n",
    "results"
   ]
  },
  {
   "cell_type": "markdown",
   "id": "59ca5dcd",
   "metadata": {},
   "source": [
    "## 2.2.2. CONCLUSION"
   ]
  },
  {
   "cell_type": "markdown",
   "id": "fe551e26",
   "metadata": {},
   "source": [
    "Aquí está la interpretación de los resultados:\n",
    "\n",
    "-Linear Model (lm): En el conjunto de entrenamiento, este modelo de regresión lineal tiene un RMSE de aproximadamente 0.0061, y en el conjunto de prueba, el RMSE es de alrededor de 0.0057. Esto sugiere que el modelo es capaz de predecir los rendimientos semanales con bastante precisión.\n",
    "\n",
    "-Polynomial Model (pm): Este modelo de regresión polinómica muestra un rendimiento ligeramente mejor. Tiene un RMSE de alrededor de 0.0058 en el conjunto de entrenamiento y 0.0054 en el conjunto de prueba. Parece que la capacidad de generalización a nuevos datos es buena.\n",
    "\n",
    "-Cubic spline (cs): El modelo de spline cúbico también se desempeña bien en este conjunto de datos. El RMSE es de aproximadamente 0.0058 en el conjunto de entrenamiento y 0.0058 en el conjunto de prueba. Esto indica que el modelo es capaz de capturar patrones semanales en los rendimientos.\n",
    "\n",
    "-Natural cubic spline (ncs): Al igual que el modelo polinómico, el modelo de spline cúbico natural tiene un RMSE de aproximadamente 0.0058 tanto en el conjunto de entrenamiento como en el conjunto de prueba.\n",
    "\n",
    "En general, todos los modelos muestran un buen rendimiento en la predicción de los rendimientos semanales. Las diferencias en los RMSE entre los modelos son pequeñas, lo que indica que tienen una capacidad similar para generalizar a nuevos datos."
   ]
  },
  {
   "cell_type": "markdown",
   "id": "8e4ea11f",
   "metadata": {},
   "source": [
    "## 3.2. DATOS MENSUALES"
   ]
  },
  {
   "cell_type": "code",
   "execution_count": 72,
   "id": "44e85e81",
   "metadata": {},
   "outputs": [
    {
     "data": {
      "text/html": [
       "<div>\n",
       "<style scoped>\n",
       "    .dataframe tbody tr th:only-of-type {\n",
       "        vertical-align: middle;\n",
       "    }\n",
       "\n",
       "    .dataframe tbody tr th {\n",
       "        vertical-align: top;\n",
       "    }\n",
       "\n",
       "    .dataframe thead th {\n",
       "        text-align: right;\n",
       "    }\n",
       "</style>\n",
       "<table border=\"1\" class=\"dataframe\">\n",
       "  <thead>\n",
       "    <tr style=\"text-align: right;\">\n",
       "      <th></th>\n",
       "      <th>Abrir</th>\n",
       "      <th>Máx.</th>\n",
       "      <th>Mín.</th>\n",
       "      <th>Cierre</th>\n",
       "      <th>Cierre ajus.</th>\n",
       "      <th>Volumen</th>\n",
       "      <th>rendimientos</th>\n",
       "    </tr>\n",
       "    <tr>\n",
       "      <th>Fecha</th>\n",
       "      <th></th>\n",
       "      <th></th>\n",
       "      <th></th>\n",
       "      <th></th>\n",
       "      <th></th>\n",
       "      <th></th>\n",
       "      <th></th>\n",
       "    </tr>\n",
       "  </thead>\n",
       "  <tbody>\n",
       "    <tr>\n",
       "      <th>2010-02-22</th>\n",
       "      <td>1110.00</td>\n",
       "      <td>1112.29</td>\n",
       "      <td>1105.38</td>\n",
       "      <td>1108.01</td>\n",
       "      <td>1108.01</td>\n",
       "      <td>3814440000</td>\n",
       "      <td>0.000394</td>\n",
       "    </tr>\n",
       "    <tr>\n",
       "      <th>2010-02-23</th>\n",
       "      <td>1107.49</td>\n",
       "      <td>1108.58</td>\n",
       "      <td>1092.18</td>\n",
       "      <td>1094.60</td>\n",
       "      <td>1094.60</td>\n",
       "      <td>4521050000</td>\n",
       "      <td>-0.012177</td>\n",
       "    </tr>\n",
       "    <tr>\n",
       "      <th>2010-02-24</th>\n",
       "      <td>1095.89</td>\n",
       "      <td>1106.42</td>\n",
       "      <td>1095.50</td>\n",
       "      <td>1105.24</td>\n",
       "      <td>1105.24</td>\n",
       "      <td>4168360000</td>\n",
       "      <td>0.009674</td>\n",
       "    </tr>\n",
       "    <tr>\n",
       "      <th>2010-02-25</th>\n",
       "      <td>1101.24</td>\n",
       "      <td>1103.50</td>\n",
       "      <td>1086.02</td>\n",
       "      <td>1102.94</td>\n",
       "      <td>1102.94</td>\n",
       "      <td>4521130000</td>\n",
       "      <td>-0.002083</td>\n",
       "    </tr>\n",
       "    <tr>\n",
       "      <th>2010-02-26</th>\n",
       "      <td>1103.10</td>\n",
       "      <td>1107.24</td>\n",
       "      <td>1097.56</td>\n",
       "      <td>1104.49</td>\n",
       "      <td>1104.49</td>\n",
       "      <td>3945190000</td>\n",
       "      <td>0.001404</td>\n",
       "    </tr>\n",
       "  </tbody>\n",
       "</table>\n",
       "</div>"
      ],
      "text/plain": [
       "              Abrir     Máx.     Mín.   Cierre  Cierre ajus.     Volumen  \\\n",
       "Fecha                                                                      \n",
       "2010-02-22  1110.00  1112.29  1105.38  1108.01       1108.01  3814440000   \n",
       "2010-02-23  1107.49  1108.58  1092.18  1094.60       1094.60  4521050000   \n",
       "2010-02-24  1095.89  1106.42  1095.50  1105.24       1105.24  4168360000   \n",
       "2010-02-25  1101.24  1103.50  1086.02  1102.94       1102.94  4521130000   \n",
       "2010-02-26  1103.10  1107.24  1097.56  1104.49       1104.49  3945190000   \n",
       "\n",
       "            rendimientos  \n",
       "Fecha                     \n",
       "2010-02-22      0.000394  \n",
       "2010-02-23     -0.012177  \n",
       "2010-02-24      0.009674  \n",
       "2010-02-25     -0.002083  \n",
       "2010-02-26      0.001404  "
      ]
     },
     "execution_count": 72,
     "metadata": {},
     "output_type": "execute_result"
    }
   ],
   "source": [
    "syp_data.head()"
   ]
  },
  {
   "cell_type": "code",
   "execution_count": 73,
   "id": "81d1de5e",
   "metadata": {},
   "outputs": [],
   "source": [
    "syp_data = syp_data.reset_index()"
   ]
  },
  {
   "cell_type": "code",
   "execution_count": 74,
   "id": "56d5cbbc",
   "metadata": {},
   "outputs": [
    {
     "data": {
      "text/html": [
       "<div>\n",
       "<style scoped>\n",
       "    .dataframe tbody tr th:only-of-type {\n",
       "        vertical-align: middle;\n",
       "    }\n",
       "\n",
       "    .dataframe tbody tr th {\n",
       "        vertical-align: top;\n",
       "    }\n",
       "\n",
       "    .dataframe thead th {\n",
       "        text-align: right;\n",
       "    }\n",
       "</style>\n",
       "<table border=\"1\" class=\"dataframe\">\n",
       "  <thead>\n",
       "    <tr style=\"text-align: right;\">\n",
       "      <th></th>\n",
       "      <th>Fecha</th>\n",
       "      <th>Abrir</th>\n",
       "      <th>Máx.</th>\n",
       "      <th>Mín.</th>\n",
       "      <th>Cierre</th>\n",
       "      <th>Cierre ajus.</th>\n",
       "      <th>Volumen</th>\n",
       "      <th>rendimientos</th>\n",
       "    </tr>\n",
       "  </thead>\n",
       "  <tbody>\n",
       "    <tr>\n",
       "      <th>0</th>\n",
       "      <td>2010-02-22</td>\n",
       "      <td>1110.00</td>\n",
       "      <td>1112.29</td>\n",
       "      <td>1105.38</td>\n",
       "      <td>1108.01</td>\n",
       "      <td>1108.01</td>\n",
       "      <td>3814440000</td>\n",
       "      <td>0.000394</td>\n",
       "    </tr>\n",
       "    <tr>\n",
       "      <th>1</th>\n",
       "      <td>2010-02-23</td>\n",
       "      <td>1107.49</td>\n",
       "      <td>1108.58</td>\n",
       "      <td>1092.18</td>\n",
       "      <td>1094.60</td>\n",
       "      <td>1094.60</td>\n",
       "      <td>4521050000</td>\n",
       "      <td>-0.012177</td>\n",
       "    </tr>\n",
       "    <tr>\n",
       "      <th>2</th>\n",
       "      <td>2010-02-24</td>\n",
       "      <td>1095.89</td>\n",
       "      <td>1106.42</td>\n",
       "      <td>1095.50</td>\n",
       "      <td>1105.24</td>\n",
       "      <td>1105.24</td>\n",
       "      <td>4168360000</td>\n",
       "      <td>0.009674</td>\n",
       "    </tr>\n",
       "    <tr>\n",
       "      <th>3</th>\n",
       "      <td>2010-02-25</td>\n",
       "      <td>1101.24</td>\n",
       "      <td>1103.50</td>\n",
       "      <td>1086.02</td>\n",
       "      <td>1102.94</td>\n",
       "      <td>1102.94</td>\n",
       "      <td>4521130000</td>\n",
       "      <td>-0.002083</td>\n",
       "    </tr>\n",
       "    <tr>\n",
       "      <th>4</th>\n",
       "      <td>2010-02-26</td>\n",
       "      <td>1103.10</td>\n",
       "      <td>1107.24</td>\n",
       "      <td>1097.56</td>\n",
       "      <td>1104.49</td>\n",
       "      <td>1104.49</td>\n",
       "      <td>3945190000</td>\n",
       "      <td>0.001404</td>\n",
       "    </tr>\n",
       "  </tbody>\n",
       "</table>\n",
       "</div>"
      ],
      "text/plain": [
       "       Fecha    Abrir     Máx.     Mín.   Cierre  Cierre ajus.     Volumen  \\\n",
       "0 2010-02-22  1110.00  1112.29  1105.38  1108.01       1108.01  3814440000   \n",
       "1 2010-02-23  1107.49  1108.58  1092.18  1094.60       1094.60  4521050000   \n",
       "2 2010-02-24  1095.89  1106.42  1095.50  1105.24       1105.24  4168360000   \n",
       "3 2010-02-25  1101.24  1103.50  1086.02  1102.94       1102.94  4521130000   \n",
       "4 2010-02-26  1103.10  1107.24  1097.56  1104.49       1104.49  3945190000   \n",
       "\n",
       "   rendimientos  \n",
       "0      0.000394  \n",
       "1     -0.012177  \n",
       "2      0.009674  \n",
       "3     -0.002083  \n",
       "4      0.001404  "
      ]
     },
     "execution_count": 74,
     "metadata": {},
     "output_type": "execute_result"
    }
   ],
   "source": [
    "syp_data.head()"
   ]
  },
  {
   "cell_type": "code",
   "execution_count": 75,
   "id": "eeed068a",
   "metadata": {},
   "outputs": [
    {
     "name": "stdout",
     "output_type": "stream",
     "text": [
      "       Fecha        Abrir         Máx.         Mín.       Cierre  \\\n",
      "0 2010-02-28  1103.544000  1107.606000  1095.328000  1103.056000   \n",
      "1 2010-03-31  1149.442174  1155.746087  1145.994348  1152.048696   \n",
      "2 2010-04-30  1196.390952  1202.634286  1189.531429  1197.316190   \n",
      "3 2010-05-31  1129.105000  1139.656000  1109.045000  1125.062000   \n",
      "4 2010-06-30  1086.281818  1095.199545  1074.715909  1083.360909   \n",
      "\n",
      "   Cierre ajus.       Volumen  rendimientos  \n",
      "0   1103.056000  4.194034e+09     -0.000558  \n",
      "1   1152.048696  4.507980e+09      0.002484  \n",
      "2   1197.316190  5.559139e+09      0.000698  \n",
      "3   1125.062000  6.383139e+09     -0.004277  \n",
      "4   1083.360909  5.004852e+09     -0.002518  \n"
     ]
    }
   ],
   "source": [
    "# Convertir la columna de fecha en tipo datetime\n",
    "syp_data['Fecha'] = pd.to_datetime(syp_data['Fecha'])\n",
    "\n",
    "# Agrupar los datos por mes y obtener los valores promedio\n",
    "syp_data_mensual = syp_data.groupby(pd.Grouper(key='Fecha', freq='M')).mean()\n",
    "\n",
    "# Reiniciar el índice\n",
    "syp_data_mensual = syp_data_mensual.reset_index()\n",
    "\n",
    "# Imprimir los primeros cinco registros\n",
    "print(syp_data_mensual.head())"
   ]
  },
  {
   "cell_type": "code",
   "execution_count": 76,
   "id": "59abf48e",
   "metadata": {},
   "outputs": [],
   "source": [
    "#syp_data_mensual.to_csv('syp_data_mensual.csv')"
   ]
  },
  {
   "cell_type": "code",
   "execution_count": 77,
   "id": "c84f434a",
   "metadata": {},
   "outputs": [
    {
     "data": {
      "text/html": [
       "<div>\n",
       "<style scoped>\n",
       "    .dataframe tbody tr th:only-of-type {\n",
       "        vertical-align: middle;\n",
       "    }\n",
       "\n",
       "    .dataframe tbody tr th {\n",
       "        vertical-align: top;\n",
       "    }\n",
       "\n",
       "    .dataframe thead th {\n",
       "        text-align: right;\n",
       "    }\n",
       "</style>\n",
       "<table border=\"1\" class=\"dataframe\">\n",
       "  <thead>\n",
       "    <tr style=\"text-align: right;\">\n",
       "      <th></th>\n",
       "      <th>Unnamed: 0</th>\n",
       "      <th>Fecha</th>\n",
       "      <th>Abrir</th>\n",
       "      <th>Máx.</th>\n",
       "      <th>Mín.</th>\n",
       "      <th>Cierre</th>\n",
       "      <th>Cierre ajus.</th>\n",
       "      <th>Volumen</th>\n",
       "      <th>rendimientos</th>\n",
       "    </tr>\n",
       "  </thead>\n",
       "  <tbody>\n",
       "    <tr>\n",
       "      <th>0</th>\n",
       "      <td>0</td>\n",
       "      <td>2010-02-28</td>\n",
       "      <td>1103.544000</td>\n",
       "      <td>1107.606000</td>\n",
       "      <td>1095.328000</td>\n",
       "      <td>1103.056000</td>\n",
       "      <td>1103.056000</td>\n",
       "      <td>4.194034e+09</td>\n",
       "      <td>-0.000558</td>\n",
       "    </tr>\n",
       "    <tr>\n",
       "      <th>1</th>\n",
       "      <td>1</td>\n",
       "      <td>2010-03-31</td>\n",
       "      <td>1149.442174</td>\n",
       "      <td>1155.746087</td>\n",
       "      <td>1145.994348</td>\n",
       "      <td>1152.048696</td>\n",
       "      <td>1152.048696</td>\n",
       "      <td>4.507980e+09</td>\n",
       "      <td>0.002484</td>\n",
       "    </tr>\n",
       "    <tr>\n",
       "      <th>2</th>\n",
       "      <td>2</td>\n",
       "      <td>2010-04-30</td>\n",
       "      <td>1196.390952</td>\n",
       "      <td>1202.634286</td>\n",
       "      <td>1189.531429</td>\n",
       "      <td>1197.316190</td>\n",
       "      <td>1197.316190</td>\n",
       "      <td>5.559139e+09</td>\n",
       "      <td>0.000698</td>\n",
       "    </tr>\n",
       "    <tr>\n",
       "      <th>3</th>\n",
       "      <td>3</td>\n",
       "      <td>2010-05-31</td>\n",
       "      <td>1129.105000</td>\n",
       "      <td>1139.656000</td>\n",
       "      <td>1109.045000</td>\n",
       "      <td>1125.062000</td>\n",
       "      <td>1125.062000</td>\n",
       "      <td>6.383139e+09</td>\n",
       "      <td>-0.004277</td>\n",
       "    </tr>\n",
       "    <tr>\n",
       "      <th>4</th>\n",
       "      <td>4</td>\n",
       "      <td>2010-06-30</td>\n",
       "      <td>1086.281818</td>\n",
       "      <td>1095.199545</td>\n",
       "      <td>1074.715909</td>\n",
       "      <td>1083.360909</td>\n",
       "      <td>1083.360909</td>\n",
       "      <td>5.004852e+09</td>\n",
       "      <td>-0.002518</td>\n",
       "    </tr>\n",
       "  </tbody>\n",
       "</table>\n",
       "</div>"
      ],
      "text/plain": [
       "   Unnamed: 0       Fecha        Abrir         Máx.         Mín.       Cierre  \\\n",
       "0           0  2010-02-28  1103.544000  1107.606000  1095.328000  1103.056000   \n",
       "1           1  2010-03-31  1149.442174  1155.746087  1145.994348  1152.048696   \n",
       "2           2  2010-04-30  1196.390952  1202.634286  1189.531429  1197.316190   \n",
       "3           3  2010-05-31  1129.105000  1139.656000  1109.045000  1125.062000   \n",
       "4           4  2010-06-30  1086.281818  1095.199545  1074.715909  1083.360909   \n",
       "\n",
       "   Cierre ajus.       Volumen  rendimientos  \n",
       "0   1103.056000  4.194034e+09     -0.000558  \n",
       "1   1152.048696  4.507980e+09      0.002484  \n",
       "2   1197.316190  5.559139e+09      0.000698  \n",
       "3   1125.062000  6.383139e+09     -0.004277  \n",
       "4   1083.360909  5.004852e+09     -0.002518  "
      ]
     },
     "execution_count": 77,
     "metadata": {},
     "output_type": "execute_result"
    }
   ],
   "source": [
    "syp_data_mensual = pd.read_csv(\"../TFMcodigo/data/raw/syp_data_mensual.csv\")\n",
    "syp_data_mensual.head()"
   ]
  },
  {
   "cell_type": "code",
   "execution_count": 78,
   "id": "b99f5b57",
   "metadata": {},
   "outputs": [],
   "source": [
    "syp_data_mensual = syp_data_mensual.drop('Unnamed: 0', axis=1)"
   ]
  },
  {
   "cell_type": "code",
   "execution_count": 79,
   "id": "993b5e5b",
   "metadata": {},
   "outputs": [
    {
     "data": {
      "text/html": [
       "<div>\n",
       "<style scoped>\n",
       "    .dataframe tbody tr th:only-of-type {\n",
       "        vertical-align: middle;\n",
       "    }\n",
       "\n",
       "    .dataframe tbody tr th {\n",
       "        vertical-align: top;\n",
       "    }\n",
       "\n",
       "    .dataframe thead th {\n",
       "        text-align: right;\n",
       "    }\n",
       "</style>\n",
       "<table border=\"1\" class=\"dataframe\">\n",
       "  <thead>\n",
       "    <tr style=\"text-align: right;\">\n",
       "      <th></th>\n",
       "      <th>Fecha</th>\n",
       "      <th>Abrir</th>\n",
       "      <th>Máx.</th>\n",
       "      <th>Mín.</th>\n",
       "      <th>Cierre</th>\n",
       "      <th>Cierre ajus.</th>\n",
       "      <th>Volumen</th>\n",
       "      <th>rendimientos</th>\n",
       "    </tr>\n",
       "  </thead>\n",
       "  <tbody>\n",
       "    <tr>\n",
       "      <th>0</th>\n",
       "      <td>2010-02-28</td>\n",
       "      <td>1103.544000</td>\n",
       "      <td>1107.606000</td>\n",
       "      <td>1095.328000</td>\n",
       "      <td>1103.056000</td>\n",
       "      <td>1103.056000</td>\n",
       "      <td>4.194034e+09</td>\n",
       "      <td>-0.000558</td>\n",
       "    </tr>\n",
       "    <tr>\n",
       "      <th>1</th>\n",
       "      <td>2010-03-31</td>\n",
       "      <td>1149.442174</td>\n",
       "      <td>1155.746087</td>\n",
       "      <td>1145.994348</td>\n",
       "      <td>1152.048696</td>\n",
       "      <td>1152.048696</td>\n",
       "      <td>4.507980e+09</td>\n",
       "      <td>0.002484</td>\n",
       "    </tr>\n",
       "    <tr>\n",
       "      <th>2</th>\n",
       "      <td>2010-04-30</td>\n",
       "      <td>1196.390952</td>\n",
       "      <td>1202.634286</td>\n",
       "      <td>1189.531429</td>\n",
       "      <td>1197.316190</td>\n",
       "      <td>1197.316190</td>\n",
       "      <td>5.559139e+09</td>\n",
       "      <td>0.000698</td>\n",
       "    </tr>\n",
       "    <tr>\n",
       "      <th>3</th>\n",
       "      <td>2010-05-31</td>\n",
       "      <td>1129.105000</td>\n",
       "      <td>1139.656000</td>\n",
       "      <td>1109.045000</td>\n",
       "      <td>1125.062000</td>\n",
       "      <td>1125.062000</td>\n",
       "      <td>6.383139e+09</td>\n",
       "      <td>-0.004277</td>\n",
       "    </tr>\n",
       "    <tr>\n",
       "      <th>4</th>\n",
       "      <td>2010-06-30</td>\n",
       "      <td>1086.281818</td>\n",
       "      <td>1095.199545</td>\n",
       "      <td>1074.715909</td>\n",
       "      <td>1083.360909</td>\n",
       "      <td>1083.360909</td>\n",
       "      <td>5.004852e+09</td>\n",
       "      <td>-0.002518</td>\n",
       "    </tr>\n",
       "  </tbody>\n",
       "</table>\n",
       "</div>"
      ],
      "text/plain": [
       "        Fecha        Abrir         Máx.         Mín.       Cierre  \\\n",
       "0  2010-02-28  1103.544000  1107.606000  1095.328000  1103.056000   \n",
       "1  2010-03-31  1149.442174  1155.746087  1145.994348  1152.048696   \n",
       "2  2010-04-30  1196.390952  1202.634286  1189.531429  1197.316190   \n",
       "3  2010-05-31  1129.105000  1139.656000  1109.045000  1125.062000   \n",
       "4  2010-06-30  1086.281818  1095.199545  1074.715909  1083.360909   \n",
       "\n",
       "   Cierre ajus.       Volumen  rendimientos  \n",
       "0   1103.056000  4.194034e+09     -0.000558  \n",
       "1   1152.048696  4.507980e+09      0.002484  \n",
       "2   1197.316190  5.559139e+09      0.000698  \n",
       "3   1125.062000  6.383139e+09     -0.004277  \n",
       "4   1083.360909  5.004852e+09     -0.002518  "
      ]
     },
     "execution_count": 79,
     "metadata": {},
     "output_type": "execute_result"
    }
   ],
   "source": [
    "syp_data_mensual.head()"
   ]
  },
  {
   "cell_type": "markdown",
   "id": "a30c7c3d",
   "metadata": {},
   "source": [
    "Ahora cambiamos el data frame de los datos de Nike"
   ]
  },
  {
   "cell_type": "code",
   "execution_count": 80,
   "id": "4015c40e",
   "metadata": {},
   "outputs": [
    {
     "data": {
      "text/html": [
       "<div>\n",
       "<style scoped>\n",
       "    .dataframe tbody tr th:only-of-type {\n",
       "        vertical-align: middle;\n",
       "    }\n",
       "\n",
       "    .dataframe tbody tr th {\n",
       "        vertical-align: top;\n",
       "    }\n",
       "\n",
       "    .dataframe thead th {\n",
       "        text-align: right;\n",
       "    }\n",
       "</style>\n",
       "<table border=\"1\" class=\"dataframe\">\n",
       "  <thead>\n",
       "    <tr style=\"text-align: right;\">\n",
       "      <th></th>\n",
       "      <th>Open</th>\n",
       "      <th>High</th>\n",
       "      <th>Low</th>\n",
       "      <th>Close</th>\n",
       "      <th>Adj Close</th>\n",
       "      <th>Volume</th>\n",
       "      <th>rendimientosNIKE</th>\n",
       "    </tr>\n",
       "    <tr>\n",
       "      <th>Date</th>\n",
       "      <th></th>\n",
       "      <th></th>\n",
       "      <th></th>\n",
       "      <th></th>\n",
       "      <th></th>\n",
       "      <th></th>\n",
       "      <th></th>\n",
       "    </tr>\n",
       "  </thead>\n",
       "  <tbody>\n",
       "    <tr>\n",
       "      <th>2010-02-22</th>\n",
       "      <td>16.142500</td>\n",
       "      <td>16.192499</td>\n",
       "      <td>16.007500</td>\n",
       "      <td>16.077499</td>\n",
       "      <td>13.766811</td>\n",
       "      <td>6864800</td>\n",
       "      <td>0.000609</td>\n",
       "    </tr>\n",
       "    <tr>\n",
       "      <th>2010-02-23</th>\n",
       "      <td>16.075001</td>\n",
       "      <td>16.137501</td>\n",
       "      <td>15.902500</td>\n",
       "      <td>16.032499</td>\n",
       "      <td>13.728276</td>\n",
       "      <td>7738800</td>\n",
       "      <td>-0.002803</td>\n",
       "    </tr>\n",
       "    <tr>\n",
       "      <th>2010-02-24</th>\n",
       "      <td>16.000000</td>\n",
       "      <td>16.254999</td>\n",
       "      <td>16.000000</td>\n",
       "      <td>16.232500</td>\n",
       "      <td>13.899527</td>\n",
       "      <td>11618000</td>\n",
       "      <td>0.012398</td>\n",
       "    </tr>\n",
       "    <tr>\n",
       "      <th>2010-02-25</th>\n",
       "      <td>16.252501</td>\n",
       "      <td>16.570000</td>\n",
       "      <td>16.002501</td>\n",
       "      <td>16.540001</td>\n",
       "      <td>14.162837</td>\n",
       "      <td>15967600</td>\n",
       "      <td>0.018766</td>\n",
       "    </tr>\n",
       "    <tr>\n",
       "      <th>2010-02-26</th>\n",
       "      <td>16.557501</td>\n",
       "      <td>16.962500</td>\n",
       "      <td>16.557501</td>\n",
       "      <td>16.900000</td>\n",
       "      <td>14.471098</td>\n",
       "      <td>19633200</td>\n",
       "      <td>0.021532</td>\n",
       "    </tr>\n",
       "  </tbody>\n",
       "</table>\n",
       "</div>"
      ],
      "text/plain": [
       "                 Open       High        Low      Close  Adj Close    Volume  \\\n",
       "Date                                                                          \n",
       "2010-02-22  16.142500  16.192499  16.007500  16.077499  13.766811   6864800   \n",
       "2010-02-23  16.075001  16.137501  15.902500  16.032499  13.728276   7738800   \n",
       "2010-02-24  16.000000  16.254999  16.000000  16.232500  13.899527  11618000   \n",
       "2010-02-25  16.252501  16.570000  16.002501  16.540001  14.162837  15967600   \n",
       "2010-02-26  16.557501  16.962500  16.557501  16.900000  14.471098  19633200   \n",
       "\n",
       "            rendimientosNIKE  \n",
       "Date                          \n",
       "2010-02-22          0.000609  \n",
       "2010-02-23         -0.002803  \n",
       "2010-02-24          0.012398  \n",
       "2010-02-25          0.018766  \n",
       "2010-02-26          0.021532  "
      ]
     },
     "execution_count": 80,
     "metadata": {},
     "output_type": "execute_result"
    }
   ],
   "source": [
    "pd_data.head()"
   ]
  },
  {
   "cell_type": "code",
   "execution_count": 81,
   "id": "0e9b4784",
   "metadata": {},
   "outputs": [],
   "source": [
    "pd_data = pd_data.reset_index()"
   ]
  },
  {
   "cell_type": "code",
   "execution_count": 82,
   "id": "ffc9bf90",
   "metadata": {},
   "outputs": [
    {
     "data": {
      "text/html": [
       "<div>\n",
       "<style scoped>\n",
       "    .dataframe tbody tr th:only-of-type {\n",
       "        vertical-align: middle;\n",
       "    }\n",
       "\n",
       "    .dataframe tbody tr th {\n",
       "        vertical-align: top;\n",
       "    }\n",
       "\n",
       "    .dataframe thead th {\n",
       "        text-align: right;\n",
       "    }\n",
       "</style>\n",
       "<table border=\"1\" class=\"dataframe\">\n",
       "  <thead>\n",
       "    <tr style=\"text-align: right;\">\n",
       "      <th></th>\n",
       "      <th>Date</th>\n",
       "      <th>Open</th>\n",
       "      <th>High</th>\n",
       "      <th>Low</th>\n",
       "      <th>Close</th>\n",
       "      <th>Adj Close</th>\n",
       "      <th>Volume</th>\n",
       "      <th>rendimientosNIKE</th>\n",
       "    </tr>\n",
       "  </thead>\n",
       "  <tbody>\n",
       "    <tr>\n",
       "      <th>0</th>\n",
       "      <td>2010-02-22</td>\n",
       "      <td>16.142500</td>\n",
       "      <td>16.192499</td>\n",
       "      <td>16.007500</td>\n",
       "      <td>16.077499</td>\n",
       "      <td>13.766811</td>\n",
       "      <td>6864800</td>\n",
       "      <td>0.000609</td>\n",
       "    </tr>\n",
       "    <tr>\n",
       "      <th>1</th>\n",
       "      <td>2010-02-23</td>\n",
       "      <td>16.075001</td>\n",
       "      <td>16.137501</td>\n",
       "      <td>15.902500</td>\n",
       "      <td>16.032499</td>\n",
       "      <td>13.728276</td>\n",
       "      <td>7738800</td>\n",
       "      <td>-0.002803</td>\n",
       "    </tr>\n",
       "    <tr>\n",
       "      <th>2</th>\n",
       "      <td>2010-02-24</td>\n",
       "      <td>16.000000</td>\n",
       "      <td>16.254999</td>\n",
       "      <td>16.000000</td>\n",
       "      <td>16.232500</td>\n",
       "      <td>13.899527</td>\n",
       "      <td>11618000</td>\n",
       "      <td>0.012398</td>\n",
       "    </tr>\n",
       "    <tr>\n",
       "      <th>3</th>\n",
       "      <td>2010-02-25</td>\n",
       "      <td>16.252501</td>\n",
       "      <td>16.570000</td>\n",
       "      <td>16.002501</td>\n",
       "      <td>16.540001</td>\n",
       "      <td>14.162837</td>\n",
       "      <td>15967600</td>\n",
       "      <td>0.018766</td>\n",
       "    </tr>\n",
       "    <tr>\n",
       "      <th>4</th>\n",
       "      <td>2010-02-26</td>\n",
       "      <td>16.557501</td>\n",
       "      <td>16.962500</td>\n",
       "      <td>16.557501</td>\n",
       "      <td>16.900000</td>\n",
       "      <td>14.471098</td>\n",
       "      <td>19633200</td>\n",
       "      <td>0.021532</td>\n",
       "    </tr>\n",
       "  </tbody>\n",
       "</table>\n",
       "</div>"
      ],
      "text/plain": [
       "        Date       Open       High        Low      Close  Adj Close    Volume  \\\n",
       "0 2010-02-22  16.142500  16.192499  16.007500  16.077499  13.766811   6864800   \n",
       "1 2010-02-23  16.075001  16.137501  15.902500  16.032499  13.728276   7738800   \n",
       "2 2010-02-24  16.000000  16.254999  16.000000  16.232500  13.899527  11618000   \n",
       "3 2010-02-25  16.252501  16.570000  16.002501  16.540001  14.162837  15967600   \n",
       "4 2010-02-26  16.557501  16.962500  16.557501  16.900000  14.471098  19633200   \n",
       "\n",
       "   rendimientosNIKE  \n",
       "0          0.000609  \n",
       "1         -0.002803  \n",
       "2          0.012398  \n",
       "3          0.018766  \n",
       "4          0.021532  "
      ]
     },
     "execution_count": 82,
     "metadata": {},
     "output_type": "execute_result"
    }
   ],
   "source": [
    "pd_data.head()"
   ]
  },
  {
   "cell_type": "code",
   "execution_count": 83,
   "id": "fe05a60c",
   "metadata": {},
   "outputs": [
    {
     "name": "stdout",
     "output_type": "stream",
     "text": [
      "        Date       Open       High        Low      Close  Adj Close  \\\n",
      "0 2010-02-28  16.205501  16.423500  16.094000  16.356500  14.005710   \n",
      "1 2010-03-31  17.750326  17.903152  17.657392  17.790217  15.286816   \n",
      "2 2010-04-30  18.920714  19.091905  18.794643  18.951310  16.292624   \n",
      "3 2010-05-31  18.465750  18.734750  18.107250  18.462750  15.872605   \n",
      "4 2010-06-30  17.947046  18.139318  17.732046  17.924545  15.461885   \n",
      "\n",
      "         Volume  rendimientosNIKE  \n",
      "0  1.236448e+07          0.010100  \n",
      "1  1.066677e+07          0.003638  \n",
      "2  9.481333e+06          0.001536  \n",
      "3  1.852782e+07         -0.002381  \n",
      "4  1.391576e+07         -0.003139  \n"
     ]
    }
   ],
   "source": [
    "# Convertir la columna de fecha en tipo datetime\n",
    "pd_data['Date'] = pd.to_datetime(pd_data['Date'])\n",
    "\n",
    "# Agrupar los datos por mes y obtener los valores promedio\n",
    "pd_data_monthly = pd_data.groupby(pd.Grouper(key='Date', freq='M')).mean()\n",
    "\n",
    "# Reiniciar el índice\n",
    "pd_data_monthly = pd_data_monthly.reset_index()\n",
    "\n",
    "# Imprimir los primeros cinco registros\n",
    "print(pd_data_monthly.head())"
   ]
  },
  {
   "cell_type": "code",
   "execution_count": 84,
   "id": "24e02d00",
   "metadata": {},
   "outputs": [],
   "source": [
    "#pd_data_monthly.to_csv('pd_data_monthly.csv')"
   ]
  },
  {
   "cell_type": "code",
   "execution_count": 85,
   "id": "3d7b60c3",
   "metadata": {},
   "outputs": [
    {
     "data": {
      "text/html": [
       "<div>\n",
       "<style scoped>\n",
       "    .dataframe tbody tr th:only-of-type {\n",
       "        vertical-align: middle;\n",
       "    }\n",
       "\n",
       "    .dataframe tbody tr th {\n",
       "        vertical-align: top;\n",
       "    }\n",
       "\n",
       "    .dataframe thead th {\n",
       "        text-align: right;\n",
       "    }\n",
       "</style>\n",
       "<table border=\"1\" class=\"dataframe\">\n",
       "  <thead>\n",
       "    <tr style=\"text-align: right;\">\n",
       "      <th></th>\n",
       "      <th>Unnamed: 0</th>\n",
       "      <th>Date</th>\n",
       "      <th>Open</th>\n",
       "      <th>High</th>\n",
       "      <th>Low</th>\n",
       "      <th>Close</th>\n",
       "      <th>Adj Close</th>\n",
       "      <th>Volume</th>\n",
       "      <th>rendimientosNIKE</th>\n",
       "    </tr>\n",
       "  </thead>\n",
       "  <tbody>\n",
       "    <tr>\n",
       "      <th>0</th>\n",
       "      <td>0</td>\n",
       "      <td>2010-02-28</td>\n",
       "      <td>16.205501</td>\n",
       "      <td>16.423500</td>\n",
       "      <td>16.094000</td>\n",
       "      <td>16.356500</td>\n",
       "      <td>14.005710</td>\n",
       "      <td>1.236448e+07</td>\n",
       "      <td>0.010100</td>\n",
       "    </tr>\n",
       "    <tr>\n",
       "      <th>1</th>\n",
       "      <td>1</td>\n",
       "      <td>2010-03-31</td>\n",
       "      <td>17.750326</td>\n",
       "      <td>17.903152</td>\n",
       "      <td>17.657392</td>\n",
       "      <td>17.790217</td>\n",
       "      <td>15.286816</td>\n",
       "      <td>1.066677e+07</td>\n",
       "      <td>0.003638</td>\n",
       "    </tr>\n",
       "    <tr>\n",
       "      <th>2</th>\n",
       "      <td>2</td>\n",
       "      <td>2010-04-30</td>\n",
       "      <td>18.920714</td>\n",
       "      <td>19.091905</td>\n",
       "      <td>18.794643</td>\n",
       "      <td>18.951310</td>\n",
       "      <td>16.292624</td>\n",
       "      <td>9.481333e+06</td>\n",
       "      <td>0.001536</td>\n",
       "    </tr>\n",
       "    <tr>\n",
       "      <th>3</th>\n",
       "      <td>3</td>\n",
       "      <td>2010-05-31</td>\n",
       "      <td>18.465750</td>\n",
       "      <td>18.734750</td>\n",
       "      <td>18.107250</td>\n",
       "      <td>18.462750</td>\n",
       "      <td>15.872605</td>\n",
       "      <td>1.852782e+07</td>\n",
       "      <td>-0.002381</td>\n",
       "    </tr>\n",
       "    <tr>\n",
       "      <th>4</th>\n",
       "      <td>4</td>\n",
       "      <td>2010-06-30</td>\n",
       "      <td>17.947046</td>\n",
       "      <td>18.139318</td>\n",
       "      <td>17.732046</td>\n",
       "      <td>17.924545</td>\n",
       "      <td>15.461885</td>\n",
       "      <td>1.391576e+07</td>\n",
       "      <td>-0.003139</td>\n",
       "    </tr>\n",
       "  </tbody>\n",
       "</table>\n",
       "</div>"
      ],
      "text/plain": [
       "   Unnamed: 0        Date       Open       High        Low      Close  \\\n",
       "0           0  2010-02-28  16.205501  16.423500  16.094000  16.356500   \n",
       "1           1  2010-03-31  17.750326  17.903152  17.657392  17.790217   \n",
       "2           2  2010-04-30  18.920714  19.091905  18.794643  18.951310   \n",
       "3           3  2010-05-31  18.465750  18.734750  18.107250  18.462750   \n",
       "4           4  2010-06-30  17.947046  18.139318  17.732046  17.924545   \n",
       "\n",
       "   Adj Close        Volume  rendimientosNIKE  \n",
       "0  14.005710  1.236448e+07          0.010100  \n",
       "1  15.286816  1.066677e+07          0.003638  \n",
       "2  16.292624  9.481333e+06          0.001536  \n",
       "3  15.872605  1.852782e+07         -0.002381  \n",
       "4  15.461885  1.391576e+07         -0.003139  "
      ]
     },
     "execution_count": 85,
     "metadata": {},
     "output_type": "execute_result"
    }
   ],
   "source": [
    "pd_data_monthly = pd.read_csv(\"../TFMcodigo/data/raw/pd_data_monthly.csv\")\n",
    "pd_data_monthly.head()"
   ]
  },
  {
   "cell_type": "code",
   "execution_count": 86,
   "id": "00745687",
   "metadata": {},
   "outputs": [],
   "source": [
    "pd_data_monthly = pd_data_monthly.drop('Unnamed: 0', axis=1)"
   ]
  },
  {
   "cell_type": "code",
   "execution_count": 87,
   "id": "e0bdab42",
   "metadata": {},
   "outputs": [
    {
     "data": {
      "text/html": [
       "<div>\n",
       "<style scoped>\n",
       "    .dataframe tbody tr th:only-of-type {\n",
       "        vertical-align: middle;\n",
       "    }\n",
       "\n",
       "    .dataframe tbody tr th {\n",
       "        vertical-align: top;\n",
       "    }\n",
       "\n",
       "    .dataframe thead th {\n",
       "        text-align: right;\n",
       "    }\n",
       "</style>\n",
       "<table border=\"1\" class=\"dataframe\">\n",
       "  <thead>\n",
       "    <tr style=\"text-align: right;\">\n",
       "      <th></th>\n",
       "      <th>Date</th>\n",
       "      <th>Open</th>\n",
       "      <th>High</th>\n",
       "      <th>Low</th>\n",
       "      <th>Close</th>\n",
       "      <th>Adj Close</th>\n",
       "      <th>Volume</th>\n",
       "      <th>rendimientosNIKE</th>\n",
       "    </tr>\n",
       "  </thead>\n",
       "  <tbody>\n",
       "    <tr>\n",
       "      <th>0</th>\n",
       "      <td>2010-02-28</td>\n",
       "      <td>16.205501</td>\n",
       "      <td>16.423500</td>\n",
       "      <td>16.094000</td>\n",
       "      <td>16.356500</td>\n",
       "      <td>14.005710</td>\n",
       "      <td>1.236448e+07</td>\n",
       "      <td>0.010100</td>\n",
       "    </tr>\n",
       "    <tr>\n",
       "      <th>1</th>\n",
       "      <td>2010-03-31</td>\n",
       "      <td>17.750326</td>\n",
       "      <td>17.903152</td>\n",
       "      <td>17.657392</td>\n",
       "      <td>17.790217</td>\n",
       "      <td>15.286816</td>\n",
       "      <td>1.066677e+07</td>\n",
       "      <td>0.003638</td>\n",
       "    </tr>\n",
       "    <tr>\n",
       "      <th>2</th>\n",
       "      <td>2010-04-30</td>\n",
       "      <td>18.920714</td>\n",
       "      <td>19.091905</td>\n",
       "      <td>18.794643</td>\n",
       "      <td>18.951310</td>\n",
       "      <td>16.292624</td>\n",
       "      <td>9.481333e+06</td>\n",
       "      <td>0.001536</td>\n",
       "    </tr>\n",
       "    <tr>\n",
       "      <th>3</th>\n",
       "      <td>2010-05-31</td>\n",
       "      <td>18.465750</td>\n",
       "      <td>18.734750</td>\n",
       "      <td>18.107250</td>\n",
       "      <td>18.462750</td>\n",
       "      <td>15.872605</td>\n",
       "      <td>1.852782e+07</td>\n",
       "      <td>-0.002381</td>\n",
       "    </tr>\n",
       "    <tr>\n",
       "      <th>4</th>\n",
       "      <td>2010-06-30</td>\n",
       "      <td>17.947046</td>\n",
       "      <td>18.139318</td>\n",
       "      <td>17.732046</td>\n",
       "      <td>17.924545</td>\n",
       "      <td>15.461885</td>\n",
       "      <td>1.391576e+07</td>\n",
       "      <td>-0.003139</td>\n",
       "    </tr>\n",
       "  </tbody>\n",
       "</table>\n",
       "</div>"
      ],
      "text/plain": [
       "         Date       Open       High        Low      Close  Adj Close  \\\n",
       "0  2010-02-28  16.205501  16.423500  16.094000  16.356500  14.005710   \n",
       "1  2010-03-31  17.750326  17.903152  17.657392  17.790217  15.286816   \n",
       "2  2010-04-30  18.920714  19.091905  18.794643  18.951310  16.292624   \n",
       "3  2010-05-31  18.465750  18.734750  18.107250  18.462750  15.872605   \n",
       "4  2010-06-30  17.947046  18.139318  17.732046  17.924545  15.461885   \n",
       "\n",
       "         Volume  rendimientosNIKE  \n",
       "0  1.236448e+07          0.010100  \n",
       "1  1.066677e+07          0.003638  \n",
       "2  9.481333e+06          0.001536  \n",
       "3  1.852782e+07         -0.002381  \n",
       "4  1.391576e+07         -0.003139  "
      ]
     },
     "execution_count": 87,
     "metadata": {},
     "output_type": "execute_result"
    }
   ],
   "source": [
    "pd_data_monthly.head()"
   ]
  },
  {
   "cell_type": "markdown",
   "id": "572069cf",
   "metadata": {},
   "source": [
    "# 2.3.1. MODELOS"
   ]
  },
  {
   "cell_type": "markdown",
   "id": "8f7a54d6",
   "metadata": {},
   "source": [
    "## REGRESIONES MENSUALES con s&p500"
   ]
  },
  {
   "cell_type": "code",
   "execution_count": 88,
   "id": "63ac867d",
   "metadata": {},
   "outputs": [],
   "source": [
    "X = syp_data_mensual[['rendimientos']]#x = sp500, SMB, HML estas somn los splines \n",
    "y = pd_data_monthly[['rendimientosNIKE']] #NIKE es la y"
   ]
  },
  {
   "cell_type": "code",
   "execution_count": 89,
   "id": "2f24fa2a",
   "metadata": {},
   "outputs": [],
   "source": [
    "#Dividimos el data frame en train y test, donde el train es un 70% de los datos totales\n",
    "from sklearn.model_selection import train_test_split\n",
    "\n",
    "X_train, X_test, y_train, y_test = train_test_split(X, y, test_size=0.3, random_state = 1)"
   ]
  },
  {
   "cell_type": "markdown",
   "id": "b3631997",
   "metadata": {},
   "source": [
    "### 2.3.1.1. REGRESION SIMPLE"
   ]
  },
  {
   "cell_type": "code",
   "execution_count": 90,
   "id": "a6db658d",
   "metadata": {},
   "outputs": [
    {
     "data": {
      "text/html": [
       "<style>#sk-container-id-5 {color: black;background-color: white;}#sk-container-id-5 pre{padding: 0;}#sk-container-id-5 div.sk-toggleable {background-color: white;}#sk-container-id-5 label.sk-toggleable__label {cursor: pointer;display: block;width: 100%;margin-bottom: 0;padding: 0.3em;box-sizing: border-box;text-align: center;}#sk-container-id-5 label.sk-toggleable__label-arrow:before {content: \"▸\";float: left;margin-right: 0.25em;color: #696969;}#sk-container-id-5 label.sk-toggleable__label-arrow:hover:before {color: black;}#sk-container-id-5 div.sk-estimator:hover label.sk-toggleable__label-arrow:before {color: black;}#sk-container-id-5 div.sk-toggleable__content {max-height: 0;max-width: 0;overflow: hidden;text-align: left;background-color: #f0f8ff;}#sk-container-id-5 div.sk-toggleable__content pre {margin: 0.2em;color: black;border-radius: 0.25em;background-color: #f0f8ff;}#sk-container-id-5 input.sk-toggleable__control:checked~div.sk-toggleable__content {max-height: 200px;max-width: 100%;overflow: auto;}#sk-container-id-5 input.sk-toggleable__control:checked~label.sk-toggleable__label-arrow:before {content: \"▾\";}#sk-container-id-5 div.sk-estimator input.sk-toggleable__control:checked~label.sk-toggleable__label {background-color: #d4ebff;}#sk-container-id-5 div.sk-label input.sk-toggleable__control:checked~label.sk-toggleable__label {background-color: #d4ebff;}#sk-container-id-5 input.sk-hidden--visually {border: 0;clip: rect(1px 1px 1px 1px);clip: rect(1px, 1px, 1px, 1px);height: 1px;margin: -1px;overflow: hidden;padding: 0;position: absolute;width: 1px;}#sk-container-id-5 div.sk-estimator {font-family: monospace;background-color: #f0f8ff;border: 1px dotted black;border-radius: 0.25em;box-sizing: border-box;margin-bottom: 0.5em;}#sk-container-id-5 div.sk-estimator:hover {background-color: #d4ebff;}#sk-container-id-5 div.sk-parallel-item::after {content: \"\";width: 100%;border-bottom: 1px solid gray;flex-grow: 1;}#sk-container-id-5 div.sk-label:hover label.sk-toggleable__label {background-color: #d4ebff;}#sk-container-id-5 div.sk-serial::before {content: \"\";position: absolute;border-left: 1px solid gray;box-sizing: border-box;top: 0;bottom: 0;left: 50%;z-index: 0;}#sk-container-id-5 div.sk-serial {display: flex;flex-direction: column;align-items: center;background-color: white;padding-right: 0.2em;padding-left: 0.2em;position: relative;}#sk-container-id-5 div.sk-item {position: relative;z-index: 1;}#sk-container-id-5 div.sk-parallel {display: flex;align-items: stretch;justify-content: center;background-color: white;position: relative;}#sk-container-id-5 div.sk-item::before, #sk-container-id-5 div.sk-parallel-item::before {content: \"\";position: absolute;border-left: 1px solid gray;box-sizing: border-box;top: 0;bottom: 0;left: 50%;z-index: -1;}#sk-container-id-5 div.sk-parallel-item {display: flex;flex-direction: column;z-index: 1;position: relative;background-color: white;}#sk-container-id-5 div.sk-parallel-item:first-child::after {align-self: flex-end;width: 50%;}#sk-container-id-5 div.sk-parallel-item:last-child::after {align-self: flex-start;width: 50%;}#sk-container-id-5 div.sk-parallel-item:only-child::after {width: 0;}#sk-container-id-5 div.sk-dashed-wrapped {border: 1px dashed gray;margin: 0 0.4em 0.5em 0.4em;box-sizing: border-box;padding-bottom: 0.4em;background-color: white;}#sk-container-id-5 div.sk-label label {font-family: monospace;font-weight: bold;display: inline-block;line-height: 1.2em;}#sk-container-id-5 div.sk-label-container {text-align: center;}#sk-container-id-5 div.sk-container {/* jupyter's `normalize.less` sets `[hidden] { display: none; }` but bootstrap.min.css set `[hidden] { display: none !important; }` so we also need the `!important` here to be able to override the default hidden behavior on the sphinx rendered scikit-learn.org. See: https://github.com/scikit-learn/scikit-learn/issues/21755 */display: inline-block !important;position: relative;}#sk-container-id-5 div.sk-text-repr-fallback {display: none;}</style><div id=\"sk-container-id-5\" class=\"sk-top-container\"><div class=\"sk-text-repr-fallback\"><pre>LinearRegression()</pre><b>In a Jupyter environment, please rerun this cell to show the HTML representation or trust the notebook. <br />On GitHub, the HTML representation is unable to render, please try loading this page with nbviewer.org.</b></div><div class=\"sk-container\" hidden><div class=\"sk-item\"><div class=\"sk-estimator sk-toggleable\"><input class=\"sk-toggleable__control sk-hidden--visually\" id=\"sk-estimator-id-5\" type=\"checkbox\" checked><label for=\"sk-estimator-id-5\" class=\"sk-toggleable__label sk-toggleable__label-arrow\">LinearRegression</label><div class=\"sk-toggleable__content\"><pre>LinearRegression()</pre></div></div></div></div></div>"
      ],
      "text/plain": [
       "LinearRegression()"
      ]
     },
     "execution_count": 90,
     "metadata": {},
     "output_type": "execute_result"
    }
   ],
   "source": [
    "from sklearn.linear_model import LinearRegression\n",
    "\n",
    "lm = LinearRegression()\n",
    "lm.fit(X_train,y_train)"
   ]
  },
  {
   "cell_type": "code",
   "execution_count": 91,
   "id": "300bf15d",
   "metadata": {},
   "outputs": [
    {
     "name": "stdout",
     "output_type": "stream",
     "text": [
      "[[0.93270286]]\n",
      "[0.00057043]\n"
     ]
    }
   ],
   "source": [
    "#lm.coef_ y lm.intercept_ definen la ecuación de la recta de regresión lineal, \n",
    "#la cual se utiliza para predecir los valores de la variable dependiente \n",
    "#en función de los valores de las variables predictoras.\n",
    "print(lm.coef_) #Beta\n",
    "print(lm.intercept_)"
   ]
  },
  {
   "cell_type": "code",
   "execution_count": 92,
   "id": "03282f58",
   "metadata": {},
   "outputs": [
    {
     "data": {
      "image/png": "[encoded data removed]",
      "text/plain": [
       "<Figure size 864x432 with 1 Axes>"
      ]
     },
     "metadata": {},
     "output_type": "display_data"
    }
   ],
   "source": [
    "sns.set_style('darkgrid') # Establece el estilo de trazado como 'darkgrid'\n",
    "plt.figure(figsize=(12,6)) # Establece el tamaño de la figura\n",
    "\n",
    "sns.regplot(y=y_train['rendimientosNIKE'], \n",
    "            x=X_train['rendimientos'], \n",
    "            ci=None, \n",
    "            line_kws={\"color\": \"red\"})\n",
    "\n",
    "plt.title('Rendimiento del Precio de cierre en función del rendimiento del mercado S&P500') # Establece el título del gráfico\n",
    "plt.xlabel('Rendimiento del mercado') # Establece la etiqueta del eje x\n",
    "plt.ylabel('Rendimiento del Precio de cierre de las acciones de NIKE') # Establece la etiqueta del eje y\n",
    "\n",
    "plt.show() # Muestra el gráfico"
   ]
  },
  {
   "cell_type": "code",
   "execution_count": 93,
   "id": "88bcc531",
   "metadata": {},
   "outputs": [
    {
     "name": "stderr",
     "output_type": "stream",
     "text": [
      "/Users/administrador/opt/anaconda3/envs/MachineDiego/lib/python3.9/site-packages/sklearn/base.py:493: FutureWarning: The feature names should match those that were passed during fit. Starting version 1.2, an error will be raised.\n",
      "Feature names unseen at fit time:\n",
      "- rendimientosNIKE\n",
      "Feature names seen at fit time, yet now missing:\n",
      "- rendimientos\n",
      "\n",
      "  warnings.warn(message, FutureWarning)\n",
      "/Users/administrador/opt/anaconda3/envs/MachineDiego/lib/python3.9/site-packages/sklearn/base.py:493: FutureWarning: The feature names should match those that were passed during fit. Starting version 1.2, an error will be raised.\n",
      "Feature names unseen at fit time:\n",
      "- rendimientosNIKE\n",
      "Feature names seen at fit time, yet now missing:\n",
      "- rendimientos\n",
      "\n",
      "  warnings.warn(message, FutureWarning)\n"
     ]
    },
    {
     "data": {
      "text/html": [
       "<div>\n",
       "<style scoped>\n",
       "    .dataframe tbody tr th:only-of-type {\n",
       "        vertical-align: middle;\n",
       "    }\n",
       "\n",
       "    .dataframe tbody tr th {\n",
       "        vertical-align: top;\n",
       "    }\n",
       "\n",
       "    .dataframe thead th {\n",
       "        text-align: right;\n",
       "    }\n",
       "</style>\n",
       "<table border=\"1\" class=\"dataframe\">\n",
       "  <thead>\n",
       "    <tr style=\"text-align: right;\">\n",
       "      <th></th>\n",
       "      <th>model</th>\n",
       "      <th>rmse_train</th>\n",
       "      <th>rmse_test</th>\n",
       "    </tr>\n",
       "  </thead>\n",
       "  <tbody>\n",
       "    <tr>\n",
       "      <th>0</th>\n",
       "      <td>Linear Model (lm)</td>\n",
       "      <td>0.002704</td>\n",
       "      <td>0.0029</td>\n",
       "    </tr>\n",
       "  </tbody>\n",
       "</table>\n",
       "</div>"
      ],
      "text/plain": [
       "               model  rmse_train  rmse_test\n",
       "0  Linear Model (lm)    0.002704     0.0029"
      ]
     },
     "execution_count": 93,
     "metadata": {},
     "output_type": "execute_result"
    }
   ],
   "source": [
    "# Training data\n",
    "pred_train = lm.predict(y_train)\n",
    "rmse_train = mean_squared_error(X_train, pred_train, squared=False)\n",
    "\n",
    "# Test data\n",
    "pred_test = lm.predict(y_test)\n",
    "rmse_test =mean_squared_error(X_test, pred_test, squared=False)\n",
    "\n",
    "# Save model results\n",
    "model_results_lm = pd.DataFrame(\n",
    "    {\n",
    "    \"model\": \"Linear Model (lm)\",  \n",
    "    \"rmse_train\": [rmse_train], \n",
    "    \"rmse_test\": [rmse_test],\n",
    "    })\n",
    "model_results_lm"
   ]
  },
  {
   "cell_type": "markdown",
   "id": "5cfda17e",
   "metadata": {},
   "source": [
    "### 2.3.1.2. POLYNOMIAL REGRESSION"
   ]
  },
  {
   "cell_type": "code",
   "execution_count": 94,
   "id": "7f30c567",
   "metadata": {},
   "outputs": [],
   "source": [
    "from sklearn.preprocessing import PolynomialFeatures\n",
    "# polynomial degree 2\n",
    "\n",
    "poly = PolynomialFeatures(2)\n",
    "X_train_poly = poly.fit_transform(X_train)\n",
    "X_test_poly = poly.fit_transform(X_test)"
   ]
  },
  {
   "cell_type": "code",
   "execution_count": 95,
   "id": "0b270acb",
   "metadata": {},
   "outputs": [
    {
     "data": {
      "text/html": [
       "<style>#sk-container-id-6 {color: black;background-color: white;}#sk-container-id-6 pre{padding: 0;}#sk-container-id-6 div.sk-toggleable {background-color: white;}#sk-container-id-6 label.sk-toggleable__label {cursor: pointer;display: block;width: 100%;margin-bottom: 0;padding: 0.3em;box-sizing: border-box;text-align: center;}#sk-container-id-6 label.sk-toggleable__label-arrow:before {content: \"▸\";float: left;margin-right: 0.25em;color: #696969;}#sk-container-id-6 label.sk-toggleable__label-arrow:hover:before {color: black;}#sk-container-id-6 div.sk-estimator:hover label.sk-toggleable__label-arrow:before {color: black;}#sk-container-id-6 div.sk-toggleable__content {max-height: 0;max-width: 0;overflow: hidden;text-align: left;background-color: #f0f8ff;}#sk-container-id-6 div.sk-toggleable__content pre {margin: 0.2em;color: black;border-radius: 0.25em;background-color: #f0f8ff;}#sk-container-id-6 input.sk-toggleable__control:checked~div.sk-toggleable__content {max-height: 200px;max-width: 100%;overflow: auto;}#sk-container-id-6 input.sk-toggleable__control:checked~label.sk-toggleable__label-arrow:before {content: \"▾\";}#sk-container-id-6 div.sk-estimator input.sk-toggleable__control:checked~label.sk-toggleable__label {background-color: #d4ebff;}#sk-container-id-6 div.sk-label input.sk-toggleable__control:checked~label.sk-toggleable__label {background-color: #d4ebff;}#sk-container-id-6 input.sk-hidden--visually {border: 0;clip: rect(1px 1px 1px 1px);clip: rect(1px, 1px, 1px, 1px);height: 1px;margin: -1px;overflow: hidden;padding: 0;position: absolute;width: 1px;}#sk-container-id-6 div.sk-estimator {font-family: monospace;background-color: #f0f8ff;border: 1px dotted black;border-radius: 0.25em;box-sizing: border-box;margin-bottom: 0.5em;}#sk-container-id-6 div.sk-estimator:hover {background-color: #d4ebff;}#sk-container-id-6 div.sk-parallel-item::after {content: \"\";width: 100%;border-bottom: 1px solid gray;flex-grow: 1;}#sk-container-id-6 div.sk-label:hover label.sk-toggleable__label {background-color: #d4ebff;}#sk-container-id-6 div.sk-serial::before {content: \"\";position: absolute;border-left: 1px solid gray;box-sizing: border-box;top: 0;bottom: 0;left: 50%;z-index: 0;}#sk-container-id-6 div.sk-serial {display: flex;flex-direction: column;align-items: center;background-color: white;padding-right: 0.2em;padding-left: 0.2em;position: relative;}#sk-container-id-6 div.sk-item {position: relative;z-index: 1;}#sk-container-id-6 div.sk-parallel {display: flex;align-items: stretch;justify-content: center;background-color: white;position: relative;}#sk-container-id-6 div.sk-item::before, #sk-container-id-6 div.sk-parallel-item::before {content: \"\";position: absolute;border-left: 1px solid gray;box-sizing: border-box;top: 0;bottom: 0;left: 50%;z-index: -1;}#sk-container-id-6 div.sk-parallel-item {display: flex;flex-direction: column;z-index: 1;position: relative;background-color: white;}#sk-container-id-6 div.sk-parallel-item:first-child::after {align-self: flex-end;width: 50%;}#sk-container-id-6 div.sk-parallel-item:last-child::after {align-self: flex-start;width: 50%;}#sk-container-id-6 div.sk-parallel-item:only-child::after {width: 0;}#sk-container-id-6 div.sk-dashed-wrapped {border: 1px dashed gray;margin: 0 0.4em 0.5em 0.4em;box-sizing: border-box;padding-bottom: 0.4em;background-color: white;}#sk-container-id-6 div.sk-label label {font-family: monospace;font-weight: bold;display: inline-block;line-height: 1.2em;}#sk-container-id-6 div.sk-label-container {text-align: center;}#sk-container-id-6 div.sk-container {/* jupyter's `normalize.less` sets `[hidden] { display: none; }` but bootstrap.min.css set `[hidden] { display: none !important; }` so we also need the `!important` here to be able to override the default hidden behavior on the sphinx rendered scikit-learn.org. See: https://github.com/scikit-learn/scikit-learn/issues/21755 */display: inline-block !important;position: relative;}#sk-container-id-6 div.sk-text-repr-fallback {display: none;}</style><div id=\"sk-container-id-6\" class=\"sk-top-container\"><div class=\"sk-text-repr-fallback\"><pre>LinearRegression()</pre><b>In a Jupyter environment, please rerun this cell to show the HTML representation or trust the notebook. <br />On GitHub, the HTML representation is unable to render, please try loading this page with nbviewer.org.</b></div><div class=\"sk-container\" hidden><div class=\"sk-item\"><div class=\"sk-estimator sk-toggleable\"><input class=\"sk-toggleable__control sk-hidden--visually\" id=\"sk-estimator-id-6\" type=\"checkbox\" checked><label for=\"sk-estimator-id-6\" class=\"sk-toggleable__label sk-toggleable__label-arrow\">LinearRegression</label><div class=\"sk-toggleable__content\"><pre>LinearRegression()</pre></div></div></div></div></div>"
      ],
      "text/plain": [
       "LinearRegression()"
      ]
     },
     "execution_count": 95,
     "metadata": {},
     "output_type": "execute_result"
    }
   ],
   "source": [
    "pm = LinearRegression()\n",
    "pm.fit(X_train_poly,y_train)"
   ]
  },
  {
   "cell_type": "code",
   "execution_count": 96,
   "id": "d0a6aecd",
   "metadata": {},
   "outputs": [
    {
     "data": {
      "image/png": "[encoded data removed]",
      "text/plain": [
       "<Figure size 864x432 with 1 Axes>"
      ]
     },
     "metadata": {},
     "output_type": "display_data"
    }
   ],
   "source": [
    "#Gráfico\n",
    "sns.set_style('darkgrid') # Establece el estilo de trazado como 'darkgrid'\n",
    "plt.figure(figsize=(12,6)) # Establece el tamaño de la figura\n",
    "# plot\n",
    "sns.regplot(y=y_train['rendimientosNIKE'], \n",
    "            x=X_train['rendimientos'], \n",
    "            ci=None, \n",
    "            order=2, \n",
    "            line_kws={\"color\": \"red\"});\n",
    "plt.title('Rendimiento del Precio de cierre en función del rendimiento del mercado S&P500') # Establece el título del gráfico\n",
    "plt.xlabel('Rendimiento del mercado') # Establece la etiqueta del eje x\n",
    "plt.ylabel('Rendimiento del Precio de apertura de las acciones de NIKE') # Establece la etiqueta del eje y\n",
    "\n",
    "plt.show() # Muestra el gráfico"
   ]
  },
  {
   "cell_type": "code",
   "execution_count": 97,
   "id": "95798586",
   "metadata": {},
   "outputs": [
    {
     "name": "stdout",
     "output_type": "stream",
     "text": [
      "[[ 0.          0.95740851 47.95626698]]\n"
     ]
    }
   ],
   "source": [
    "# Obtener los coeficientes del modelo\n",
    "coeficientes_polynomial = pm.coef_\n",
    "\n",
    "print(coeficientes_polynomial)"
   ]
  },
  {
   "cell_type": "code",
   "execution_count": 98,
   "id": "82969f8e",
   "metadata": {},
   "outputs": [
    {
     "data": {
      "text/html": [
       "<div>\n",
       "<style scoped>\n",
       "    .dataframe tbody tr th:only-of-type {\n",
       "        vertical-align: middle;\n",
       "    }\n",
       "\n",
       "    .dataframe tbody tr th {\n",
       "        vertical-align: top;\n",
       "    }\n",
       "\n",
       "    .dataframe thead th {\n",
       "        text-align: right;\n",
       "    }\n",
       "</style>\n",
       "<table border=\"1\" class=\"dataframe\">\n",
       "  <thead>\n",
       "    <tr style=\"text-align: right;\">\n",
       "      <th></th>\n",
       "      <th>model</th>\n",
       "      <th>rmse_train</th>\n",
       "      <th>rmse_test</th>\n",
       "    </tr>\n",
       "  </thead>\n",
       "  <tbody>\n",
       "    <tr>\n",
       "      <th>0</th>\n",
       "      <td>Linear Model (lm)</td>\n",
       "      <td>0.002704</td>\n",
       "      <td>0.002900</td>\n",
       "    </tr>\n",
       "    <tr>\n",
       "      <th>0</th>\n",
       "      <td>Polynomial Model (pm)</td>\n",
       "      <td>0.002639</td>\n",
       "      <td>0.003275</td>\n",
       "    </tr>\n",
       "  </tbody>\n",
       "</table>\n",
       "</div>"
      ],
      "text/plain": [
       "                   model  rmse_train  rmse_test\n",
       "0      Linear Model (lm)    0.002704   0.002900\n",
       "0  Polynomial Model (pm)    0.002639   0.003275"
      ]
     },
     "execution_count": 98,
     "metadata": {},
     "output_type": "execute_result"
    }
   ],
   "source": [
    "# Training data\n",
    "\n",
    "pred_train = pm.predict(X_train_poly) \n",
    "rmse_train = mean_squared_error(y_train, \n",
    "                                pred_train, \n",
    "                                squared=False)\n",
    "\n",
    "# Test data\n",
    "pred_test = pm.predict(X_test_poly)\n",
    "rmse_test =mean_squared_error(y_test, \n",
    "                              pred_test, \n",
    "                              squared=False)\n",
    "\n",
    "# Save model results\n",
    "model_results_pm = pd.DataFrame(\n",
    "    {\n",
    "    \"model\": \"Polynomial Model (pm)\",  \n",
    "    \"rmse_train\": [rmse_train], \n",
    "    \"rmse_test\": [rmse_test],\n",
    "    })\n",
    "\n",
    "results = pd.concat([model_results_lm, model_results_pm], axis=0)\n",
    "results"
   ]
  },
  {
   "cell_type": "markdown",
   "id": "1fc8ccb9",
   "metadata": {},
   "source": [
    "### 2.3.1.3. CUBIC SPLINES"
   ]
  },
  {
   "cell_type": "code",
   "execution_count": 99,
   "id": "eedb22a7",
   "metadata": {},
   "outputs": [],
   "source": [
    "from patsy import dmatrix\n",
    "# Generación de spline cúbico con 3 nudos a 25, 50 y 75\n",
    "knots = np.percentile(X_train, [25, 50, 75])\n",
    "transformed_x = dmatrix(\n",
    "            \"bs(train, knots=knots, degree=3, include_intercept=False)\", \n",
    "                {\"train\": X_train},return_type='dataframe') "
   ]
  },
  {
   "cell_type": "code",
   "execution_count": 100,
   "id": "b45ef3f6",
   "metadata": {},
   "outputs": [
    {
     "data": {
      "text/html": [
       "<div>\n",
       "<style scoped>\n",
       "    .dataframe tbody tr th:only-of-type {\n",
       "        vertical-align: middle;\n",
       "    }\n",
       "\n",
       "    .dataframe tbody tr th {\n",
       "        vertical-align: top;\n",
       "    }\n",
       "\n",
       "    .dataframe thead th {\n",
       "        text-align: right;\n",
       "    }\n",
       "</style>\n",
       "<table border=\"1\" class=\"dataframe\">\n",
       "  <thead>\n",
       "    <tr style=\"text-align: right;\">\n",
       "      <th></th>\n",
       "      <th>Intercept</th>\n",
       "      <th>bs(train, knots=knots, degree=3, include_intercept=False)[0]</th>\n",
       "      <th>bs(train, knots=knots, degree=3, include_intercept=False)[1]</th>\n",
       "      <th>bs(train, knots=knots, degree=3, include_intercept=False)[2]</th>\n",
       "      <th>bs(train, knots=knots, degree=3, include_intercept=False)[3]</th>\n",
       "      <th>bs(train, knots=knots, degree=3, include_intercept=False)[4]</th>\n",
       "      <th>bs(train, knots=knots, degree=3, include_intercept=False)[5]</th>\n",
       "    </tr>\n",
       "  </thead>\n",
       "  <tbody>\n",
       "    <tr>\n",
       "      <th>135</th>\n",
       "      <td>1.0</td>\n",
       "      <td>0.001236</td>\n",
       "      <td>0.147633</td>\n",
       "      <td>0.807875</td>\n",
       "      <td>0.043255</td>\n",
       "      <td>0.000000</td>\n",
       "      <td>0.000000</td>\n",
       "    </tr>\n",
       "    <tr>\n",
       "      <th>77</th>\n",
       "      <td>1.0</td>\n",
       "      <td>0.000000</td>\n",
       "      <td>0.000000</td>\n",
       "      <td>0.435957</td>\n",
       "      <td>0.503459</td>\n",
       "      <td>0.060577</td>\n",
       "      <td>0.000007</td>\n",
       "    </tr>\n",
       "    <tr>\n",
       "      <th>18</th>\n",
       "      <td>1.0</td>\n",
       "      <td>0.336901</td>\n",
       "      <td>0.465945</td>\n",
       "      <td>0.154630</td>\n",
       "      <td>0.000000</td>\n",
       "      <td>0.000000</td>\n",
       "      <td>0.000000</td>\n",
       "    </tr>\n",
       "    <tr>\n",
       "      <th>48</th>\n",
       "      <td>1.0</td>\n",
       "      <td>0.000000</td>\n",
       "      <td>0.000000</td>\n",
       "      <td>0.276676</td>\n",
       "      <td>0.552315</td>\n",
       "      <td>0.167153</td>\n",
       "      <td>0.003855</td>\n",
       "    </tr>\n",
       "    <tr>\n",
       "      <th>4</th>\n",
       "      <td>1.0</td>\n",
       "      <td>0.332709</td>\n",
       "      <td>0.468532</td>\n",
       "      <td>0.157857</td>\n",
       "      <td>0.000000</td>\n",
       "      <td>0.000000</td>\n",
       "      <td>0.000000</td>\n",
       "    </tr>\n",
       "  </tbody>\n",
       "</table>\n",
       "</div>"
      ],
      "text/plain": [
       "     Intercept  bs(train, knots=knots, degree=3, include_intercept=False)[0]  \\\n",
       "135        1.0                                           0.001236              \n",
       "77         1.0                                           0.000000              \n",
       "18         1.0                                           0.336901              \n",
       "48         1.0                                           0.000000              \n",
       "4          1.0                                           0.332709              \n",
       "\n",
       "     bs(train, knots=knots, degree=3, include_intercept=False)[1]  \\\n",
       "135                                           0.147633              \n",
       "77                                            0.000000              \n",
       "18                                            0.465945              \n",
       "48                                            0.000000              \n",
       "4                                             0.468532              \n",
       "\n",
       "     bs(train, knots=knots, degree=3, include_intercept=False)[2]  \\\n",
       "135                                           0.807875              \n",
       "77                                            0.435957              \n",
       "18                                            0.154630              \n",
       "48                                            0.276676              \n",
       "4                                             0.157857              \n",
       "\n",
       "     bs(train, knots=knots, degree=3, include_intercept=False)[3]  \\\n",
       "135                                           0.043255              \n",
       "77                                            0.503459              \n",
       "18                                            0.000000              \n",
       "48                                            0.552315              \n",
       "4                                             0.000000              \n",
       "\n",
       "     bs(train, knots=knots, degree=3, include_intercept=False)[4]  \\\n",
       "135                                           0.000000              \n",
       "77                                            0.060577              \n",
       "18                                            0.000000              \n",
       "48                                            0.167153              \n",
       "4                                             0.000000              \n",
       "\n",
       "     bs(train, knots=knots, degree=3, include_intercept=False)[5]  \n",
       "135                                           0.000000             \n",
       "77                                            0.000007             \n",
       "18                                            0.000000             \n",
       "48                                            0.003855             \n",
       "4                                             0.000000             "
      ]
     },
     "execution_count": 100,
     "metadata": {},
     "output_type": "execute_result"
    }
   ],
   "source": [
    "transformed_x.head()"
   ]
  },
  {
   "cell_type": "code",
   "execution_count": 101,
   "id": "fec33eed",
   "metadata": {},
   "outputs": [],
   "source": [
    "import statsmodels.api as sm\n",
    "# Ajuste del modelo lineal generalizado en el conjunto de datos transformado\n",
    "cs = sm.GLM(y_train, transformed_x).fit() "
   ]
  },
  {
   "cell_type": "code",
   "execution_count": 102,
   "id": "e3eecde4",
   "metadata": {},
   "outputs": [
    {
     "data": {
      "image/png": "[encoded data removed]",
      "text/plain": [
       "<Figure size 864x432 with 1 Axes>"
      ]
     },
     "metadata": {},
     "output_type": "display_data"
    }
   ],
   "source": [
    "sns.set_style('darkgrid') # Establece el estilo de trazado como 'darkgrid'\n",
    "plt.figure(figsize=(12,6)) # Establece el tamaño de la figura\n",
    "\n",
    "# Create observations\n",
    "xp = np.linspace(X_test.min(),X_test.max(), 100) \n",
    "# Make some predictions\n",
    "pred = cs.predict(dmatrix(\"bs(xp, knots=knots, include_intercept=False)\", {\"xp\": xp}, return_type='dataframe'))\n",
    "\n",
    "# plot\n",
    "sns.scatterplot(y=y_train['rendimientosNIKE'], x=X_train['rendimientos'])\n",
    "\n",
    "plt.plot(xp, pred, label='Cubic spline with degree=3 (3 knots)', color='red')\n",
    "plt.legend();\n",
    "\n",
    "plt.title('Rendimiento del Precio de cierre en función del rendimiento del mercado S&P500') # Establece el título del gráfico\n",
    "plt.xlabel('Rendimientos del mercado') # Establece la etiqueta del eje x\n",
    "plt.ylabel('Rendimiento del Precio de cierre de las acciones de NIKE') # Establece la etiqueta del eje y\n",
    "\n",
    "plt.show() # Muestra el gráfico"
   ]
  },
  {
   "cell_type": "code",
   "execution_count": 103,
   "id": "eb7bce38",
   "metadata": {},
   "outputs": [
    {
     "name": "stdout",
     "output_type": "stream",
     "text": [
      "Beta para rendimientos: Intercept                                                      -0.002898\n",
      "bs(train, knots=knots, degree=3, include_intercept=False)[0]   -0.001803\n",
      "bs(train, knots=knots, degree=3, include_intercept=False)[1]    0.002206\n",
      "bs(train, knots=knots, degree=3, include_intercept=False)[2]    0.003759\n",
      "bs(train, knots=knots, degree=3, include_intercept=False)[3]    0.005174\n",
      "bs(train, knots=knots, degree=3, include_intercept=False)[4]    0.009477\n",
      "bs(train, knots=knots, degree=3, include_intercept=False)[5]    0.008647\n",
      "dtype: float64\n"
     ]
    }
   ],
   "source": [
    "coeficientes_cubic_spline = cs.params\n",
    "\n",
    "beta_rendimientos = coeficientes_cubic_spline\n",
    "print(\"Beta para rendimientos:\", beta_rendimientos)"
   ]
  },
  {
   "cell_type": "code",
   "execution_count": 104,
   "id": "29998714",
   "metadata": {},
   "outputs": [
    {
     "data": {
      "text/html": [
       "<div>\n",
       "<style scoped>\n",
       "    .dataframe tbody tr th:only-of-type {\n",
       "        vertical-align: middle;\n",
       "    }\n",
       "\n",
       "    .dataframe tbody tr th {\n",
       "        vertical-align: top;\n",
       "    }\n",
       "\n",
       "    .dataframe thead th {\n",
       "        text-align: right;\n",
       "    }\n",
       "</style>\n",
       "<table border=\"1\" class=\"dataframe\">\n",
       "  <thead>\n",
       "    <tr style=\"text-align: right;\">\n",
       "      <th></th>\n",
       "      <th>model</th>\n",
       "      <th>rmse_train</th>\n",
       "      <th>rmse_test</th>\n",
       "    </tr>\n",
       "  </thead>\n",
       "  <tbody>\n",
       "    <tr>\n",
       "      <th>0</th>\n",
       "      <td>Linear Model (lm)</td>\n",
       "      <td>0.002704</td>\n",
       "      <td>0.002900</td>\n",
       "    </tr>\n",
       "    <tr>\n",
       "      <th>0</th>\n",
       "      <td>Polynomial Model (pm)</td>\n",
       "      <td>0.002639</td>\n",
       "      <td>0.003275</td>\n",
       "    </tr>\n",
       "    <tr>\n",
       "      <th>0</th>\n",
       "      <td>Cubic spline (cs)</td>\n",
       "      <td>0.002627</td>\n",
       "      <td>0.003195</td>\n",
       "    </tr>\n",
       "  </tbody>\n",
       "</table>\n",
       "</div>"
      ],
      "text/plain": [
       "                   model  rmse_train  rmse_test\n",
       "0      Linear Model (lm)    0.002704   0.002900\n",
       "0  Polynomial Model (pm)    0.002639   0.003275\n",
       "0      Cubic spline (cs)    0.002627   0.003195"
      ]
     },
     "execution_count": 104,
     "metadata": {},
     "output_type": "execute_result"
    }
   ],
   "source": [
    "# Training data\n",
    "\n",
    "pred_train = cs.predict(dmatrix(\"bs(train, knots=knots, include_intercept=False)\", {\"train\": X_train}, return_type='dataframe'))#### CAMBIO ####\n",
    "rmse_train = mean_squared_error(y_train, pred_train, squared=False) \n",
    "\n",
    "# Test data\n",
    "pred_test = cs.predict(dmatrix(\"bs(test, knots=knots, include_intercept=False)\", {\"test\": X_test}, return_type='dataframe'))\n",
    "rmse_test =mean_squared_error(y_test, pred_test, squared=False)\n",
    "\n",
    "# Save model results\n",
    "model_results_cs = pd.DataFrame(\n",
    "    {\n",
    "    \"model\": \"Cubic spline (cs)\",  \n",
    "    \"rmse_train\": [rmse_train], \n",
    "    \"rmse_test\": [rmse_test]\n",
    "    })\n",
    "results = pd.concat([results, model_results_cs], axis=0)\n",
    "results"
   ]
  },
  {
   "cell_type": "markdown",
   "id": "d0ae6d79",
   "metadata": {},
   "source": [
    "### 2.3.1.4. NATURAL CUBIC SPLINES"
   ]
  },
  {
   "cell_type": "code",
   "execution_count": 105,
   "id": "6fac0128",
   "metadata": {},
   "outputs": [],
   "source": [
    "transformed_x3 = dmatrix(\"cr(train,df = 3)\", {\"train\": X_train}, return_type='dataframe')#### CAMBIO ####\n",
    "\n",
    "ncs = sm.GLM(y_train, transformed_x3).fit()"
   ]
  },
  {
   "cell_type": "code",
   "execution_count": 106,
   "id": "d44a7d63",
   "metadata": {},
   "outputs": [
    {
     "data": {
      "image/png": "[encoded data removed]",
      "text/plain": [
       "<Figure size 864x432 with 1 Axes>"
      ]
     },
     "metadata": {},
     "output_type": "display_data"
    }
   ],
   "source": [
    "sns.set_style('darkgrid') # Establece el estilo de trazado como 'darkgrid'\n",
    "plt.figure(figsize=(12,6)) # Establece el tamaño de la figura\n",
    "\n",
    "# Make predictions\n",
    "pred = ncs.predict(dmatrix(\"cr(xp, df=3)\", {\"xp\": xp}, return_type='dataframe'))\n",
    "\n",
    "# plot\n",
    "sns.scatterplot(y=y_train['rendimientosNIKE'], x=X_train['rendimientos'])\n",
    "plt.plot(xp, pred, color='red', label='Natural spline with df=3')\n",
    "plt.legend();\n",
    "\n",
    "plt.title('Rendimiento del Precio de cierre en función del rendimiento del mercado S&P500') # Establece el título del gráfico\n",
    "plt.xlabel('Rendimientos del mercado') # Establece la etiqueta del eje x\n",
    "plt.ylabel('Rendimiento del Precio de cierre de las acciones de NIKE') # Establece la etiqueta del eje y\n",
    "\n",
    "plt.show() # Muestra el gráfico"
   ]
  },
  {
   "cell_type": "code",
   "execution_count": 107,
   "id": "24d004bf",
   "metadata": {},
   "outputs": [
    {
     "name": "stdout",
     "output_type": "stream",
     "text": [
      "Intercept             0.000889\n",
      "cr(train, df=3)[0]   -0.004778\n",
      "cr(train, df=3)[1]    0.000128\n",
      "cr(train, df=3)[2]    0.005540\n",
      "dtype: float64\n"
     ]
    }
   ],
   "source": [
    "# Obtener los coeficientes estimados (betas)\n",
    "coeficientes_beta = ncs.params\n",
    "\n",
    "print(coeficientes_beta)"
   ]
  },
  {
   "cell_type": "code",
   "execution_count": 108,
   "id": "d5d5d9e8",
   "metadata": {},
   "outputs": [
    {
     "data": {
      "text/html": [
       "<div>\n",
       "<style scoped>\n",
       "    .dataframe tbody tr th:only-of-type {\n",
       "        vertical-align: middle;\n",
       "    }\n",
       "\n",
       "    .dataframe tbody tr th {\n",
       "        vertical-align: top;\n",
       "    }\n",
       "\n",
       "    .dataframe thead th {\n",
       "        text-align: right;\n",
       "    }\n",
       "</style>\n",
       "<table border=\"1\" class=\"dataframe\">\n",
       "  <thead>\n",
       "    <tr style=\"text-align: right;\">\n",
       "      <th></th>\n",
       "      <th>model</th>\n",
       "      <th>rmse_train</th>\n",
       "      <th>rmse_test</th>\n",
       "    </tr>\n",
       "  </thead>\n",
       "  <tbody>\n",
       "    <tr>\n",
       "      <th>0</th>\n",
       "      <td>Linear Model (lm)</td>\n",
       "      <td>0.002704</td>\n",
       "      <td>0.002900</td>\n",
       "    </tr>\n",
       "    <tr>\n",
       "      <th>0</th>\n",
       "      <td>Polynomial Model (pm)</td>\n",
       "      <td>0.002639</td>\n",
       "      <td>0.003275</td>\n",
       "    </tr>\n",
       "    <tr>\n",
       "      <th>0</th>\n",
       "      <td>Cubic spline (cs)</td>\n",
       "      <td>0.002627</td>\n",
       "      <td>0.003195</td>\n",
       "    </tr>\n",
       "    <tr>\n",
       "      <th>0</th>\n",
       "      <td>Natural cubic spline (ncs)</td>\n",
       "      <td>0.002639</td>\n",
       "      <td>0.003192</td>\n",
       "    </tr>\n",
       "  </tbody>\n",
       "</table>\n",
       "</div>"
      ],
      "text/plain": [
       "                        model  rmse_train  rmse_test\n",
       "0           Linear Model (lm)    0.002704   0.002900\n",
       "0       Polynomial Model (pm)    0.002639   0.003275\n",
       "0           Cubic spline (cs)    0.002627   0.003195\n",
       "0  Natural cubic spline (ncs)    0.002639   0.003192"
      ]
     },
     "execution_count": 108,
     "metadata": {},
     "output_type": "execute_result"
    }
   ],
   "source": [
    "# Training data\n",
    "\n",
    "pred_train = ncs.predict(dmatrix(\"cr(train, df=3)\", {\"train\": X_train}, return_type='dataframe'))\n",
    "rmse_train = mean_squared_error(y_train, pred_train, squared=False) \n",
    "\n",
    "# Test data\n",
    "pred_test = ncs.predict(dmatrix(\"cr(test, df=3)\", {\"test\": X_test}, return_type='dataframe'))\n",
    "rmse_test =mean_squared_error(y_test, pred_test, squared=False)\n",
    "\n",
    "# Save model results\n",
    "model_results_ncs = pd.DataFrame(\n",
    "    {\n",
    "    \"model\": \"Natural cubic spline (ncs)\",  \n",
    "    \"rmse_train\": [rmse_train], \n",
    "    \"rmse_test\": [rmse_test]\n",
    "    })\n",
    "\n",
    "results = pd.concat([results, model_results_ncs], axis=0)\n",
    "results"
   ]
  },
  {
   "cell_type": "markdown",
   "id": "efd9ee83",
   "metadata": {},
   "source": [
    "## 2.3.2. CONCLUSION"
   ]
  },
  {
   "cell_type": "markdown",
   "id": "ecf8d517",
   "metadata": {},
   "source": [
    "Aquí está la interpretación de los resultados:\n",
    "\n",
    "-Linear Model (lm): En el conjunto de entrenamiento, este modelo de regresión lineal tiene un RMSE de aproximadamente 0.0027, y en el conjunto de prueba, el RMSE es de alrededor de 0.0029. Esto sugiere que el modelo es capaz de predecir los rendimientos mensuales con alta precisión.\n",
    "\n",
    "-Polynomial Model (pm): Este modelo de regresión polinómica muestra un rendimiento similar al modelo lineal. Tiene un RMSE de alrededor de 0.0026 en el conjunto de entrenamiento y 0.0033 en el conjunto de prueba. El modelo parece generalizar bien a nuevos datos, pero el aumento en el RMSE en el conjunto de prueba podría indicar una ligera sobreajuste.\n",
    "\n",
    "-Cubic spline (cs): El modelo de spline cúbico tiene un rendimiento sólido en este conjunto de datos. El RMSE es de aproximadamente 0.0026 en el conjunto de entrenamiento y 0.0032 en el conjunto de prueba. Esto indica que el modelo es capaz de capturar patrones mensuales en los rendimientos.\n",
    "\n",
    "-Natural cubic spline (ncs): Al igual que el modelo polinómico y el modelo de spline cúbico, el modelo de spline cúbico natural tiene un RMSE similar. El RMSE es de aproximadamente 0.0026 tanto en el conjunto de entrenamiento como en el conjunto de prueba.\n",
    "\n",
    "En resumen, todos los modelos muestran un excelente rendimiento en la predicción de los rendimientos mensuales. La diferencia en los RMSE entre los modelos es pequeña, lo que indica que tienen una capacidad similar para generalizar a nuevos datos mensuales."
   ]
  },
  {
   "cell_type": "code",
   "execution_count": null,
   "id": "84d3991b",
   "metadata": {},
   "outputs": [],
   "source": [
    "Betas del modelo CAMP\n",
    "Diario:\n",
    "    Regresión lineal: 0.97676669\n",
    "    Regresion polinomial: 0.          0.96650273 -0.87630216\n",
    "    Spline Cubico:\n",
    "        Beta para rendimientos: Intercept                      -0.129421\n",
    "bs(train, knots=knots, degree=3, include_intercept=False)[0]    0.051376\n",
    "bs(train, knots=knots, degree=3, include_intercept=False)[1]    0.084563\n",
    "bs(train, knots=knots, degree=3, include_intercept=False)[2]    0.130674\n",
    "bs(train, knots=knots, degree=3, include_intercept=False)[3]    0.158496\n",
    "bs(train, knots=knots, degree=3, include_intercept=False)[4]    0.212098\n",
    "bs(train, knots=knots, degree=3, include_intercept=False)[5]    0.157214\n",
    "\n",
    "    Spline Cubico natural:\n",
    "        Intercept    -0.013106\n",
    "cr(train, df=3)[0]   -0.121161\n",
    "cr(train, df=3)[1]    0.014107\n",
    "cr(train, df=3)[2]    0.093948\n",
    "\n",
    "semanal:\n",
    "    Regresión lineal:1.03487586\n",
    "    Regresion polinomial:0.         1.04355283 3.51666375\n",
    "    Spline Cubico:\n",
    "        Beta para rendimientos: Intercept                      -0.025581\n",
    "bs(train, knots=knots, degree=3, include_intercept=False)[0]    0.013911\n",
    "bs(train, knots=knots, degree=3, include_intercept=False)[1]    0.014242\n",
    "bs(train, knots=knots, degree=3, include_intercept=False)[2]    0.027075\n",
    "bs(train, knots=knots, degree=3, include_intercept=False)[3]    0.029533\n",
    "bs(train, knots=knots, degree=3, include_intercept=False)[4]    0.043980\n",
    "bs(train, knots=knots, degree=3, include_intercept=False)[5]    0.039007\n",
    "    Spline Cubico natural:\n",
    "        Intercept            -0.001384\n",
    "cr(train, df=3)[0]   -0.022092\n",
    "cr(train, df=3)[1]    0.002136\n",
    "cr(train, df=3)[2]    0.018572\n",
    "\n",
    "mensual:\n",
    "    Regresión lineal:0.93270286\n",
    "    Regresion polinomial:0.          0.95740851 47.95626698\n",
    "    Spline Cubico:\n",
    "        Beta para rendimientos: Intercept                      -0.002898\n",
    "bs(train, knots=knots, degree=3, include_intercept=False)[0]   -0.001803\n",
    "bs(train, knots=knots, degree=3, include_intercept=False)[1]    0.002206\n",
    "bs(train, knots=knots, degree=3, include_intercept=False)[2]    0.003759\n",
    "bs(train, knots=knots, degree=3, include_intercept=False)[3]    0.005174\n",
    "bs(train, knots=knots, degree=3, include_intercept=False)[4]    0.009477\n",
    "bs(train, knots=knots, degree=3, include_intercept=False)[5]    0.008647\n",
    "        \n",
    "    Spline Cubico natural:\n",
    "        Intercept     0.000889\n",
    "cr(train, df=3)[0]   -0.004778\n",
    "cr(train, df=3)[1]    0.000128\n",
    "cr(train, df=3)[2]    0.005540"
   ]
  }
 ],
 "metadata": {
  "kernelspec": {
   "display_name": "MachineDiego",
   "language": "python",
   "name": "machinediego"
  },
  "language_info": {
   "codemirror_mode": {
    "name": "ipython",
    "version": 3
   },
   "file_extension": ".py",
   "mimetype": "text/x-python",
   "name": "python",
   "nbconvert_exporter": "python",
   "pygments_lexer": "ipython3",
   "version": "3.9.15"
  }
 },
 "nbformat": 4,
 "nbformat_minor": 5
}
